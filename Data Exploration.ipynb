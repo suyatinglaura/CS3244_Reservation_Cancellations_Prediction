{
 "cells": [
  {
   "cell_type": "code",
   "execution_count": 5,
   "id": "b4e4dd48",
   "metadata": {},
   "outputs": [],
   "source": [
    "import pandas as pd"
   ]
  },
  {
   "cell_type": "code",
   "execution_count": 6,
   "id": "78cc20f9",
   "metadata": {},
   "outputs": [],
   "source": [
    "import matplotlib.pyplot as plt\n",
    "import seaborn as sns"
   ]
  },
  {
   "cell_type": "code",
   "execution_count": 7,
   "id": "96a34df3",
   "metadata": {},
   "outputs": [],
   "source": [
    "import datetime"
   ]
  },
  {
   "cell_type": "code",
   "execution_count": 8,
   "id": "1159766c",
   "metadata": {},
   "outputs": [],
   "source": [
    "books = pd.read_csv('books_data.csv')\n",
    "reviews = pd.read_csv('Books_rating.csv')"
   ]
  },
  {
   "cell_type": "code",
   "execution_count": 9,
   "id": "b33edceb",
   "metadata": {},
   "outputs": [
    {
     "data": {
      "text/plain": [
       "(212404, 10)"
      ]
     },
     "execution_count": 9,
     "metadata": {},
     "output_type": "execute_result"
    }
   ],
   "source": [
    "books.shape"
   ]
  },
  {
   "cell_type": "code",
   "execution_count": 10,
   "id": "4fa47e78",
   "metadata": {},
   "outputs": [
    {
     "data": {
      "text/plain": [
       "(3000000, 10)"
      ]
     },
     "execution_count": 10,
     "metadata": {},
     "output_type": "execute_result"
    }
   ],
   "source": [
    "reviews.shape"
   ]
  },
  {
   "cell_type": "markdown",
   "id": "e8282755",
   "metadata": {},
   "source": [
    "### Duplicates"
   ]
  },
  {
   "cell_type": "code",
   "execution_count": 11,
   "id": "062a4bb3",
   "metadata": {},
   "outputs": [
    {
     "data": {
      "text/plain": [
       "0"
      ]
     },
     "execution_count": 11,
     "metadata": {},
     "output_type": "execute_result"
    }
   ],
   "source": [
    "sum(books.duplicated())"
   ]
  },
  {
   "cell_type": "code",
   "execution_count": 12,
   "id": "05080781",
   "metadata": {},
   "outputs": [
    {
     "data": {
      "text/plain": [
       "8774"
      ]
     },
     "execution_count": 12,
     "metadata": {},
     "output_type": "execute_result"
    }
   ],
   "source": [
    "sum(reviews.duplicated())"
   ]
  },
  {
   "cell_type": "markdown",
   "id": "dc26eac5",
   "metadata": {},
   "source": [
    "#### Remove Duplicates"
   ]
  },
  {
   "cell_type": "code",
   "execution_count": 13,
   "id": "2ed9a52c",
   "metadata": {},
   "outputs": [],
   "source": [
    "reviews = reviews[~reviews.duplicated()].reset_index(drop=True)"
   ]
  },
  {
   "cell_type": "markdown",
   "id": "da56be42",
   "metadata": {},
   "source": [
    "### Missing Values"
   ]
  },
  {
   "cell_type": "code",
   "execution_count": 14,
   "id": "66b01e52",
   "metadata": {},
   "outputs": [
    {
     "data": {
      "text/plain": [
       "Title                 1\n",
       "description       68442\n",
       "authors           31413\n",
       "image             52075\n",
       "previewLink       23836\n",
       "publisher         75886\n",
       "publishedDate     25305\n",
       "infoLink          23836\n",
       "categories        41199\n",
       "ratingsCount     162652\n",
       "dtype: int64"
      ]
     },
     "execution_count": 14,
     "metadata": {},
     "output_type": "execute_result"
    }
   ],
   "source": [
    "books.isnull().sum()"
   ]
  },
  {
   "cell_type": "code",
   "execution_count": 15,
   "id": "d60c93fc",
   "metadata": {},
   "outputs": [],
   "source": [
    "books = books[~books['Title'].isnull()].reset_index(drop=True)"
   ]
  },
  {
   "cell_type": "code",
   "execution_count": 16,
   "id": "083d11b0",
   "metadata": {},
   "outputs": [
    {
     "data": {
      "text/plain": [
       "Id                          0\n",
       "Title                     208\n",
       "Price                 2510854\n",
       "User_id                558559\n",
       "profileName            558677\n",
       "review/helpfulness          0\n",
       "review/score                0\n",
       "review/time                 0\n",
       "review/summary            407\n",
       "review/text                 8\n",
       "dtype: int64"
      ]
     },
     "execution_count": 16,
     "metadata": {},
     "output_type": "execute_result"
    }
   ],
   "source": [
    "reviews.isnull().sum()"
   ]
  },
  {
   "cell_type": "markdown",
   "id": "f37e3217",
   "metadata": {},
   "source": [
    "#### Deal with Missing Values"
   ]
  },
  {
   "cell_type": "code",
   "execution_count": 17,
   "id": "01ca976f",
   "metadata": {},
   "outputs": [],
   "source": [
    "reviews = reviews[reviews[['Title', 'User_id', 'review/text']].isnull().sum(axis=1)==0].reset_index(drop=True)"
   ]
  },
  {
   "cell_type": "code",
   "execution_count": 18,
   "id": "d47f1261",
   "metadata": {},
   "outputs": [],
   "source": [
    "# remove invalid review time\n",
    "reviews = reviews[reviews['review/time']>0].reset_index(drop=True)"
   ]
  },
  {
   "cell_type": "markdown",
   "id": "4106a965",
   "metadata": {},
   "source": [
    "Depend on the features we use, remove NA rows, for example:\n",
    "1. remove NA review text as it is our main input\n",
    "2. remove NA user_id if we predict rating based on rating history"
   ]
  },
  {
   "cell_type": "markdown",
   "id": "843d4e89",
   "metadata": {},
   "source": [
    "### Pre-Processing"
   ]
  },
  {
   "cell_type": "code",
   "execution_count": 19,
   "id": "e3ac53c9",
   "metadata": {},
   "outputs": [],
   "source": [
    "reviews['review/time'] = reviews['review/time'].apply(lambda x: datetime.datetime.fromtimestamp(x))"
   ]
  },
  {
   "cell_type": "code",
   "execution_count": 20,
   "id": "234ade03",
   "metadata": {},
   "outputs": [],
   "source": [
    "reviews[['positive helpfulness', 'helpfulness']] = reviews.apply(lambda x: x['review/helpfulness'].split('/'), axis=1, result_type='expand')"
   ]
  },
  {
   "cell_type": "code",
   "execution_count": 21,
   "id": "c4c78bc5",
   "metadata": {},
   "outputs": [],
   "source": [
    "reviews['positive helpfulness'] = reviews['positive helpfulness'].apply(int)"
   ]
  },
  {
   "cell_type": "code",
   "execution_count": 22,
   "id": "82500637",
   "metadata": {},
   "outputs": [],
   "source": [
    "reviews['helpfulness'] = reviews['helpfulness'].apply(int)"
   ]
  },
  {
   "cell_type": "code",
   "execution_count": 23,
   "id": "27e0a808",
   "metadata": {},
   "outputs": [],
   "source": [
    "reviews = reviews.drop(columns = ['review/helpfulness'])"
   ]
  },
  {
   "cell_type": "markdown",
   "id": "52930e4d",
   "metadata": {},
   "source": [
    "### EDA"
   ]
  },
  {
   "cell_type": "markdown",
   "id": "f34f5e25",
   "metadata": {},
   "source": [
    "#### Unique Values"
   ]
  },
  {
   "cell_type": "code",
   "execution_count": 24,
   "id": "9787d26f",
   "metadata": {},
   "outputs": [
    {
     "data": {
      "text/plain": [
       "Title            212403\n",
       "description      133226\n",
       "authors          127277\n",
       "image            149386\n",
       "previewLink      188098\n",
       "publisher         16016\n",
       "publishedDate     11582\n",
       "infoLink         184505\n",
       "categories        10883\n",
       "ratingsCount        478\n",
       "dtype: int64"
      ]
     },
     "execution_count": 24,
     "metadata": {},
     "output_type": "execute_result"
    }
   ],
   "source": [
    "books.nunique()"
   ]
  },
  {
   "cell_type": "code",
   "execution_count": 25,
   "id": "3d489e32",
   "metadata": {},
   "outputs": [
    {
     "data": {
      "text/plain": [
       "Id                       216013\n",
       "Title                    206710\n",
       "Price                      5926\n",
       "User_id                 1008954\n",
       "profileName              854135\n",
       "review/score                  5\n",
       "review/time                5736\n",
       "review/summary          1308578\n",
       "review/text             1686351\n",
       "positive helpfulness        664\n",
       "helpfulness                 737\n",
       "dtype: int64"
      ]
     },
     "execution_count": 25,
     "metadata": {},
     "output_type": "execute_result"
    }
   ],
   "source": [
    "reviews.nunique()"
   ]
  },
  {
   "cell_type": "markdown",
   "id": "9a1479dd",
   "metadata": {},
   "source": [
    "#### Category Distribution"
   ]
  },
  {
   "cell_type": "code",
   "execution_count": 26,
   "id": "8656dbc4",
   "metadata": {},
   "outputs": [
    {
     "data": {
      "image/png": "[encoded data removed]",
      "text/plain": [
       "<Figure size 640x480 with 1 Axes>"
      ]
     },
     "metadata": {},
     "output_type": "display_data"
    }
   ],
   "source": [
    "sns.countplot(data=reviews, x=\"review/score\")\n",
    "plt.show()"
   ]
  },
  {
   "cell_type": "code",
   "execution_count": 36,
   "id": "211c7d03",
   "metadata": {},
   "outputs": [
    {
     "data": {
      "image/png": "[encoded data removed]",
      "text/plain": [
       "<Figure size 640x480 with 1 Axes>"
      ]
     },
     "metadata": {},
     "output_type": "display_data"
    }
   ],
   "source": [
    "sns.histplot(data=reviews, x=\"positive helpfulness\", bins=100)\n",
    "plt.show()"
   ]
  },
  {
   "cell_type": "markdown",
   "id": "0ac5040b",
   "metadata": {},
   "source": [
    "#### Deal with Data Imbalance"
   ]
  },
  {
   "cell_type": "markdown",
   "id": "4924c03f",
   "metadata": {},
   "source": [
    "#### Train-test split based on time or user or randomly?"
   ]
  }
 ],
 "metadata": {
  "kernelspec": {
   "display_name": "Python 3 (ipykernel)",
   "language": "python",
   "name": "python3"
  },
  "language_info": {
   "codemirror_mode": {
    "name": "ipython",
    "version": 3
   },
   "file_extension": ".py",
   "mimetype": "text/x-python",
   "name": "python",
   "nbconvert_exporter": "python",
   "pygments_lexer": "ipython3",
   "version": "3.10.0"
  }
 },
 "nbformat": 4,
 "nbformat_minor": 5
}
