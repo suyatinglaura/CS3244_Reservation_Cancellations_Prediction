{
 "cells": [
  {
   "cell_type": "code",
   "execution_count": 15,
   "id": "e5222ee8",
   "metadata": {},
   "outputs": [],
   "source": [
    "import pandas as pd"
   ]
  },
  {
   "cell_type": "code",
   "execution_count": 16,
   "id": "712e494d",
   "metadata": {},
   "outputs": [],
   "source": [
    "df = pd.read_csv(\"Data/Hotel Reservations.csv\")"
   ]
  },
  {
   "cell_type": "code",
   "execution_count": 17,
   "id": "b66d7147",
   "metadata": {},
   "outputs": [
    {
     "data": {
      "text/html": [
       "<div>\n",
       "<style scoped>\n",
       "    .dataframe tbody tr th:only-of-type {\n",
       "        vertical-align: middle;\n",
       "    }\n",
       "\n",
       "    .dataframe tbody tr th {\n",
       "        vertical-align: top;\n",
       "    }\n",
       "\n",
       "    .dataframe thead th {\n",
       "        text-align: right;\n",
       "    }\n",
       "</style>\n",
       "<table border=\"1\" class=\"dataframe\">\n",
       "  <thead>\n",
       "    <tr style=\"text-align: right;\">\n",
       "      <th></th>\n",
       "      <th>Booking_ID</th>\n",
       "      <th>no_of_adults</th>\n",
       "      <th>no_of_children</th>\n",
       "      <th>no_of_weekend_nights</th>\n",
       "      <th>no_of_week_nights</th>\n",
       "      <th>type_of_meal_plan</th>\n",
       "      <th>required_car_parking_space</th>\n",
       "      <th>room_type_reserved</th>\n",
       "      <th>lead_time</th>\n",
       "      <th>arrival_year</th>\n",
       "      <th>arrival_month</th>\n",
       "      <th>arrival_date</th>\n",
       "      <th>market_segment_type</th>\n",
       "      <th>repeated_guest</th>\n",
       "      <th>no_of_previous_cancellations</th>\n",
       "      <th>no_of_previous_bookings_not_canceled</th>\n",
       "      <th>avg_price_per_room</th>\n",
       "      <th>no_of_special_requests</th>\n",
       "      <th>booking_status</th>\n",
       "    </tr>\n",
       "  </thead>\n",
       "  <tbody>\n",
       "    <tr>\n",
       "      <th>0</th>\n",
       "      <td>INN00001</td>\n",
       "      <td>2</td>\n",
       "      <td>0</td>\n",
       "      <td>1</td>\n",
       "      <td>2</td>\n",
       "      <td>Meal Plan 1</td>\n",
       "      <td>0</td>\n",
       "      <td>Room_Type 1</td>\n",
       "      <td>224</td>\n",
       "      <td>2017</td>\n",
       "      <td>10</td>\n",
       "      <td>2</td>\n",
       "      <td>Offline</td>\n",
       "      <td>0</td>\n",
       "      <td>0</td>\n",
       "      <td>0</td>\n",
       "      <td>65.00</td>\n",
       "      <td>0</td>\n",
       "      <td>Not_Canceled</td>\n",
       "    </tr>\n",
       "    <tr>\n",
       "      <th>1</th>\n",
       "      <td>INN00002</td>\n",
       "      <td>2</td>\n",
       "      <td>0</td>\n",
       "      <td>2</td>\n",
       "      <td>3</td>\n",
       "      <td>Not Selected</td>\n",
       "      <td>0</td>\n",
       "      <td>Room_Type 1</td>\n",
       "      <td>5</td>\n",
       "      <td>2018</td>\n",
       "      <td>11</td>\n",
       "      <td>6</td>\n",
       "      <td>Online</td>\n",
       "      <td>0</td>\n",
       "      <td>0</td>\n",
       "      <td>0</td>\n",
       "      <td>106.68</td>\n",
       "      <td>1</td>\n",
       "      <td>Not_Canceled</td>\n",
       "    </tr>\n",
       "    <tr>\n",
       "      <th>2</th>\n",
       "      <td>INN00003</td>\n",
       "      <td>1</td>\n",
       "      <td>0</td>\n",
       "      <td>2</td>\n",
       "      <td>1</td>\n",
       "      <td>Meal Plan 1</td>\n",
       "      <td>0</td>\n",
       "      <td>Room_Type 1</td>\n",
       "      <td>1</td>\n",
       "      <td>2018</td>\n",
       "      <td>2</td>\n",
       "      <td>28</td>\n",
       "      <td>Online</td>\n",
       "      <td>0</td>\n",
       "      <td>0</td>\n",
       "      <td>0</td>\n",
       "      <td>60.00</td>\n",
       "      <td>0</td>\n",
       "      <td>Canceled</td>\n",
       "    </tr>\n",
       "    <tr>\n",
       "      <th>3</th>\n",
       "      <td>INN00004</td>\n",
       "      <td>2</td>\n",
       "      <td>0</td>\n",
       "      <td>0</td>\n",
       "      <td>2</td>\n",
       "      <td>Meal Plan 1</td>\n",
       "      <td>0</td>\n",
       "      <td>Room_Type 1</td>\n",
       "      <td>211</td>\n",
       "      <td>2018</td>\n",
       "      <td>5</td>\n",
       "      <td>20</td>\n",
       "      <td>Online</td>\n",
       "      <td>0</td>\n",
       "      <td>0</td>\n",
       "      <td>0</td>\n",
       "      <td>100.00</td>\n",
       "      <td>0</td>\n",
       "      <td>Canceled</td>\n",
       "    </tr>\n",
       "    <tr>\n",
       "      <th>4</th>\n",
       "      <td>INN00005</td>\n",
       "      <td>2</td>\n",
       "      <td>0</td>\n",
       "      <td>1</td>\n",
       "      <td>1</td>\n",
       "      <td>Not Selected</td>\n",
       "      <td>0</td>\n",
       "      <td>Room_Type 1</td>\n",
       "      <td>48</td>\n",
       "      <td>2018</td>\n",
       "      <td>4</td>\n",
       "      <td>11</td>\n",
       "      <td>Online</td>\n",
       "      <td>0</td>\n",
       "      <td>0</td>\n",
       "      <td>0</td>\n",
       "      <td>94.50</td>\n",
       "      <td>0</td>\n",
       "      <td>Canceled</td>\n",
       "    </tr>\n",
       "  </tbody>\n",
       "</table>\n",
       "</div>"
      ],
      "text/plain": [
       "  Booking_ID  no_of_adults  no_of_children  no_of_weekend_nights  \\\n",
       "0   INN00001             2               0                     1   \n",
       "1   INN00002             2               0                     2   \n",
       "2   INN00003             1               0                     2   \n",
       "3   INN00004             2               0                     0   \n",
       "4   INN00005             2               0                     1   \n",
       "\n",
       "   no_of_week_nights type_of_meal_plan  required_car_parking_space  \\\n",
       "0                  2       Meal Plan 1                           0   \n",
       "1                  3      Not Selected                           0   \n",
       "2                  1       Meal Plan 1                           0   \n",
       "3                  2       Meal Plan 1                           0   \n",
       "4                  1      Not Selected                           0   \n",
       "\n",
       "  room_type_reserved  lead_time  arrival_year  arrival_month  arrival_date  \\\n",
       "0        Room_Type 1        224          2017             10             2   \n",
       "1        Room_Type 1          5          2018             11             6   \n",
       "2        Room_Type 1          1          2018              2            28   \n",
       "3        Room_Type 1        211          2018              5            20   \n",
       "4        Room_Type 1         48          2018              4            11   \n",
       "\n",
       "  market_segment_type  repeated_guest  no_of_previous_cancellations  \\\n",
       "0             Offline               0                             0   \n",
       "1              Online               0                             0   \n",
       "2              Online               0                             0   \n",
       "3              Online               0                             0   \n",
       "4              Online               0                             0   \n",
       "\n",
       "   no_of_previous_bookings_not_canceled  avg_price_per_room  \\\n",
       "0                                     0               65.00   \n",
       "1                                     0              106.68   \n",
       "2                                     0               60.00   \n",
       "3                                     0              100.00   \n",
       "4                                     0               94.50   \n",
       "\n",
       "   no_of_special_requests booking_status  \n",
       "0                       0   Not_Canceled  \n",
       "1                       1   Not_Canceled  \n",
       "2                       0       Canceled  \n",
       "3                       0       Canceled  \n",
       "4                       0       Canceled  "
      ]
     },
     "execution_count": 17,
     "metadata": {},
     "output_type": "execute_result"
    }
   ],
   "source": [
    "df.head(5)"
   ]
  },
  {
   "cell_type": "code",
   "execution_count": 18,
   "id": "2fb5a9df",
   "metadata": {},
   "outputs": [
    {
     "data": {
      "text/plain": [
       "(36275, 19)"
      ]
     },
     "execution_count": 18,
     "metadata": {},
     "output_type": "execute_result"
    }
   ],
   "source": [
    "# show rows and columns of dataset\n",
    "df.shape"
   ]
  },
  {
   "cell_type": "code",
   "execution_count": 19,
   "id": "422ec38d",
   "metadata": {},
   "outputs": [
    {
     "data": {
      "text/plain": [
       "Booking_ID                              36275\n",
       "no_of_adults                                5\n",
       "no_of_children                              6\n",
       "no_of_weekend_nights                        8\n",
       "no_of_week_nights                          18\n",
       "type_of_meal_plan                           4\n",
       "required_car_parking_space                  2\n",
       "room_type_reserved                          7\n",
       "lead_time                                 352\n",
       "arrival_year                                2\n",
       "arrival_month                              12\n",
       "arrival_date                               31\n",
       "market_segment_type                         5\n",
       "repeated_guest                              2\n",
       "no_of_previous_cancellations                9\n",
       "no_of_previous_bookings_not_canceled       59\n",
       "avg_price_per_room                       3930\n",
       "no_of_special_requests                      6\n",
       "booking_status                              2\n",
       "dtype: int64"
      ]
     },
     "execution_count": 19,
     "metadata": {},
     "output_type": "execute_result"
    }
   ],
   "source": [
    "# find unique values \n",
    "df.nunique()"
   ]
  },
  {
   "cell_type": "code",
   "execution_count": 20,
   "id": "3dcd005e",
   "metadata": {},
   "outputs": [
    {
     "name": "stdout",
     "output_type": "stream",
     "text": [
      "No missing values detected in the dataset.\n"
     ]
    }
   ],
   "source": [
    "# detect missing values\n",
    "missing_values = df.isnull().sum()\n",
    "missing_values = missing_values[missing_values > 0]\n",
    "\n",
    "# display missing values\n",
    "if not missing_values.empty:\n",
    "    print(\"Number of missing values for each feature:\")\n",
    "    print(missing_values)\n",
    "else:\n",
    "    print(\"No missing values detected in the dataset.\")"
   ]
  },
  {
   "cell_type": "code",
   "execution_count": 21,
   "id": "9a19e127",
   "metadata": {},
   "outputs": [],
   "source": [
    "# deal with special characters on categorical data\n",
    "cat_columns = df.select_dtypes(['object']).columns\n",
    "for col in cat_columns:\n",
    "    # remove white spaces, lower\n",
    "    df[col] = df[col].str.strip()\n",
    "    df[col] = df[col].str.lower()\n",
    "\n",
    "    # replace all special characters except alphanumerics, spaces, and dashes\n",
    "    df[col] = df[col].str.replace('[^a-zA-Z0-9\\s_]', '', regex=True)"
   ]
  },
  {
   "cell_type": "code",
   "execution_count": 22,
   "id": "e58a2eec",
   "metadata": {},
   "outputs": [],
   "source": [
    "# drop duplicate rows\n",
    "df.drop_duplicates(inplace=True)"
   ]
  },
  {
   "cell_type": "code",
   "execution_count": 23,
   "id": "a401f151",
   "metadata": {},
   "outputs": [
    {
     "name": "stdout",
     "output_type": "stream",
     "text": [
      "no_of_adults contains other data type.\n",
      "no_of_children contains other data type.\n",
      "no_of_weekend_nights contains other data type.\n",
      "no_of_week_nights contains other data type.\n",
      "lead_time contains other data type.\n",
      "no_of_previous_cancellations contains other data type.\n",
      "no_of_previous_bookings_not_canceled contains other data type.\n",
      "no_of_special_requests contains other data type.\n"
     ]
    }
   ],
   "source": [
    "# check if 'no_of_adults', 'no_of_children', 'no_of_weekend_nights', 'no_of_week_nights', 'lead_time',\n",
    "# 'no_of_previous_cancellations', 'no_of_previous_bookings_not_canceled', 'no_of_special_requests' \n",
    "# are non-negative integer\n",
    "columns_to_check = ['no_of_adults', 'no_of_children', 'no_of_weekend_nights', 'no_of_week_nights', \n",
    "                    'lead_time', 'no_of_previous_cancellations', 'no_of_previous_bookings_not_canceled', \n",
    "                    'no_of_special_requests']\n",
    "\n",
    "for col in columns_to_check:\n",
    "    if df[col].dtype == 'int' and (df[col] >= 0).all():\n",
    "        print(f\"{col} contains only non-negative integer.\")\n",
    "    else:\n",
    "        print(f\"{col} contains other data type.\")"
   ]
  },
  {
   "cell_type": "code",
   "execution_count": 24,
   "id": "0a46548f",
   "metadata": {},
   "outputs": [
    {
     "name": "stdout",
     "output_type": "stream",
     "text": [
      "required_car_parking_space contains binary values.\n",
      "repeated_guest contains binary values.\n"
     ]
    }
   ],
   "source": [
    "# check if 'required_car_parking_space', 'repeated_guest', contains binary values\n",
    "binary_columns = ['required_car_parking_space', 'repeated_guest']\n",
    "for col in binary_columns:\n",
    "    if set(df[col].unique()) == {0, 1}:\n",
    "        print(f\"{col} contains binary values.\")\n",
    "    else:\n",
    "        print(f\"{col} does not contain binary values.\")"
   ]
  },
  {
   "cell_type": "code",
   "execution_count": 25,
   "id": "92242bb2",
   "metadata": {},
   "outputs": [
    {
     "name": "stdout",
     "output_type": "stream",
     "text": [
      "Invalide date exits.\n",
      "All dates are valid.\n"
     ]
    }
   ],
   "source": [
    "# check if the columns 'arrival_year', 'arrival_month', and 'arrival_date' contain valid dates\n",
    "df['arrival_y_m_d'] = df['arrival_year'].astype(str) + '-' + df['arrival_month'].astype(str) + '-' + df['arrival_date'].astype(str)\n",
    "\n",
    "# convert the combined column to datetime\n",
    "df['arrival_y_m_d'] = pd.to_datetime(df['arrival_y_m_d'], errors='coerce')\n",
    "\n",
    "# check if there are any NaT (Not a Time) values, indicating invalid dates\n",
    "if df['arrival_y_m_d'].isnull().any():\n",
    "    print(\"Invalide date exits.\")\n",
    "else:\n",
    "    print(\"All dates are valid.\")\n",
    "\n",
    "# remove invalid dates\n",
    "df = df[~df['arrival_y_m_d'].isnull()]\n",
    "\n",
    "# check again\n",
    "if df['arrival_y_m_d'].isnull().any():\n",
    "    print(\"Invalide date exits.\")\n",
    "else:\n",
    "    print(\"All dates are valid.\")\n",
    "    \n",
    "df.drop('arrival_y_m_d', axis=1, inplace=True)"
   ]
  },
  {
   "cell_type": "code",
   "execution_count": 26,
   "id": "23f88fd5",
   "metadata": {},
   "outputs": [
    {
     "name": "stdout",
     "output_type": "stream",
     "text": [
      "Unique values in column 'type_of_meal_plan': ['meal plan 1' 'not selected' 'meal plan 2' 'meal plan 3']\n",
      "Unique values in column 'room_type_reserved': ['room_type 1' 'room_type 4' 'room_type 2' 'room_type 6' 'room_type 5'\n",
      " 'room_type 7' 'room_type 3']\n",
      "Unique values in column 'market_segment_type': ['offline' 'online' 'corporate' 'aviation' 'complementary']\n",
      "Unique values in column 'booking_status': ['not_canceled' 'canceled']\n"
     ]
    }
   ],
   "source": [
    "# check the unique values in categorical variables \n",
    "cat_columns = df.select_dtypes(['object']).columns[1:] # exclude booking_id\n",
    "for col in cat_columns:\n",
    "    unique_values = df[col].unique()\n",
    "    print(f\"Unique values in column '{col}': {unique_values}\")"
   ]
  },
  {
   "cell_type": "code",
   "execution_count": 27,
   "id": "0cf5c5c9",
   "metadata": {},
   "outputs": [],
   "source": [
    "df.to_csv('Data/cleaned.csv', index=False)"
   ]
  }
 ],
 "metadata": {
  "kernelspec": {
   "display_name": "Python 3 (ipykernel)",
   "language": "python",
   "name": "python3"
  },
  "language_info": {
   "codemirror_mode": {
    "name": "ipython",
    "version": 3
   },
   "file_extension": ".py",
   "mimetype": "text/x-python",
   "name": "python",
   "nbconvert_exporter": "python",
   "pygments_lexer": "ipython3",
   "version": "3.10.0"
  }
 },
 "nbformat": 4,
 "nbformat_minor": 5
}
