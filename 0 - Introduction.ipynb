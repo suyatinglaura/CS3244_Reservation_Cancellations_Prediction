{
 "cells": [
  {
   "cell_type": "markdown",
   "id": "f58748ec",
   "metadata": {},
   "source": [
    "# Predicting Hotel Reservation Cancellations"
   ]
  },
  {
   "cell_type": "markdown",
   "id": "7ee6026e",
   "metadata": {},
   "source": [
    "## Problem Background:\n",
    "Almost 40% of hotel rooms booked online are cancelled before the guest arrives...[1] That’s 2 in every 5 booking! \n",
    "\n",
    "Online hotel room reservation systems offer significant convenience to both customers and hotel management. \n",
    "However, this also made it much easier for customers to cancel their reservation at the click of a button. \n",
    "## Project's Motivation:\n",
    "Revenue Lost & Operational Challenges. For example, hotels may find themselves understaffed or overstaffed based on inaccurate forecasts of occupancy. Resource allocation such as provisioning of amenities or scheduling of services is less efficient, leading to resource waste. \n",
    "\n",
    "Furthermore, these cancelled rooms could have been allocated to other customers genuinely in need of accommodation. \n",
    "\n",
    "Therefore, it is crucial for the hotel management to be able to anticipate customer cancellation and take proactive measures to mitigate its impact.\n",
    "## Problem Statement:\n",
    "```How can we predict whether a customer will honor the hotel reservation or cancel it using machine learning techniques?```\n"
   ]
  },
  {
   "cell_type": "markdown",
   "id": "9aa775fc",
   "metadata": {},
   "source": [
    "## References:\n",
    "Link to dataset: https://www.kaggle.com/datasets/ahsan81/hotel-reservations-classification-dataset\n",
    "\n",
    "[1] HospitalityTech, “Global cancellation rate of hotel reservations reaches 40% on average,” Hospitality Technology, https://hospitalitytech.com/global-cancellation-rate-hotel-reservations-reaches-40-average (accessed Apr. 16, 2024)."
   ]
  },
  {
   "cell_type": "markdown",
   "id": "238b2f19",
   "metadata": {},
   "source": [
    "## Project's Flow:\n",
    "![alt text](image.png)"
   ]
  },
  {
   "cell_type": "markdown",
   "id": "ee2ded96",
   "metadata": {},
   "source": [
    "This flow chart outlines the sequential steps of our project. We first started with problem identification and dataset cleaning, followed by exploratory data analysis, data pre-processing, and baseline model training. Then, we adopted an iterative process of feature engineering, selection, hyperparameter tuning, and ensembling to enhance model performance individually. Finally, we compared all final models with their optimal feature sets to select the best model."
   ]
  },
  {
   "cell_type": "markdown",
   "id": "98247be0",
   "metadata": {},
   "source": [
    "## How To Navigate Project:\n",
    "0. [Introduction](/0%20-%20Introduction.ipynb) - <b>[You Are Here Now]</b>\n",
    "1. [Data Cleaning Notebook](/1%20-%20Data%20Cleaning.ipynb)\n",
    "2. [Exploratory Data Analyis Notebook](/2%20-%20Data%20Exploration.ipynb)\n",
    "3. [Data Pre-processing Notebook](/3%20-%20Data%20Pre-Processing.ipynb)\n",
    "4. [Initial Classification Models Notebook](/4%20-%20ClassificationModels.ipynb)\n",
    "5. [Feature Engineering Notebook](/5%20-%20Feature%20Engineering.ipynb)\n",
    "6. Applying Feature Selection + Hyperparameter Tuning On Individual Models\n",
    "   1. [Logistic Regression Notebook](/6.1%20-%20Logistic%20Regression.ipynb)\n",
    "   2. [K Nearest Neighbour Notebook](/6.2%20-%20K%20Nearest%20Neighbour.ipynb)\n",
    "   3. [Decision Tree Notebook](/6.3%20-%20Decision%20Tree.ipynb)\n",
    "   4. [Support Vector Machine Notebook](/6.4%20-%20SVM.ipynb)\n",
    "   5. [Random Forest Notebook](/6.5%20-%20Random%20Forest.ipynb)\n",
    "   6. [Adaboost Notebook](/6.6%20-%20Adaboost.ipynb)\n",
    "   7. [Gradient Boost Notebook](/6.7%20-%20Gradient%20Boosting.ipynb)\n",
    "   8. [LightGBM Notebook](/6.8%20-%20LightGBM.ipynb)\n",
    "7.  [Final Model Comparisons + Conclusion Notebook](/7%20-%20Model%20Comparison,%20Final%20Model%20and%20Conclusion.ipynb)"
   ]
  },
  {
   "cell_type": "code",
   "execution_count": null,
   "id": "9d0c2572",
   "metadata": {},
   "outputs": [],
   "source": []
  }
 ],
 "metadata": {
  "kernelspec": {
   "display_name": "Python 3 (ipykernel)",
   "language": "python",
   "name": "python3"
  },
  "language_info": {
   "codemirror_mode": {
    "name": "ipython",
    "version": 3
   },
   "file_extension": ".py",
   "mimetype": "text/x-python",
   "name": "python",
   "nbconvert_exporter": "python",
   "pygments_lexer": "ipython3",
   "version": "3.9.13"
  }
 },
 "nbformat": 4,
 "nbformat_minor": 5
}
