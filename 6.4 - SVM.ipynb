{
 "cells": [
  {
   "cell_type": "markdown",
   "id": "8020d3ae",
   "metadata": {},
   "source": [
    "# Support Vector Machine (SVM)\n",
    "\n",
    "In this notebook, we will explore the utilization of SVM models for our classification problem. SVM is chosen for our project due to its capability to handle high-dimensional data and capture complex patterns. Another strength of SVM is its ability to find the optimal decision boundary that maximizes the margin between classes, which often results in better generalization to unseen data. \n",
    "\n",
    "We will look into four feature selection methods and analyse their performance. SVM models will be trained utilizing three distinct kernels: 'linear', 'rbf', and 'poly', enabling us to capture intricate relationships within the data. Hyperparameter tuning will be performed on the optimal featues sets. Subsequently, we conduct a comparison of model performance and analyze the strengths and limitations inherent in different SVMs."
   ]
  },
  {
   "cell_type": "markdown",
   "id": "bfff0afe",
   "metadata": {},
   "source": [
    "## Import Libraries"
   ]
  },
  {
   "cell_type": "code",
   "execution_count": 10,
   "id": "7be39033",
   "metadata": {},
   "outputs": [],
   "source": [
    "import pandas as pd\n",
    "import matplotlib.pyplot as plt\n",
    "import seaborn as sns\n",
    "import numpy as np\n",
    "from mlxtend.feature_selection import SequentialFeatureSelector as SFS\n",
    "from sklearn.metrics import accuracy_score, precision_score, recall_score, f1_score\n",
    "from sklearn.feature_selection import SelectKBest, f_classif, mutual_info_classif\n",
    "from sklearn.model_selection import RandomizedSearchCV\n",
    "from sklearn.model_selection import GridSearchCV\n",
    "from sklearn.svm import SVC\n",
    "from Utils import plotMetricsGraphComparison\n",
    "from mlxtend.plotting import plot_sequential_feature_selection as plot_sfs\n",
    "from FeatureSelectionUtils import feature_selection_using_rfecv_on_f1score\n",
    "from scipy.stats import randint"
   ]
  },
  {
   "cell_type": "markdown",
   "id": "8f11374e",
   "metadata": {},
   "source": [
    "## Import Train and Test Datasets"
   ]
  },
  {
   "cell_type": "code",
   "execution_count": 4,
   "id": "aa87f188",
   "metadata": {},
   "outputs": [
    {
     "name": "stdout",
     "output_type": "stream",
     "text": [
      "Train Set : (20392, 1) (20392, 75)\n",
      "Test Set  : (8176, 1) (8176, 75)\n"
     ]
    }
   ],
   "source": [
    "X_train = pd.read_csv('Data/X_train_engineered.csv')\n",
    "X_test = pd.read_csv('Data/X_test_engineered.csv')\n",
    "Y_train = pd.read_csv('Data/y_train_undersampled_data.csv')\n",
    "Y_test = pd.read_csv('Data/y_test.csv')\n",
    "\n",
    "print(\"Train Set :\", Y_train.shape, X_train.shape)\n",
    "print(\"Test Set  :\", Y_test.shape, X_test.shape)"
   ]
  },
  {
   "cell_type": "code",
   "execution_count": 5,
   "id": "2929e5c5",
   "metadata": {},
   "outputs": [],
   "source": [
    "# helper function for calculating evaluation scores\n",
    "def evaluate(Y_train, Y_train_pred, Y_test, Y_test_pred, version, train_metrics, test_metrics):\n",
    "    train_metric = {\n",
    "    \"Classification Model\": version,\n",
    "    \"Accuracy\": accuracy_score(Y_train, Y_train_pred),\n",
    "    \"Precision\": precision_score(Y_train, Y_train_pred),\n",
    "    \"Recall\": recall_score(Y_train, Y_train_pred),\n",
    "    \"F1 Score\": f1_score(Y_train, Y_train_pred)\n",
    "    }\n",
    "\n",
    "    test_metric = {\n",
    "        \"Classification Model\": version,\n",
    "        \"Accuracy\": accuracy_score(Y_test, Y_test_pred),\n",
    "        \"Precision\": precision_score(Y_test, Y_test_pred),\n",
    "        \"Recall\": recall_score(Y_test, Y_test_pred),\n",
    "        \"F1 Score\": f1_score(Y_test, Y_test_pred)\n",
    "    }\n",
    "\n",
    "    # Save to overall metrics dataframe for comparison later\n",
    "    if len(train_metrics)==0:\n",
    "        train_metrics = pd.DataFrame.from_records([train_metric])\n",
    "        test_metrics = pd.DataFrame.from_records([test_metric])\n",
    "    else:\n",
    "        train_metrics = pd.concat([train_metrics, pd.DataFrame.from_records([train_metric])], ignore_index = True)\n",
    "        test_metrics = pd.concat([test_metrics, pd.DataFrame.from_records([test_metric])], ignore_index = True)\n",
    "\n",
    "    # Calculate general metrics for the train set\n",
    "    print(\"**Training Set Metrics**\")\n",
    "    print(\"Accuracy \\t:\", train_metric[\"Accuracy\"])\n",
    "    print(\"Precision \\t:\", train_metric[\"Precision\"])\n",
    "    print(\"Recall \\t\\t:\", train_metric[\"Recall\"])\n",
    "    print(\"F1 Score \\t:\", train_metric[\"F1 Score\"])\n",
    "\n",
    "    print() # New Line\n",
    "\n",
    "    # Calculate general metrics for the test set\n",
    "    print(\"**Test Set Metrics**\")\n",
    "    print(\"Accuracy \\t:\", test_metric[\"Accuracy\"])\n",
    "    print(\"Precision \\t:\", test_metric[\"Precision\"])\n",
    "    print(\"Recall \\t\\t:\", test_metric[\"Recall\"])\n",
    "    print(\"F1 Score \\t:\", test_metric[\"F1 Score\"])\n",
    "    \n",
    "    return train_metrics, test_metrics"
   ]
  },
  {
   "cell_type": "code",
   "execution_count": 6,
   "id": "62c37f06",
   "metadata": {},
   "outputs": [],
   "source": [
    "# Set up a dataframe to store the results from different versions\n",
    "train_metrics_svm = pd.DataFrame(columns=['Classification Model', 'Accuracy', 'Precision', 'Recall', 'F1 Score'])\n",
    "test_metrics_svm = pd.DataFrame(columns=['Classification Model', 'Accuracy', 'Precision', 'Recall', 'F1 Score'])"
   ]
  },
  {
   "cell_type": "markdown",
   "id": "e7c67954",
   "metadata": {},
   "source": [
    "#### Basline model with all features"
   ]
  },
  {
   "cell_type": "code",
   "execution_count": 12,
   "id": "58e1d3e9",
   "metadata": {},
   "outputs": [
    {
     "name": "stdout",
     "output_type": "stream",
     "text": [
      "Train Set : (20392, 1) (20392, 39)\n",
      "Test Set  : (8176, 1) (8176, 39)\n"
     ]
    }
   ],
   "source": [
    "# Read columns used to build models\n",
    "columns = pd.read_csv('Data/basic_model_columns.csv')['Columns'].to_list()\n",
    "\n",
    "X_train_basic = pd.read_csv('Data/X_train_undersampled_data.csv')[columns]\n",
    "X_test_basic = pd.read_csv('Data/X_test.csv')[columns]\n",
    "\n",
    "print(\"Train Set :\", Y_train.shape, X_train_basic.shape)\n",
    "print(\"Test Set  :\", Y_test.shape, X_test_basic.shape)"
   ]
  },
  {
   "cell_type": "code",
   "execution_count": 13,
   "id": "ff4f964c",
   "metadata": {},
   "outputs": [
    {
     "name": "stdout",
     "output_type": "stream",
     "text": [
      "**Training Set Metrics**\n",
      "Accuracy \t: 0.8541584935268732\n",
      "Precision \t: 0.8518121590023383\n",
      "Recall \t\t: 0.8574931345625736\n",
      "F1 Score \t: 0.8546432062561095\n",
      "\n",
      "**Test Set Metrics**\n",
      "Accuracy \t: 0.826687866927593\n",
      "Precision \t: 0.6358974358974359\n",
      "Recall \t\t: 0.3686087990487515\n",
      "F1 Score \t: 0.46669175762137755\n"
     ]
    }
   ],
   "source": [
    "svm_basic = SVC(random_state=47).fit(X_train_basic, Y_train.values.ravel())\n",
    "# Predict the output based on our training and testing dataset\n",
    "Y_train_pred_basic = svm_basic.predict(X_train_basic)\n",
    "Y_test_pred_basic = svm_basic.predict(X_test_basic)\n",
    "train_metrics_svm, test_metrics_svm = evaluate(Y_train, Y_train_pred_basic, Y_test, Y_test_pred_basic, \"Baseline before Feature Engineering\", train_metrics_svm, test_metrics_svm)"
   ]
  },
  {
   "cell_type": "markdown",
   "id": "bcaace06",
   "metadata": {},
   "source": [
    "## Feature Selection for SVM\n",
    "\n",
    "The challenge with SVM is that it requires a large amount of computational power and is sensitive to the choice of features. This can make the model more complex and harder to interpret. Another challenge is that independently performing these two steps (feature selection and model training) might result in a loss of information related to the classification process.\n",
    "\n",
    "We are applying multiple techniques for SVM feature selection:\n",
    "1. Forward Feature Selection using SVM <br>\n",
    "Forward Feature Selection gradually builds a robust feature set. This method effectively combats overfitting by prioritizing the inclusion of features that improve model performance, which ensures the selected features are most relevant for classification tasks.\n",
    " \n",
    "2. Backward Feature Selection using SVM <br>\n",
    "By iteratively removing features based on their impact on model performance, Backward Feature Selection refines the feature set to the most relevant ones. This approach helps mitigate overfitting by eliminating less informative features that might contribute noise to the model. \n",
    "\n",
    "3. Univariate Feature Selection <br>\n",
    "Univariate feature selection is a method used to select the most important features in a dataset. The idea behind this method is to evaluate each individual feature’s relationship with the target variable and select the ones that have the strongest correlation. Univariate feature selection is useful when working with a large number of features and the goal is to reduce the dimensionality of the data and simplify the modeling process. \n",
    "\n",
    "4. Recursive Feature Selection <br>\n",
    "SVMs often encounter challenges with high-dimensional data and susceptibility to overfitting, where RFECV's capability to systematically select the most informative features while mitigating overfitting proves particularly advantageous."
   ]
  },
  {
   "cell_type": "markdown",
   "id": "47917fd1",
   "metadata": {},
   "source": [
    "#### Method 1: Forward Feature Selection using Linear SVM"
   ]
  },
  {
   "cell_type": "markdown",
   "id": "9ab6a4d6",
   "metadata": {},
   "source": [
    "This method requires high amount of computational resources. We are going to select the top features first then apply forward feature selection."
   ]
  },
  {
   "cell_type": "code",
   "execution_count": 13,
   "id": "21c14de0",
   "metadata": {},
   "outputs": [],
   "source": [
    "# Select top 10 features using mutual information\n",
    "selector_mi = SelectKBest(mutual_info_classif, k=20)\n",
    "X_train_selected_mi = selector_mi.fit_transform(X_train, Y_train.values.ravel())"
   ]
  },
  {
   "cell_type": "code",
   "execution_count": 14,
   "id": "f664cecc",
   "metadata": {
    "scrolled": true
   },
   "outputs": [
    {
     "name": "stderr",
     "output_type": "stream",
     "text": [
      "[Parallel(n_jobs=-1)]: Using backend LokyBackend with 8 concurrent workers.\n",
      "[Parallel(n_jobs=-1)]: Done  16 out of  20 | elapsed:  2.3min remaining:   35.1s\n",
      "[Parallel(n_jobs=-1)]: Done  20 out of  20 | elapsed:  2.9min finished\n",
      "\n",
      "[2024-04-20 16:35:48] Features: 1/20 -- score: 0.7112681754497412[Parallel(n_jobs=-1)]: Using backend LokyBackend with 8 concurrent workers.\n",
      "[Parallel(n_jobs=-1)]: Done  14 out of  19 | elapsed:  1.7min remaining:   36.0s\n",
      "[Parallel(n_jobs=-1)]: Done  19 out of  19 | elapsed:  2.2min finished\n",
      "\n",
      "[2024-04-20 16:37:59] Features: 2/20 -- score: 0.7129385763996153[Parallel(n_jobs=-1)]: Using backend LokyBackend with 8 concurrent workers.\n",
      "[Parallel(n_jobs=-1)]: Done  13 out of  18 | elapsed:  1.7min remaining:   39.3s\n",
      "[Parallel(n_jobs=-1)]: Done  18 out of  18 | elapsed:  2.2min finished\n",
      "\n",
      "[2024-04-20 16:40:11] Features: 3/20 -- score: 0.7131227213516613[Parallel(n_jobs=-1)]: Using backend LokyBackend with 8 concurrent workers.\n",
      "[Parallel(n_jobs=-1)]: Done  11 out of  17 | elapsed:  1.8min remaining:   58.0s\n",
      "[Parallel(n_jobs=-1)]: Done  17 out of  17 | elapsed:  2.2min finished\n",
      "\n",
      "[2024-04-20 16:42:23] Features: 4/20 -- score: 0.7131534656796535[Parallel(n_jobs=-1)]: Using backend LokyBackend with 8 concurrent workers.\n",
      "[Parallel(n_jobs=-1)]: Done  10 out of  16 | elapsed:  1.8min remaining:  1.1min\n",
      "[Parallel(n_jobs=-1)]: Done  16 out of  16 | elapsed:  1.9min finished\n",
      "\n",
      "[2024-04-20 16:44:20] Features: 5/20 -- score: 0.7131534656796535[Parallel(n_jobs=-1)]: Using backend LokyBackend with 8 concurrent workers.\n",
      "[Parallel(n_jobs=-1)]: Done   8 out of  15 | elapsed:  1.0min remaining:   54.8s\n",
      "[Parallel(n_jobs=-1)]: Done  15 out of  15 | elapsed: 33.3min finished\n",
      "\n",
      "[2024-04-20 17:17:38] Features: 6/20 -- score: 0.7131534656796535[Parallel(n_jobs=-1)]: Using backend LokyBackend with 8 concurrent workers.\n",
      "[Parallel(n_jobs=-1)]: Done   7 out of  14 | elapsed: 24.2min remaining: 24.2min\n",
      "[Parallel(n_jobs=-1)]: Done  14 out of  14 | elapsed: 25.1min finished\n",
      "\n",
      "[2024-04-20 17:42:44] Features: 7/20 -- score: 0.7131534656796535[Parallel(n_jobs=-1)]: Using backend LokyBackend with 8 concurrent workers.\n",
      "[Parallel(n_jobs=-1)]: Done   5 out of  13 | elapsed:   58.8s remaining:  1.6min\n",
      "[Parallel(n_jobs=-1)]: Done  13 out of  13 | elapsed:  1.8min finished\n",
      "\n",
      "[2024-04-20 17:44:31] Features: 8/20 -- score: 0.7131534656796535[Parallel(n_jobs=-1)]: Using backend LokyBackend with 8 concurrent workers.\n",
      "[Parallel(n_jobs=-1)]: Done   4 out of  12 | elapsed:   59.4s remaining:  2.0min\n",
      "[Parallel(n_jobs=-1)]: Done  12 out of  12 | elapsed:  1.7min finished\n",
      "\n",
      "[2024-04-20 17:46:15] Features: 9/20 -- score: 0.7262460395319853[Parallel(n_jobs=-1)]: Using backend LokyBackend with 8 concurrent workers.\n",
      "[Parallel(n_jobs=-1)]: Done   2 out of  11 | elapsed:  1.0min remaining:  4.6min\n",
      "[Parallel(n_jobs=-1)]: Done   8 out of  11 | elapsed:  1.2min remaining:   27.0s\n",
      "[Parallel(n_jobs=-1)]: Done  11 out of  11 | elapsed:  1.7min finished\n",
      "\n",
      "[2024-04-20 17:47:59] Features: 10/20 -- score: 0.7394491727591447[Parallel(n_jobs=-1)]: Using backend LokyBackend with 8 concurrent workers.\n",
      "[Parallel(n_jobs=-1)]: Done   7 out of  10 | elapsed:  1.3min remaining:   33.1s\n",
      "[Parallel(n_jobs=-1)]: Done  10 out of  10 | elapsed:  1.9min finished\n",
      "\n",
      "[2024-04-20 17:49:52] Features: 11/20 -- score: 0.7457406127110745[Parallel(n_jobs=-1)]: Using backend LokyBackend with 8 concurrent workers.\n",
      "[Parallel(n_jobs=-1)]: Done   4 out of   9 | elapsed:  1.3min remaining:  1.6min\n",
      "[Parallel(n_jobs=-1)]: Done   9 out of   9 | elapsed:  1.9min remaining:    0.0s\n",
      "[Parallel(n_jobs=-1)]: Done   9 out of   9 | elapsed:  1.9min finished\n",
      "\n",
      "[2024-04-20 17:51:43] Features: 12/20 -- score: 0.7497843411103859[Parallel(n_jobs=-1)]: Using backend LokyBackend with 8 concurrent workers.\n",
      "[Parallel(n_jobs=-1)]: Done   3 out of   8 | elapsed:  1.4min remaining:  2.3min\n",
      "[Parallel(n_jobs=-1)]: Done   8 out of   8 | elapsed:  1.5min remaining:    0.0s\n",
      "[Parallel(n_jobs=-1)]: Done   8 out of   8 | elapsed:  1.5min finished\n",
      "\n",
      "[2024-04-20 17:53:11] Features: 13/20 -- score: 0.7517607948662215[Parallel(n_jobs=-1)]: Using backend LokyBackend with 8 concurrent workers.\n",
      "[Parallel(n_jobs=-1)]: Done   4 out of   7 | elapsed:  1.3min remaining:   57.8s\n",
      "[Parallel(n_jobs=-1)]: Done   7 out of   7 | elapsed:  1.4min finished\n",
      "\n",
      "[2024-04-20 17:54:35] Features: 14/20 -- score: 0.7536633912362529[Parallel(n_jobs=-1)]: Using backend LokyBackend with 8 concurrent workers.\n",
      "[Parallel(n_jobs=-1)]: Done   3 out of   6 | elapsed:  1.2min remaining:  1.2min\n",
      "[Parallel(n_jobs=-1)]: Done   6 out of   6 | elapsed:  1.3min finished\n",
      "\n",
      "[2024-04-20 17:55:51] Features: 15/20 -- score: 0.7525714101383939[Parallel(n_jobs=-1)]: Using backend LokyBackend with 8 concurrent workers.\n",
      "[Parallel(n_jobs=-1)]: Done   2 out of   5 | elapsed:   57.0s remaining:  1.4min\n",
      "[Parallel(n_jobs=-1)]: Done   5 out of   5 | elapsed:  1.1min remaining:    0.0s\n",
      "[Parallel(n_jobs=-1)]: Done   5 out of   5 | elapsed:  1.1min finished\n",
      "\n",
      "[2024-04-20 17:56:56] Features: 16/20 -- score: 0.7517202960563634[Parallel(n_jobs=-1)]: Using backend LokyBackend with 8 concurrent workers.\n",
      "[Parallel(n_jobs=-1)]: Done   4 out of   4 | elapsed:   58.9s remaining:    0.0s\n",
      "[Parallel(n_jobs=-1)]: Done   4 out of   4 | elapsed:   58.9s finished\n",
      "\n",
      "[2024-04-20 17:57:55] Features: 17/20 -- score: 0.7450194051147031[Parallel(n_jobs=-1)]: Using backend LokyBackend with 8 concurrent workers.\n",
      "[Parallel(n_jobs=-1)]: Done   3 out of   3 | elapsed:   53.2s finished\n",
      "\n",
      "[2024-04-20 17:58:49] Features: 18/20 -- score: 0.7469479776684571[Parallel(n_jobs=-1)]: Using backend LokyBackend with 8 concurrent workers.\n",
      "[Parallel(n_jobs=-1)]: Done   2 out of   2 | elapsed:   54.7s finished\n",
      "\n",
      "[2024-04-20 17:59:43] Features: 19/20 -- score: 0.7468858103973176[Parallel(n_jobs=-1)]: Using backend LokyBackend with 8 concurrent workers.\n"
     ]
    },
    {
     "name": "stdout",
     "output_type": "stream",
     "text": [
      "Selected features (Forward Selection): ['0', '1', '2', '3', '5', '6', '7', '8', '9', '13', '15', '16', '17', '19']\n"
     ]
    },
    {
     "name": "stderr",
     "output_type": "stream",
     "text": [
      "[Parallel(n_jobs=-1)]: Done   1 out of   1 | elapsed:   52.6s finished\n",
      "\n",
      "[2024-04-20 18:00:36] Features: 20/20 -- score: 0.7346788178972695"
     ]
    }
   ],
   "source": [
    "# Initialize SVM classifier\n",
    "svm = SVC(kernel='linear', random_state=47)\n",
    "\n",
    "# Initialize forward feature selector\n",
    "selector_forward = SFS(svm, \n",
    "                       k_features='best', \n",
    "                       forward=True, \n",
    "                       floating=False, \n",
    "                       scoring='f1', \n",
    "                       cv=5,\n",
    "                       verbose=2,\n",
    "                       n_jobs=-1)\n",
    "\n",
    "# Perform forward feature selection\n",
    "selector_forward = selector_forward.fit(X_train_selected_mi, Y_train.values.ravel())\n",
    "\n",
    "# Get selected feature indices\n",
    "selected_features_forward = list(selector_forward.k_feature_names_)\n",
    "\n",
    "# Print selected features\n",
    "print(\"Selected features (Forward Selection):\", selected_features_forward)"
   ]
  },
  {
   "cell_type": "code",
   "execution_count": 15,
   "id": "74f4bd61",
   "metadata": {},
   "outputs": [
    {
     "data": {
      "image/png": "[encoded data removed]",
      "text/plain": [
       "<Figure size 432x288 with 1 Axes>"
      ]
     },
     "metadata": {
      "needs_background": "light"
     },
     "output_type": "display_data"
    }
   ],
   "source": [
    "# Plot performance of forward feature selection\n",
    "fig = plot_sfs(selector_forward.get_metric_dict(), kind='std_dev')\n",
    "\n",
    "# Add plot labels and title\n",
    "plt.title('Sequential Forward Selection (w. StdDev)')\n",
    "plt.ylabel('F1 Score')\n",
    "plt.xlabel('Number of features')\n",
    "\n",
    "# Show the plot\n",
    "plt.show()"
   ]
  },
  {
   "cell_type": "markdown",
   "id": "ac012bcf",
   "metadata": {},
   "source": [
    "We use the selected 14 features to train a basic SVM model."
   ]
  },
  {
   "cell_type": "code",
   "execution_count": 25,
   "id": "efeda16b",
   "metadata": {},
   "outputs": [
    {
     "name": "stdout",
     "output_type": "stream",
     "text": [
      "**Training Set Metrics**\n",
      "Accuracy \t: 0.6206355433503334\n",
      "Precision \t: 0.7905054322153992\n",
      "Recall \t\t: 0.32826598666143586\n",
      "F1 Score \t: 0.4638946638946639\n",
      "\n",
      "**Test Set Metrics**\n",
      "Accuracy \t: 0.7659001956947162\n",
      "Precision \t: 0.2734375\n",
      "Recall \t\t: 0.08323424494649227\n",
      "F1 Score \t: 0.1276207839562443\n"
     ]
    }
   ],
   "source": [
    "selected_feature_indices = [int(idx) for idx in selected_features_forward]\n",
    "svm_forward = SVC(\n",
    "    random_state=47\n",
    ").fit(X_train.iloc[:, selected_feature_indices], Y_train.values.ravel())\n",
    "# Make predictions on the testing data\n",
    "Y_train_pred_forward = svm_forward.predict(X_train.iloc[:, selected_feature_indices])\n",
    "Y_test_pred_forward = svm_forward.predict(X_test.iloc[:, selected_feature_indices])\n",
    "\n",
    "train_metrics_svm, test_metrics_svm = evaluate(Y_train, Y_train_pred_forward, Y_test, Y_test_pred_forward, \"Forward Selection\", train_metrics_svm, test_metrics_svm)"
   ]
  },
  {
   "cell_type": "markdown",
   "id": "4ba88fc5",
   "metadata": {},
   "source": [
    "While the cost of missing a cancellation  (false negatives)  is high, precision is also important as we aim to avoid incorrectly predicting cancellations, which could result in customer dissatisfaction. However, the technique's low precision score contradicts our objective. Therefore, we will not consider it for the SVM model."
   ]
  },
  {
   "cell_type": "markdown",
   "id": "24ef8145",
   "metadata": {},
   "source": [
    "#### Method 2: Backward Feature Selection using Linear SVM"
   ]
  },
  {
   "cell_type": "code",
   "execution_count": 17,
   "id": "3414fef3",
   "metadata": {
    "scrolled": true
   },
   "outputs": [
    {
     "name": "stderr",
     "output_type": "stream",
     "text": [
      "[Parallel(n_jobs=-1)]: Using backend LokyBackend with 8 concurrent workers.\n",
      "[Parallel(n_jobs=-1)]: Done  16 out of  20 | elapsed:  3.6min remaining:   53.7s\n",
      "[Parallel(n_jobs=-1)]: Done  20 out of  20 | elapsed:  4.6min finished\n",
      "\n",
      "[2024-04-20 20:36:10] Features: 19/1 -- score: 0.7537084767696104[Parallel(n_jobs=-1)]: Using backend LokyBackend with 8 concurrent workers.\n",
      "[Parallel(n_jobs=-1)]: Done  14 out of  19 | elapsed:  4.0min remaining:  1.4min\n",
      "[Parallel(n_jobs=-1)]: Done  19 out of  19 | elapsed:  4.8min finished\n",
      "\n",
      "[2024-04-20 20:40:59] Features: 18/1 -- score: 0.756061179223152[Parallel(n_jobs=-1)]: Using backend LokyBackend with 8 concurrent workers.\n",
      "[Parallel(n_jobs=-1)]: Done  13 out of  18 | elapsed:  2.9min remaining:  1.1min\n",
      "[Parallel(n_jobs=-1)]: Done  18 out of  18 | elapsed:  3.6min finished\n",
      "\n",
      "[2024-04-20 20:44:35] Features: 17/1 -- score: 0.7564030794061198[Parallel(n_jobs=-1)]: Using backend LokyBackend with 8 concurrent workers.\n",
      "[Parallel(n_jobs=-1)]: Done  11 out of  17 | elapsed:  2.7min remaining:  1.5min\n",
      "[Parallel(n_jobs=-1)]: Done  17 out of  17 | elapsed:  3.4min finished\n",
      "\n",
      "[2024-04-20 20:47:59] Features: 16/1 -- score: 0.7570546041404502[Parallel(n_jobs=-1)]: Using backend LokyBackend with 8 concurrent workers.\n",
      "[Parallel(n_jobs=-1)]: Done  10 out of  16 | elapsed:  3.3min remaining:  2.0min\n",
      "[Parallel(n_jobs=-1)]: Done  16 out of  16 | elapsed:  3.5min finished\n",
      "\n",
      "[2024-04-20 20:51:26] Features: 15/1 -- score: 0.7571894157135051[Parallel(n_jobs=-1)]: Using backend LokyBackend with 8 concurrent workers.\n",
      "[Parallel(n_jobs=-1)]: Done   8 out of  15 | elapsed:  1.8min remaining:  1.5min\n",
      "[Parallel(n_jobs=-1)]: Done  15 out of  15 | elapsed:  3.0min finished\n",
      "\n",
      "[2024-04-20 20:54:25] Features: 14/1 -- score: 0.7573721363021212[Parallel(n_jobs=-1)]: Using backend LokyBackend with 8 concurrent workers.\n",
      "[Parallel(n_jobs=-1)]: Done   7 out of  14 | elapsed:  1.6min remaining:  1.6min\n",
      "[Parallel(n_jobs=-1)]: Done  14 out of  14 | elapsed:  2.7min finished\n",
      "\n",
      "[2024-04-20 20:57:08] Features: 13/1 -- score: 0.7574460133770685[Parallel(n_jobs=-1)]: Using backend LokyBackend with 8 concurrent workers.\n",
      "[Parallel(n_jobs=-1)]: Done   5 out of  13 | elapsed:  1.6min remaining:  2.5min\n",
      "[Parallel(n_jobs=-1)]: Done  13 out of  13 | elapsed:  2.6min finished\n",
      "\n",
      "[2024-04-20 20:59:44] Features: 12/1 -- score: 0.7571824913359853[Parallel(n_jobs=-1)]: Using backend LokyBackend with 8 concurrent workers.\n",
      "[Parallel(n_jobs=-1)]: Done   4 out of  12 | elapsed:  1.5min remaining:  3.0min\n",
      "[Parallel(n_jobs=-1)]: Done  12 out of  12 | elapsed:  2.4min finished\n",
      "\n",
      "[2024-04-20 21:02:07] Features: 11/1 -- score: 0.7570347439156091[Parallel(n_jobs=-1)]: Using backend LokyBackend with 8 concurrent workers.\n",
      "[Parallel(n_jobs=-1)]: Done   2 out of  11 | elapsed:  1.5min remaining:  6.6min\n",
      "[Parallel(n_jobs=-1)]: Done   8 out of  11 | elapsed:  1.6min remaining:   35.9s\n",
      "[Parallel(n_jobs=-1)]: Done  11 out of  11 | elapsed:  2.2min finished\n",
      "\n",
      "[2024-04-20 21:04:21] Features: 10/1 -- score: 0.7559625619405919[Parallel(n_jobs=-1)]: Using backend LokyBackend with 8 concurrent workers.\n",
      "[Parallel(n_jobs=-1)]: Done   7 out of  10 | elapsed:  1.5min remaining:   38.0s\n",
      "[Parallel(n_jobs=-1)]: Done  10 out of  10 | elapsed:  2.1min finished\n",
      "\n",
      "[2024-04-20 21:06:25] Features: 9/1 -- score: 0.7548734010163857[Parallel(n_jobs=-1)]: Using backend LokyBackend with 8 concurrent workers.\n",
      "[Parallel(n_jobs=-1)]: Done   4 out of   9 | elapsed:  1.5min remaining:  1.8min\n",
      "[Parallel(n_jobs=-1)]: Done   9 out of   9 | elapsed:  2.1min remaining:    0.0s\n",
      "[Parallel(n_jobs=-1)]: Done   9 out of   9 | elapsed:  2.1min finished\n",
      "\n",
      "[2024-04-20 21:08:30] Features: 8/1 -- score: 0.7558099556544263[Parallel(n_jobs=-1)]: Using backend LokyBackend with 8 concurrent workers.\n",
      "[Parallel(n_jobs=-1)]: Done   3 out of   8 | elapsed:  1.4min remaining:  2.3min\n",
      "[Parallel(n_jobs=-1)]: Done   8 out of   8 | elapsed:  1.5min remaining:    0.0s\n",
      "[Parallel(n_jobs=-1)]: Done   8 out of   8 | elapsed:  1.5min finished\n",
      "\n",
      "[2024-04-20 21:09:58] Features: 7/1 -- score: 0.7578927894443571[Parallel(n_jobs=-1)]: Using backend LokyBackend with 8 concurrent workers.\n",
      "[Parallel(n_jobs=-1)]: Done   4 out of   7 | elapsed:  1.2min remaining:   52.4s\n",
      "[Parallel(n_jobs=-1)]: Done   7 out of   7 | elapsed:  1.2min finished\n",
      "\n",
      "[2024-04-20 21:11:12] Features: 6/1 -- score: 0.7576063064570351[Parallel(n_jobs=-1)]: Using backend LokyBackend with 8 concurrent workers.\n",
      "[Parallel(n_jobs=-1)]: Done   3 out of   6 | elapsed:   58.0s remaining:   58.0s\n",
      "[Parallel(n_jobs=-1)]: Done   6 out of   6 | elapsed:  1.1min finished\n",
      "\n",
      "[2024-04-20 21:12:16] Features: 5/1 -- score: 0.7528889355424547[Parallel(n_jobs=-1)]: Using backend LokyBackend with 8 concurrent workers.\n",
      "[Parallel(n_jobs=-1)]: Done   2 out of   5 | elapsed:   47.5s remaining:  1.2min\n",
      "[Parallel(n_jobs=-1)]: Done   5 out of   5 | elapsed:   53.3s remaining:    0.0s\n",
      "[Parallel(n_jobs=-1)]: Done   5 out of   5 | elapsed:   53.3s finished\n",
      "\n",
      "[2024-04-20 21:13:10] Features: 4/1 -- score: 0.7521910519189726[Parallel(n_jobs=-1)]: Using backend LokyBackend with 8 concurrent workers.\n",
      "[Parallel(n_jobs=-1)]: Done   4 out of   4 | elapsed:   48.1s remaining:    0.0s\n",
      "[Parallel(n_jobs=-1)]: Done   4 out of   4 | elapsed:   48.1s finished\n",
      "\n",
      "[2024-04-20 21:13:58] Features: 3/1 -- score: 0.743368094072476[Parallel(n_jobs=-1)]: Using backend LokyBackend with 8 concurrent workers.\n",
      "[Parallel(n_jobs=-1)]: Done   3 out of   3 | elapsed:   42.3s finished\n",
      "\n",
      "[2024-04-20 21:14:40] Features: 2/1 -- score: 0.7116020618695804[Parallel(n_jobs=-1)]: Using backend LokyBackend with 8 concurrent workers.\n"
     ]
    },
    {
     "name": "stdout",
     "output_type": "stream",
     "text": [
      "Selected features (Backward Selection): ['0', '3', '6', '8', '9', '18', '19']\n"
     ]
    },
    {
     "name": "stderr",
     "output_type": "stream",
     "text": [
      "[Parallel(n_jobs=-1)]: Done   2 out of   2 | elapsed:   35.8s finished\n",
      "\n",
      "[2024-04-20 21:15:16] Features: 1/1 -- score: 0.6718843209136041"
     ]
    }
   ],
   "source": [
    "# Initialize backward feature selector\n",
    "selector_backward = SFS(svm, \n",
    "                        k_features='best', \n",
    "                        forward=False, \n",
    "                        floating=False, \n",
    "                        scoring='f1', \n",
    "                        cv=5,\n",
    "                        verbose=2,\n",
    "                        n_jobs=-1)\n",
    "\n",
    "# Perform backward feature selection\n",
    "selector_backward = selector_backward.fit(X_train_selected_mi, Y_train.values.ravel())\n",
    "\n",
    "# Get selected feature indices\n",
    "selected_features_backward = list(selector_backward.k_feature_names_)\n",
    "\n",
    "# Print selected features\n",
    "print(\"Selected features (Backward Selection):\", selected_features_backward)"
   ]
  },
  {
   "cell_type": "code",
   "execution_count": 18,
   "id": "4c532222",
   "metadata": {},
   "outputs": [
    {
     "data": {
      "image/png": "[encoded data removed]",
      "text/plain": [
       "<Figure size 432x288 with 1 Axes>"
      ]
     },
     "metadata": {
      "needs_background": "light"
     },
     "output_type": "display_data"
    }
   ],
   "source": [
    "# Plot performance of forward feature selection\n",
    "fig = plot_sfs(selector_backward.get_metric_dict(), kind='std_dev')\n",
    "\n",
    "# Add plot labels and title\n",
    "plt.title('Sequential Backward Selection (w. StdDev)')\n",
    "plt.ylabel('F1 Score')\n",
    "plt.xlabel('Number of features')\n",
    "\n",
    "# Show the plot\n",
    "plt.show()"
   ]
  },
  {
   "cell_type": "markdown",
   "id": "5cfecadc",
   "metadata": {},
   "source": [
    "We use the selected 7 features to train a basic SVM model."
   ]
  },
  {
   "cell_type": "code",
   "execution_count": 28,
   "id": "0d4677d2",
   "metadata": {},
   "outputs": [
    {
     "name": "stdout",
     "output_type": "stream",
     "text": [
      "**Training Set Metrics**\n",
      "Accuracy \t: 0.5882208709297764\n",
      "Precision \t: 0.5936101571443438\n",
      "Recall \t\t: 0.5594350725774814\n",
      "F1 Score \t: 0.5760161575359758\n",
      "\n",
      "**Test Set Metrics**\n",
      "Accuracy \t: 0.5233610567514677\n",
      "Precision \t: 0.24743443557582667\n",
      "Recall \t\t: 0.6450653983353151\n",
      "F1 Score \t: 0.35767265534860726\n"
     ]
    }
   ],
   "source": [
    "selected_feature_indices = [int(idx) for idx in selected_features_backward]\n",
    "svm_backward = SVC(\n",
    "    random_state=47, kernel = 'linear'\n",
    ").fit(X_train.iloc[:, selected_feature_indices], Y_train.values.ravel())\n",
    "# Make predictions on the testing data\n",
    "Y_train_pred_backward = svm_backward.predict(X_train.iloc[:, selected_feature_indices])\n",
    "Y_test_pred_backward = svm_backward.predict(X_test.iloc[:, selected_feature_indices])\n",
    "\n",
    "train_metrics_svm, test_metrics_svm = evaluate(Y_train, Y_train_pred_backward, Y_test, Y_test_pred_backward, \"Backward Selection\", train_metrics_svm, test_metrics_svm)"
   ]
  },
  {
   "cell_type": "markdown",
   "id": "463453be",
   "metadata": {},
   "source": [
    "A F1 score of 0.3577 indicates thay backward feature selection does not work well with SVM model. This may due to the sensitivity of SVMs to the number of features and the potential loss of important discriminatory information when features are removed. Therefore, we will not consider this technique for the SVM model."
   ]
  },
  {
   "cell_type": "markdown",
   "id": "dad52de3",
   "metadata": {},
   "source": [
    "#### Method 3: Univariate Feature Selection "
   ]
  },
  {
   "cell_type": "code",
   "execution_count": 53,
   "id": "0f006688",
   "metadata": {},
   "outputs": [],
   "source": [
    "# Select the best features \n",
    "selector = SelectKBest(f_classif, k='all') \n",
    "selector.fit(X_train, Y_train.values.ravel()) \n",
    "X_train_selected_ufs = selector.transform(X_train) \n",
    "X_test_selected_ufs = selector.transform(X_test) "
   ]
  },
  {
   "cell_type": "code",
   "execution_count": 50,
   "id": "4e205f28",
   "metadata": {},
   "outputs": [
    {
     "data": {
      "image/png": "[encoded data removed]",
      "text/plain": [
       "<Figure size 720x432 with 1 Axes>"
      ]
     },
     "metadata": {
      "needs_background": "light"
     },
     "output_type": "display_data"
    }
   ],
   "source": [
    "# Plot scores or p-values vs. feature index\n",
    "plt.figure(figsize=(10, 6))\n",
    "plt.plot(range(len(selector.scores_)), selector.scores_, marker='o', linestyle='-')\n",
    "plt.title('Feature Scores')\n",
    "plt.xlabel('Feature Index')\n",
    "plt.ylabel('Score')\n",
    "plt.grid(True)\n",
    "plt.show()"
   ]
  },
  {
   "cell_type": "code",
   "execution_count": 52,
   "id": "6001054c",
   "metadata": {},
   "outputs": [
    {
     "data": {
      "image/png": "[encoded data removed]",
      "text/plain": [
       "<Figure size 720x432 with 1 Axes>"
      ]
     },
     "metadata": {
      "needs_background": "light"
     },
     "output_type": "display_data"
    }
   ],
   "source": [
    "# Initialize SVM classifier\n",
    "svm = SVC(random_state = 47)\n",
    "\n",
    "# Initialize SelectKBest with f_classif scoring function\n",
    "selector = SelectKBest(score_func=f_classif)\n",
    "\n",
    "# Lists to store F1 scores and number of selected features\n",
    "train_f1_scores = []\n",
    "num_features_selected = []\n",
    "\n",
    "# Iterate over different values of k\n",
    "for k in range(1, X_train.shape[1] + 1):\n",
    "    # Fit selector to training data with k features\n",
    "    selector.set_params(k=k)\n",
    "    X_train_selected = selector.fit_transform(X_train, Y_train.values.ravel())\n",
    "    \n",
    "    # Train SVM classifier on selected features\n",
    "    svm.fit(X_train_selected, Y_train.values.ravel())\n",
    "    \n",
    "    # Make predictions on the training data\n",
    "    Y_train_pred = svm.predict(X_train_selected)\n",
    "    \n",
    "    # Calculate F1 score on the training data\n",
    "    train_f1 = f1_score(Y_train, Y_train_pred)\n",
    "    \n",
    "    # Append F1 score and number of selected features to lists\n",
    "    train_f1_scores.append(train_f1)\n",
    "    num_features_selected.append(k)\n",
    "\n",
    "# Plot F1 score vs. number of selected features\n",
    "plt.figure(figsize=(10, 6))\n",
    "plt.plot(num_features_selected, train_f1_scores, marker='o')\n",
    "plt.title('F1 Score on Training Data vs. Number of Selected Features')\n",
    "plt.xlabel('Number of Selected Features (k)')\n",
    "plt.ylabel('F1 Score on Training Data')\n",
    "plt.grid(True)\n",
    "plt.show()"
   ]
  },
  {
   "cell_type": "markdown",
   "id": "f31300b2",
   "metadata": {},
   "source": [
    "\n",
    "We observe that as the number of selected features (k) increases beyond 25, the corresponding F1 score exhibits a slower rate of increase. This suggests that including additional features beyond this threshold may not significantly improve model performance. Therefore, to strike a balance between feature richness and model complexity, we opt to set k = 25."
   ]
  },
  {
   "cell_type": "code",
   "execution_count": 16,
   "id": "80ddc4d9",
   "metadata": {},
   "outputs": [],
   "source": [
    "# Select the best features \n",
    "selector_25 = SelectKBest(f_classif, k= 25) \n",
    "selector_25.fit(X_train, Y_train.values.ravel()) \n",
    "X_train_selected_ufs = selector_25.transform(X_train) \n",
    "X_test_selected_ufs = selector_25.transform(X_test) "
   ]
  },
  {
   "cell_type": "code",
   "execution_count": 22,
   "id": "bb0cc143",
   "metadata": {},
   "outputs": [
    {
     "data": {
      "text/plain": [
       "Index(['cancellation_type_all_successful', 'cancellation_type_no_booking',\n",
       "       'lead_time_cat_0 to 50', 'lead_time_cat_150 to 200',\n",
       "       'lead_time_cat_200 to 300', 'lead_time_cat_50 to 100',\n",
       "       'lead_time_cat_greater than 300', 'avg_price_per_room_cat_0 to 50',\n",
       "       'avg_price_per_room_cat_100 to 150', 'avg_price_per_room_cat_50 to 100',\n",
       "       'booking_dayofweek_3', 'solo_traveller', 'have_special_requests',\n",
       "       'num_of_customers_and_room_type_mismatch', 'no_of_customers_scaled',\n",
       "       'no_of_nights_scaled', 'market_segment_type_corporate',\n",
       "       'market_segment_type_online', 'required_car_parking_space',\n",
       "       'repeated_guest', 'no_of_adults_scaled', 'no_of_week_nights_scaled',\n",
       "       'no_of_special_requests_scaled', 'lead_time_scaled',\n",
       "       'avg_price_per_room_scaled'],\n",
       "      dtype='object')"
      ]
     },
     "execution_count": 22,
     "metadata": {},
     "output_type": "execute_result"
    }
   ],
   "source": [
    "features_ufs_indices = selector_25.get_support(indices=True)\n",
    "features_ufs = X_train.columns[features_ufs_indices]\n",
    "features_ufs"
   ]
  },
  {
   "cell_type": "code",
   "execution_count": 23,
   "id": "c5311df6",
   "metadata": {},
   "outputs": [
    {
     "name": "stdout",
     "output_type": "stream",
     "text": [
      "**Training Set Metrics**\n",
      "Accuracy \t: 0.8425362887406826\n",
      "Precision \t: 0.8564866795957946\n",
      "Recall \t\t: 0.8229697920753236\n",
      "F1 Score \t: 0.839393787825739\n",
      "\n",
      "**Test Set Metrics**\n",
      "Accuracy \t: 0.81323385518591\n",
      "Precision \t: 0.5525423728813559\n",
      "Recall \t\t: 0.4845422116527943\n",
      "F1 Score \t: 0.5163129553373457\n"
     ]
    }
   ],
   "source": [
    "svm_selected_ufs = SVC(\n",
    "    random_state=47\n",
    ").fit(X_train_selected_ufs,Y_train.values.ravel())\n",
    "# Make predictions on the testing data\n",
    "Y_train_pred_selected_ufs = svm_selected_ufs.predict(X_train_selected_ufs)\n",
    "Y_test_pred_selected_ufs = svm_selected_ufs.predict(X_test_selected_ufs)\n",
    "\n",
    "train_metrics_svm, test_metrics_svm = evaluate(Y_train, Y_train_pred_selected_ufs, Y_test, Y_test_pred_selected_ufs, \"Linear Feature Selected\", train_metrics_svm, test_metrics_svm)"
   ]
  },
  {
   "cell_type": "markdown",
   "id": "e6166757",
   "metadata": {},
   "source": [
    "#### Method 4: Recursive Feature selection using SVM"
   ]
  },
  {
   "cell_type": "code",
   "execution_count": 27,
   "id": "12573a3a",
   "metadata": {},
   "outputs": [
    {
     "data": {
      "image/png": "[encoded data removed]",
      "text/plain": [
       "<Figure size 720x432 with 1 Axes>"
      ]
     },
     "metadata": {
      "needs_background": "light"
     },
     "output_type": "display_data"
    },
    {
     "name": "stdout",
     "output_type": "stream",
     "text": [
      "Optimal number of features based on F1 Score: 16\n"
     ]
    }
   ],
   "source": [
    "svm = SVC(kernel='linear',random_state=47)\n",
    "rfecv = feature_selection_using_rfecv_on_f1score(svm, X_train, Y_train)"
   ]
  },
  {
   "cell_type": "code",
   "execution_count": 33,
   "id": "89d6cc22",
   "metadata": {},
   "outputs": [
    {
     "data": {
      "text/plain": [
       "['stay_type_hour_room',\n",
       " 'cancellation_type_no_booking',\n",
       " 'lead_time_cat_0 to 50',\n",
       " 'lead_time_cat_100 to 150',\n",
       " 'lead_time_cat_150 to 200',\n",
       " 'lead_time_cat_50 to 100',\n",
       " 'lead_time_cat_greater than 300',\n",
       " 'avg_price_per_room_cat_0 to 50',\n",
       " 'avg_price_per_room_cat_200 to 300',\n",
       " 'avg_price_per_room_cat_greater than 300',\n",
       " 'have_special_requests',\n",
       " 'market_segment_type_aviation',\n",
       " 'market_segment_type_complementary',\n",
       " 'market_segment_type_online',\n",
       " 'required_car_parking_space',\n",
       " 'repeated_guest']"
      ]
     },
     "execution_count": 33,
     "metadata": {},
     "output_type": "execute_result"
    }
   ],
   "source": [
    "feature_set_rfecv = list(rfecv[rfecv['selected'] == True]['attribute'])\n",
    "feature_set_rfecv"
   ]
  },
  {
   "cell_type": "code",
   "execution_count": 24,
   "id": "bfe222a1",
   "metadata": {},
   "outputs": [
    {
     "name": "stdout",
     "output_type": "stream",
     "text": [
      "**Training Set Metrics**\n",
      "Accuracy \t: 0.7880051000392311\n",
      "Precision \t: 0.7529502971832199\n",
      "Recall \t\t: 0.8572969792075323\n",
      "F1 Score \t: 0.801742719559734\n",
      "\n",
      "**Test Set Metrics**\n",
      "Accuracy \t: 0.7837573385518591\n",
      "Precision \t: 0.47670639219934996\n",
      "Recall \t\t: 0.5231866825208086\n",
      "F1 Score \t: 0.4988662131519275\n"
     ]
    }
   ],
   "source": [
    "svm_selected = SVC(\n",
    "    random_state=47\n",
    ").fit(X_train[feature_set_rfecv], Y_train.values.ravel())\n",
    "# Make predictions on the testing data\n",
    "Y_train_pred_selected = svm_selected.predict(X_train[feature_set_rfecv])\n",
    "Y_test_pred_selected = svm_selected.predict(X_test[feature_set_rfecv])\n",
    "\n",
    "train_metrics_svm, test_metrics_svm = evaluate(Y_train, Y_train_pred_selected, Y_test, Y_test_pred_selected, \"Feature Selected\", train_metrics_svm, test_metrics_svm)"
   ]
  },
  {
   "cell_type": "code",
   "execution_count": 25,
   "id": "727a9e76",
   "metadata": {},
   "outputs": [
    {
     "data": {
      "text/html": [
       "<div>\n",
       "<style scoped>\n",
       "    .dataframe tbody tr th:only-of-type {\n",
       "        vertical-align: middle;\n",
       "    }\n",
       "\n",
       "    .dataframe tbody tr th {\n",
       "        vertical-align: top;\n",
       "    }\n",
       "\n",
       "    .dataframe thead th {\n",
       "        text-align: right;\n",
       "    }\n",
       "</style>\n",
       "<table border=\"1\" class=\"dataframe\">\n",
       "  <thead>\n",
       "    <tr style=\"text-align: right;\">\n",
       "      <th></th>\n",
       "      <th>Classification Model</th>\n",
       "      <th>Accuracy</th>\n",
       "      <th>Precision</th>\n",
       "      <th>Recall</th>\n",
       "      <th>F1 Score</th>\n",
       "    </tr>\n",
       "  </thead>\n",
       "  <tbody>\n",
       "    <tr>\n",
       "      <th>0</th>\n",
       "      <td>Baseline before Feature Engineering</td>\n",
       "      <td>0.826688</td>\n",
       "      <td>0.635897</td>\n",
       "      <td>0.368609</td>\n",
       "      <td>0.466692</td>\n",
       "    </tr>\n",
       "    <tr>\n",
       "      <th>1</th>\n",
       "      <td>Linear Feature Selected</td>\n",
       "      <td>0.813234</td>\n",
       "      <td>0.552542</td>\n",
       "      <td>0.484542</td>\n",
       "      <td>0.516313</td>\n",
       "    </tr>\n",
       "    <tr>\n",
       "      <th>2</th>\n",
       "      <td>Feature Selected</td>\n",
       "      <td>0.783757</td>\n",
       "      <td>0.476706</td>\n",
       "      <td>0.523187</td>\n",
       "      <td>0.498866</td>\n",
       "    </tr>\n",
       "  </tbody>\n",
       "</table>\n",
       "</div>"
      ],
      "text/plain": [
       "                  Classification Model  Accuracy  Precision    Recall  \\\n",
       "0  Baseline before Feature Engineering  0.826688   0.635897  0.368609   \n",
       "1              Linear Feature Selected  0.813234   0.552542  0.484542   \n",
       "2                     Feature Selected  0.783757   0.476706  0.523187   \n",
       "\n",
       "   F1 Score  \n",
       "0  0.466692  \n",
       "1  0.516313  \n",
       "2  0.498866  "
      ]
     },
     "execution_count": 25,
     "metadata": {},
     "output_type": "execute_result"
    }
   ],
   "source": [
    "test_metrics_svm"
   ]
  },
  {
   "cell_type": "markdown",
   "id": "6aebe3a7",
   "metadata": {},
   "source": [
    "## Hyperparameter-tuning for Linear SVM\n",
    "\n",
    "\n",
    "For Linear Support Vector Machines (SVM), the following hyperparameters can be tuned:\n",
    "\n",
    "1. C (default=1.0): Regularization parameter. The strength of the regularization is inversely proportional to C. Higher values of C allow more flexibility in fitting the training data but may lead to overfitting.\n",
    "\n",
    "Feature set used for linear SVM comes from univariate selection method, because univariate selection method measures the linear relationship between each feature and the target variable individually."
   ]
  },
  {
   "cell_type": "code",
   "execution_count": 80,
   "id": "1b102b61",
   "metadata": {},
   "outputs": [
    {
     "name": "stdout",
     "output_type": "stream",
     "text": [
      "Fitting 5 folds for each of 3 candidates, totalling 15 fits\n",
      "[CV] END ................................................C=1; total time=  22.4s\n",
      "[CV] END ..............................................C=0.1; total time=  19.0s\n",
      "[CV] END ................................................C=1; total time=  17.0s\n",
      "[CV] END ..............................................C=0.1; total time=  19.5s\n",
      "[CV] END ................................................C=1; total time=  16.8s\n",
      "[CV] END ..............................................C=0.1; total time=  19.6s\n",
      "[CV] END ...............................................C=10; total time=23.0min\n",
      "[CV] END ................................................C=1; total time=  19.8s\n",
      "[CV] END ...............................................C=10; total time=23.4min\n",
      "[CV] END ................................................C=1; total time=  19.8s\n",
      "[CV] END ...............................................C=10; total time=32.7min\n",
      "{'C': 0.1}\n",
      "[CV] END ..............................................C=0.1; total time=  21.0s\n",
      "[CV] END ...............................................C=10; total time=36.7min\n",
      "[CV] END ..............................................C=0.1; total time=  20.7s\n",
      "[CV] END ...............................................C=10; total time=38.1min\n"
     ]
    }
   ],
   "source": [
    "from sklearn.model_selection import GridSearchCV\n",
    "\n",
    "# Define parameter grid for SVM\n",
    "param_grid_linear = {\n",
    "    'C': [0.1, 1, 10],\n",
    "}\n",
    "\n",
    "# Initialize SVM classifier with linear kernel\n",
    "svm_linear = SVC(kernel='linear', random_state=47)\n",
    "\n",
    "# Initialize GridSearchCV\n",
    "grid_search_linear = GridSearchCV(estimator=svm_linear, param_grid=param_grid_linear, cv=5, scoring='f1', verbose=2, n_jobs=-1)\n",
    "\n",
    "# Fit GridSearchCV on training data with selected features\n",
    "grid_search_linear.fit(X_train_selected_ufs, Y_train.values.ravel())\n",
    "\n",
    "# Get the best parameters\n",
    "best_params_linear = grid_search_linear.best_params_\n",
    "\n",
    "# Evaluate the performance of the tuned model\n",
    "y_pred_linear = grid_search_linear.predict(X_test_selected_ufs)\n",
    "\n",
    "print(best_params_linear)"
   ]
  },
  {
   "cell_type": "code",
   "execution_count": 26,
   "id": "d80567dc",
   "metadata": {},
   "outputs": [
    {
     "name": "stdout",
     "output_type": "stream",
     "text": [
      "**Training Set Metrics**\n",
      "Accuracy \t: 0.7742742251863476\n",
      "Precision \t: 0.7679409792085848\n",
      "Recall \t\t: 0.7860925853275794\n",
      "F1 Score \t: 0.776910774002811\n",
      "\n",
      "**Test Set Metrics**\n",
      "Accuracy \t: 0.788160469667319\n",
      "Precision \t: 0.4858115777525539\n",
      "Recall \t\t: 0.5089179548156956\n",
      "F1 Score \t: 0.4970963995354239\n"
     ]
    }
   ],
   "source": [
    "svm_linear_tuned = SVC(\n",
    "    random_state=47,\n",
    "    kernel = 'linear',\n",
    "    C = 0.1\n",
    ").fit(X_train_selected_ufs, Y_train.values.ravel())\n",
    "# Make predictions on the testing data\n",
    "Y_train_pred_selected = svm_linear_tuned.predict(X_train_selected_ufs)\n",
    "Y_test_pred_selected = svm_linear_tuned.predict(X_test_selected_ufs)\n",
    "\n",
    "train_metrics_svm, test_metrics_svm = evaluate(Y_train, Y_train_pred_selected, Y_test, Y_test_pred_selected, \"Tuned with linear kernel\", train_metrics_svm, test_metrics_svm)"
   ]
  },
  {
   "cell_type": "markdown",
   "id": "6e5ac7b0",
   "metadata": {},
   "source": [
    "## Hyperparameter-tuning for Non-linear SVM\n",
    "For Linear Support Vector Machines (SVM), the following hyperparameters can be tuned:\n",
    "\n",
    "1. C (default=1.0): Regularization parameter. The strength of the regularization is inversely proportional to C. Higher values of C allow more flexibility in fitting the training data but may lead to overfitting.\n",
    "\n",
    "2. kernel (default='rbf'): Specifies the kernel type to be used in the algorithm. It can be 'poly', 'rbf' (radial basis function), 'sigmoid', or a callable. The choice of kernel influences the decision boundary shape.\n",
    "\n",
    "3. gamma (default='scale'): Kernel coefficient for 'rbf', 'poly', and 'sigmoid'. Higher values of gamma lead to more complex decision boundaries, potentially leading to overfitting.\n",
    "\n",
    "4. degree (default=3): Degree of the polynomial kernel function ('poly'). This parameter is ignored for other kernel types.\n",
    "\n",
    "5. coef0 (default=0.0): Independent term in the polynomial and sigmoid kernels. It is only significant in 'poly' and 'sigmoid' kernels.\n",
    "\n",
    "Feature set used for **rbf SVM** comes from **Univariate Feature Selection** to prevent overfitting by selecting only the most informative features. However, feature set used for **poly SVM**, which is a less complex kernel, comes from **Recursive Feature Selection (RFE)** because it can identify the non-linear relationships between features and the target variable. "
   ]
  },
  {
   "cell_type": "markdown",
   "id": "8f0d4ac0",
   "metadata": {},
   "source": [
    "## Tune kernel rbf"
   ]
  },
  {
   "cell_type": "markdown",
   "id": "82474246",
   "metadata": {},
   "source": [
    "### Tune C"
   ]
  },
  {
   "cell_type": "code",
   "execution_count": 100,
   "id": "823c17c8",
   "metadata": {},
   "outputs": [
    {
     "name": "stdout",
     "output_type": "stream",
     "text": [
      "Fitting 5 folds for each of 3 candidates, totalling 15 fits\n",
      "Best kernel parameter: {'C': 10}\n"
     ]
    }
   ],
   "source": [
    "# Define the parameter grid for SVM\n",
    "param_grid_rbf = {\n",
    "    'C': [0.1, 1, 10],\n",
    "}\n",
    "\n",
    "svm = SVC(kernel = 'rbf', random_state = 47)\n",
    "grid_search_ker = GridSearchCV(estimator=svm, param_grid=param_grid_rbf, cv=5, scoring='f1', n_jobs=-1, verbose = 2)\n",
    "\n",
    "# Fit GridSearchCV on training data\n",
    "grid_search_ker.fit(X_train_selected_ufs, Y_train.values.ravel())\n",
    "\n",
    "# Get the best parameters\n",
    "best_params_ker = grid_search_ker.best_params_\n",
    "\n",
    "# Evaluate the performance of the tuned model\n",
    "y_pred_ker = grid_search_ker.predict(X_test_selected_ufs)\n",
    "\n",
    "print(\"Best kernel parameter:\", best_params_ker)"
   ]
  },
  {
   "cell_type": "code",
   "execution_count": 101,
   "id": "463696a5",
   "metadata": {},
   "outputs": [
    {
     "data": {
      "image/png": "[encoded data removed]",
      "text/plain": [
       "<Figure size 720x432 with 1 Axes>"
      ]
     },
     "metadata": {
      "needs_background": "light"
     },
     "output_type": "display_data"
    }
   ],
   "source": [
    "# Get the hyperparameters and corresponding scores\n",
    "param_values = [params['C'] for params in grid_search_ker.cv_results_['params']]\n",
    "mean_test_scores = grid_search_ker.cv_results_['mean_test_score']\n",
    "\n",
    "# Plot C vs. F1 score\n",
    "plt.figure(figsize=(10, 6))\n",
    "plt.plot(param_values, mean_test_scores, marker='o', linestyle='-')\n",
    "plt.title('C vs. F1 Score for RBF Kernel SVM')\n",
    "plt.xlabel('C')\n",
    "plt.ylabel('F1 Score')\n",
    "plt.grid(True)\n",
    "plt.show()"
   ]
  },
  {
   "cell_type": "markdown",
   "id": "983d3453",
   "metadata": {},
   "source": [
    "C = 10 results in a higher performace remarkably. Hence we will stick to C = 10 in the following training for linear SVM."
   ]
  },
  {
   "cell_type": "markdown",
   "id": "8b07d9fa",
   "metadata": {},
   "source": [
    "### Tune gamma"
   ]
  },
  {
   "cell_type": "code",
   "execution_count": 113,
   "id": "65ccda5e",
   "metadata": {},
   "outputs": [
    {
     "name": "stdout",
     "output_type": "stream",
     "text": [
      "Best kernel parameter (Random Search): {'gamma': 0.23778172582285131}\n"
     ]
    }
   ],
   "source": [
    "# Define the parameter grid for random search with the specified range\n",
    "param_dist_rbf = {\n",
    "    'gamma': np.logspace(-2, np.log10(3), 10)   # Range from 0.01 to 3 in logarithmic scale\n",
    "}\n",
    "\n",
    "# Initialize SVM classifier\n",
    "svm = SVC(kernel='rbf', C=10, random_state=47)\n",
    "\n",
    "# Initialize RandomizedSearchCV\n",
    "random_search_ker = RandomizedSearchCV(estimator=svm, param_distributions=param_dist_rbf, n_iter=10, cv=5, scoring='f1', n_jobs=-1, random_state=47, verbose=2)\n",
    "\n",
    "# Fit RandomizedSearchCV on training data\n",
    "random_search_ker.fit(X_train_selected_ufs, Y_train.values.ravel())\n",
    "\n",
    "# Get the best parameters\n",
    "best_params_ker_random = random_search_ker.best_params_\n",
    "\n",
    "# Evaluate the performance of the tuned model\n",
    "y_pred_ker_random = random_search_ker.predict(X_test_selected_ufs)\n",
    "\n",
    "print(\"Best kernel parameter (Random Search):\", best_params_ker_random)"
   ]
  },
  {
   "cell_type": "code",
   "execution_count": 110,
   "id": "720070e5",
   "metadata": {},
   "outputs": [
    {
     "data": {
      "image/png": "[encoded data removed]",
      "text/plain": [
       "<Figure size 720x432 with 1 Axes>"
      ]
     },
     "metadata": {
      "needs_background": "light"
     },
     "output_type": "display_data"
    },
    {
     "name": "stdout",
     "output_type": "stream",
     "text": [
      "[CV] END .........................gamma=0.018846716378431196; total time=  28.2s\n",
      "[CV] END ..........................gamma=0.03551987182490267; total time=  27.8s\n",
      "[CV] END ..........................gamma=0.06694329500821695; total time=  29.1s\n",
      "[CV] END ..........................gamma=0.23778172582285131; total time=  25.2s\n",
      "[CV] END ...........................gamma=0.4481404746557166; total time=  34.6s\n",
      "[CV] END ...........................gamma=1.5917892219322096; total time= 1.3min\n",
      "[CV] END .........................gamma=0.018846716378431196; total time=  29.0s\n",
      "[CV] END ..........................gamma=0.03551987182490267; total time=  27.5s\n",
      "[CV] END ...........................gamma=0.1261661294457514; total time=  30.2s\n",
      "[CV] END ..........................gamma=0.23778172582285131; total time=  25.0s\n",
      "[CV] END ...........................gamma=0.8445976423531825; total time=  46.7s\n",
      "[CV] END ...........................gamma=1.5917892219322096; total time= 1.3min\n",
      "[CV] END .........................................gamma=0.01; total time=  27.9s\n",
      "[CV] END ..........................gamma=0.03551987182490267; total time=  28.0s\n",
      "[CV] END ..........................gamma=0.06694329500821695; total time=  29.1s\n",
      "[CV] END ..........................gamma=0.23778172582285131; total time=  25.9s\n",
      "[CV] END ...........................gamma=0.8445976423531825; total time=  56.6s\n",
      "[CV] END ...........................gamma=1.5917892219322096; total time= 1.3min\n",
      "[CV] END .........................gamma=0.018846716378431196; total time=  27.9s\n",
      "[CV] END ..........................gamma=0.03551987182490267; total time=  28.8s\n",
      "[CV] END ...........................gamma=0.1261661294457514; total time=  30.7s\n",
      "[CV] END ...........................gamma=0.4481404746557166; total time=  37.6s\n",
      "[CV] END ...........................gamma=0.8445976423531825; total time=  46.2s\n",
      "[CV] END ..........................................gamma=3.0; total time= 1.2min\n",
      "[CV] END .........................................gamma=0.01; total time=  28.1s\n",
      "[CV] END ..........................gamma=0.03551987182490267; total time=  28.0s\n",
      "[CV] END ...........................gamma=0.1261661294457514; total time=  31.0s\n",
      "[CV] END ..........................gamma=0.23778172582285131; total time=  25.2s\n",
      "[CV] END ...........................gamma=0.8445976423531825; total time=  57.6s\n",
      "[CV] END ..........................................gamma=3.0; total time= 1.4min\n",
      "[CV] END .........................................gamma=0.01; total time=  29.0s\n",
      "[CV] END ..........................gamma=0.06694329500821695; total time=  29.8s\n",
      "[CV] END ...........................gamma=0.1261661294457514; total time=  28.5s\n",
      "[CV] END ...........................gamma=0.4481404746557166; total time=  31.2s\n",
      "[CV] END ...........................gamma=0.8445976423531825; total time=  54.3s\n",
      "[CV] END ..........................................gamma=3.0; total time= 1.4min\n",
      "[CV] END .........................................gamma=0.01; total time=  27.7s\n",
      "[CV] END .........................gamma=0.018846716378431196; total time=  27.5s\n",
      "[CV] END ..........................gamma=0.06694329500821695; total time=  29.3s\n",
      "[CV] END ..........................gamma=0.23778172582285131; total time=  26.3s\n",
      "[CV] END ...........................gamma=0.4481404746557166; total time=  36.9s\n",
      "[CV] END ...........................gamma=1.5917892219322096; total time= 1.1min\n",
      "[CV] END ..........................................gamma=3.0; total time=  51.3s\n",
      "[CV] END .........................................gamma=0.01; total time=  27.7s\n",
      "[CV] END .........................gamma=0.018846716378431196; total time=  26.8s\n",
      "[CV] END ..........................gamma=0.06694329500821695; total time=  30.0s\n",
      "[CV] END ...........................gamma=0.1261661294457514; total time=  24.2s\n",
      "[CV] END ...........................gamma=0.4481404746557166; total time=  30.1s\n",
      "[CV] END ...........................gamma=1.5917892219322096; total time= 1.3min\n",
      "[CV] END ..........................................gamma=3.0; total time=  55.3s\n"
     ]
    }
   ],
   "source": [
    "# Extract gamma values and corresponding F1 scores\n",
    "gamma_values = [params['gamma'] for params in random_search_ker.cv_results_['params']]\n",
    "f1_scores = random_search_ker.cv_results_['mean_test_score']\n",
    "\n",
    "# Plot gamma vs. F1 score\n",
    "plt.figure(figsize=(10, 6))\n",
    "plt.plot(gamma_values, f1_scores, marker='o', linestyle='-')\n",
    "plt.title('Gamma vs. F1 Score (Random Search)')\n",
    "plt.xlabel('Gamma')\n",
    "plt.ylabel('F1 Score')\n",
    "plt.xscale('log')  # Set x-axis to logarithmic scale\n",
    "plt.grid(True)\n",
    "plt.show()"
   ]
  },
  {
   "cell_type": "markdown",
   "id": "fc031fa6",
   "metadata": {},
   "source": [
    "### With best set of parameters"
   ]
  },
  {
   "cell_type": "code",
   "execution_count": 27,
   "id": "1a258588",
   "metadata": {},
   "outputs": [
    {
     "name": "stdout",
     "output_type": "stream",
     "text": [
      "**Training Set Metrics**\n",
      "Accuracy \t: 0.8874068262063555\n",
      "Precision \t: 0.8964271376957046\n",
      "Recall \t\t: 0.8760298156139663\n",
      "F1 Score \t: 0.8861111111111112\n",
      "\n",
      "**Test Set Metrics**\n",
      "Accuracy \t: 0.8085861056751468\n",
      "Precision \t: 0.5362229102167183\n",
      "Recall \t\t: 0.5148632580261593\n",
      "F1 Score \t: 0.5253260539884744\n"
     ]
    }
   ],
   "source": [
    "svm_selected_rbf = SVC(\n",
    "    random_state=47,\n",
    "    kernel = 'rbf',\n",
    "    C = 10,\n",
    "    gamma = 0.23778172582285131\n",
    ").fit(X_train_selected_ufs, Y_train.values.ravel())\n",
    "# Make predictions on the testing data\n",
    "Y_train_pred_selected = svm_selected_rbf.predict(X_train_selected_ufs)\n",
    "Y_test_pred_selected = svm_selected_rbf.predict(X_test_selected_ufs)\n",
    "\n",
    "train_metrics_svm, test_metrics_svm = evaluate(Y_train, Y_train_pred_selected, Y_test, Y_test_pred_selected, \"Tuned with rbf kernel\", train_metrics_svm, test_metrics_svm)"
   ]
  },
  {
   "cell_type": "markdown",
   "id": "d48dd710",
   "metadata": {},
   "source": [
    "## Tune kernel poly"
   ]
  },
  {
   "cell_type": "markdown",
   "id": "b2be787e",
   "metadata": {},
   "source": [
    "### Tune coef0"
   ]
  },
  {
   "cell_type": "code",
   "execution_count": 120,
   "id": "51e318be",
   "metadata": {},
   "outputs": [
    {
     "name": "stdout",
     "output_type": "stream",
     "text": [
      "Fitting 5 folds for each of 10 candidates, totalling 50 fits\n",
      "Best value for coef0 parameter: {'coef0': 7}\n"
     ]
    }
   ],
   "source": [
    "from sklearn.model_selection import RandomizedSearchCV\n",
    "from scipy.stats import randint\n",
    "\n",
    "# Define the parameter distributions for RandomizedSearchCV\n",
    "param_dist_coef0 = {\n",
    "    'coef0': randint(0, 20)    \n",
    "}\n",
    "\n",
    "# Initialize SVM classifier with polynomial kernel\n",
    "svm_poly = SVC(kernel='poly', random_state=47)\n",
    "\n",
    "# Initialize RandomizedSearchCV\n",
    "random_search_coef0 = RandomizedSearchCV(estimator=svm_poly, param_distributions=param_dist_coef0, n_iter=10, cv=5, scoring='f1', n_jobs=-1, verbose=2)\n",
    "\n",
    "# Fit RandomizedSearchCV on training data\n",
    "random_search_coef0.fit(X_train[feature_set_rfecv], Y_train.values.ravel())\n",
    "\n",
    "# Get the best parameters\n",
    "best_params_coef0 = random_search_coef0.best_params_\n",
    "\n",
    "# Evaluate the performance of the tuned model\n",
    "y_pred_coef0 = random_search_coef0.predict(X_test[feature_set_rfecv])\n",
    "\n",
    "print(\"Best value for coef0 parameter:\", best_params_coef0)\n"
   ]
  },
  {
   "cell_type": "code",
   "execution_count": 124,
   "id": "55dbfb7a",
   "metadata": {},
   "outputs": [
    {
     "data": {
      "image/png": "[encoded data removed]",
      "text/plain": [
       "<Figure size 720x432 with 1 Axes>"
      ]
     },
     "metadata": {
      "needs_background": "light"
     },
     "output_type": "display_data"
    }
   ],
   "source": [
    "# Sort the parameters and corresponding mean test scores based on the coef0 values\n",
    "sorted_indices = np.argsort(params_coef0)\n",
    "sorted_params_coef0 = np.array(params_coef0)[sorted_indices]\n",
    "sorted_mean_test_scores = np.array(mean_test_scores)[sorted_indices]\n",
    "\n",
    "# Plot coef0 vs. F1 score using a scatter plot with connected lines\n",
    "plt.figure(figsize=(10, 6))\n",
    "plt.plot(sorted_params_coef0, sorted_mean_test_scores, marker='o', linestyle='-')\n",
    "plt.title('coef0 vs. F1 Score (Polynomial SVM)')\n",
    "plt.xlabel('coef0')\n",
    "plt.ylabel('F1 Score')\n",
    "plt.grid(True)\n",
    "plt.show()\n"
   ]
  },
  {
   "cell_type": "markdown",
   "id": "4021be3b",
   "metadata": {},
   "source": [
    "The plot shows that coef0 from 6 to 9 leads to better a performance, hence we will stick to range [6,7,8] in the following tuning."
   ]
  },
  {
   "cell_type": "markdown",
   "id": "97a432ea",
   "metadata": {},
   "source": [
    "### Tune degree"
   ]
  },
  {
   "cell_type": "code",
   "execution_count": 8,
   "id": "f38e2351",
   "metadata": {},
   "outputs": [
    {
     "name": "stdout",
     "output_type": "stream",
     "text": [
      "Fitting 5 folds for each of 5 candidates, totalling 25 fits\n",
      "Best value for degree parameter: {'degree': 6}\n"
     ]
    },
    {
     "data": {
      "image/png": "[encoded data removed]",
      "text/plain": [
       "<Figure size 720x432 with 1 Axes>"
      ]
     },
     "metadata": {
      "needs_background": "light"
     },
     "output_type": "display_data"
    }
   ],
   "source": [
    "# Define the parameter distributions for RandomizedSearchCV for degree\n",
    "param_dist_degree = {\n",
    "    'degree': randint(1, 12)     \n",
    "}\n",
    "\n",
    "svm_poly = SVC(kernel='poly', random_state=47)\n",
    "# Initialize RandomizedSearchCV for degree\n",
    "random_search_degree = RandomizedSearchCV(estimator=svm_poly, param_distributions=param_dist_degree, n_iter=5, cv=5, scoring='f1', n_jobs=-1, verbose=2)\n",
    "\n",
    "# Fit RandomizedSearchCV on training data for degree\n",
    "random_search_degree.fit(X_train[feature_set_rfecv], Y_train.values.ravel())\n",
    "\n",
    "# Get the best parameters for degree\n",
    "best_params_degree = random_search_degree.best_params_\n",
    "\n",
    "# Evaluate the performance of the tuned model for degree\n",
    "y_pred_degree = random_search_degree.predict(X_test[feature_set_rfecv])\n",
    "\n",
    "print(\"Best value for degree parameter:\", best_params_degree)\n",
    "\n",
    "# Plot degree vs. F1 score using a scatter plot with connected lines\n",
    "params_degree = random_search_degree.cv_results_['param_degree']\n",
    "mean_test_scores_degree = random_search_degree.cv_results_['mean_test_score']\n",
    "\n",
    "# Sort the parameters and corresponding mean test scores based on the degree values\n",
    "sorted_indices_degree = np.argsort(params_degree)\n",
    "sorted_params_degree = np.array(params_degree)[sorted_indices_degree]\n",
    "sorted_mean_test_scores_degree = np.array(mean_test_scores_degree)[sorted_indices_degree]\n",
    "\n",
    "# Plot degree vs. F1 score using a scatter plot with connected lines\n",
    "plt.figure(figsize=(10, 6))\n",
    "plt.plot(sorted_params_degree, sorted_mean_test_scores_degree, marker='o', linestyle='-')\n",
    "plt.title('Degree vs. F1 Score (Polynomial SVM)')\n",
    "plt.xlabel('Degree')\n",
    "plt.ylabel('F1 Score')\n",
    "plt.grid(True)\n",
    "plt.show()"
   ]
  },
  {
   "cell_type": "markdown",
   "id": "498071ce",
   "metadata": {},
   "source": [
    "Models with smaller Degree demonstrate better performance. We will stick with Degree = [4,6,8] in the later stage."
   ]
  },
  {
   "cell_type": "markdown",
   "id": "8e1efb45",
   "metadata": {},
   "source": [
    "### Tune all parameters with smaller range"
   ]
  },
  {
   "cell_type": "code",
   "execution_count": 9,
   "id": "24643b87",
   "metadata": {},
   "outputs": [
    {
     "name": "stdout",
     "output_type": "stream",
     "text": [
      "Fitting 5 folds for each of 27 candidates, totalling 135 fits\n",
      "Best parameters for polynomial kernel: {'C': 0.1, 'coef0': 6, 'degree': 6}\n"
     ]
    }
   ],
   "source": [
    "# Define the parameter grid for SVM with polynomial kernel\n",
    "param_grid_poly = {\n",
    "    'degree': [4, 6, 8],  \n",
    "    'coef0': [6, 7, 8],    \n",
    "    'C': [0.1, 1, 10]      \n",
    "}\n",
    "\n",
    "svm_poly = SVC(kernel='poly', random_state=47)\n",
    "grid_search_poly = GridSearchCV(estimator=svm_poly, param_grid=param_grid_poly, cv=5, scoring='f1', n_jobs=-1, verbose=2)\n",
    "\n",
    "# Fit GridSearchCV on training data\n",
    "grid_search_poly.fit(X_train[feature_set_rfecv], Y_train.values.ravel())\n",
    "\n",
    "# Get the best parameters\n",
    "best_params_poly = grid_search_poly.best_params_\n",
    "\n",
    "# Evaluate the performance of the tuned model\n",
    "y_pred_poly = grid_search_poly.predict(X_test[feature_set_rfecv])\n",
    "\n",
    "print(\"Best parameters for polynomial kernel:\", best_params_poly)"
   ]
  },
  {
   "cell_type": "code",
   "execution_count": 28,
   "id": "7c0a3d55",
   "metadata": {},
   "outputs": [
    {
     "name": "stdout",
     "output_type": "stream",
     "text": [
      "**Training Set Metrics**\n",
      "Accuracy \t: 0.7883483719105532\n",
      "Precision \t: 0.7530556033740747\n",
      "Recall \t\t: 0.8580816006276971\n",
      "F1 Score \t: 0.8021454112038142\n",
      "\n",
      "**Test Set Metrics**\n",
      "Accuracy \t: 0.7837573385518591\n",
      "Precision \t: 0.47673160173160173\n",
      "Recall \t\t: 0.523781212841855\n",
      "F1 Score \t: 0.49915014164305943\n"
     ]
    }
   ],
   "source": [
    "# Initialize the SVM classifier with the best parameters for the polynomial kernel\n",
    "svm_poly = SVC(kernel='poly', degree=best_params_poly['degree'], coef0=best_params_poly['coef0'], C=best_params_poly['C'], random_state=47)\n",
    "\n",
    "# Fit the SVM model on the training data\n",
    "svm_poly.fit(X_train[feature_set_rfecv], Y_train.values.ravel())\n",
    "\n",
    "Y_train_pred_poly = svm_poly.predict(X_train[feature_set_rfecv])\n",
    "Y_test_pred_poly = svm_poly.predict(X_test[feature_set_rfecv])\n",
    "\n",
    "train_metrics_svm, test_metrics_svm = evaluate(Y_train, Y_train_pred_poly, Y_test, Y_test_pred_poly, \"Tuned with poly kernel\", train_metrics_svm, test_metrics_svm)"
   ]
  },
  {
   "cell_type": "markdown",
   "id": "0236c413",
   "metadata": {},
   "source": [
    "## Evaluation"
   ]
  },
  {
   "cell_type": "code",
   "execution_count": 29,
   "id": "da58dc81",
   "metadata": {},
   "outputs": [
    {
     "data": {
      "text/html": [
       "<div>\n",
       "<style scoped>\n",
       "    .dataframe tbody tr th:only-of-type {\n",
       "        vertical-align: middle;\n",
       "    }\n",
       "\n",
       "    .dataframe tbody tr th {\n",
       "        vertical-align: top;\n",
       "    }\n",
       "\n",
       "    .dataframe thead th {\n",
       "        text-align: right;\n",
       "    }\n",
       "</style>\n",
       "<table border=\"1\" class=\"dataframe\">\n",
       "  <thead>\n",
       "    <tr style=\"text-align: right;\">\n",
       "      <th></th>\n",
       "      <th>Classification Model</th>\n",
       "      <th>Accuracy</th>\n",
       "      <th>Precision</th>\n",
       "      <th>Recall</th>\n",
       "      <th>F1 Score</th>\n",
       "    </tr>\n",
       "  </thead>\n",
       "  <tbody>\n",
       "    <tr>\n",
       "      <th>0</th>\n",
       "      <td>Baseline before Feature Engineering</td>\n",
       "      <td>0.826688</td>\n",
       "      <td>0.635897</td>\n",
       "      <td>0.368609</td>\n",
       "      <td>0.466692</td>\n",
       "    </tr>\n",
       "    <tr>\n",
       "      <th>1</th>\n",
       "      <td>Linear Feature Selected</td>\n",
       "      <td>0.813234</td>\n",
       "      <td>0.552542</td>\n",
       "      <td>0.484542</td>\n",
       "      <td>0.516313</td>\n",
       "    </tr>\n",
       "    <tr>\n",
       "      <th>2</th>\n",
       "      <td>Feature Selected</td>\n",
       "      <td>0.783757</td>\n",
       "      <td>0.476706</td>\n",
       "      <td>0.523187</td>\n",
       "      <td>0.498866</td>\n",
       "    </tr>\n",
       "    <tr>\n",
       "      <th>3</th>\n",
       "      <td>Tuned with linear kernel</td>\n",
       "      <td>0.788160</td>\n",
       "      <td>0.485812</td>\n",
       "      <td>0.508918</td>\n",
       "      <td>0.497096</td>\n",
       "    </tr>\n",
       "    <tr>\n",
       "      <th>4</th>\n",
       "      <td>Tuned with rbf kernel</td>\n",
       "      <td>0.808586</td>\n",
       "      <td>0.536223</td>\n",
       "      <td>0.514863</td>\n",
       "      <td>0.525326</td>\n",
       "    </tr>\n",
       "    <tr>\n",
       "      <th>5</th>\n",
       "      <td>Tuned with poly kernel</td>\n",
       "      <td>0.783757</td>\n",
       "      <td>0.476732</td>\n",
       "      <td>0.523781</td>\n",
       "      <td>0.499150</td>\n",
       "    </tr>\n",
       "  </tbody>\n",
       "</table>\n",
       "</div>"
      ],
      "text/plain": [
       "                  Classification Model  Accuracy  Precision    Recall  \\\n",
       "0  Baseline before Feature Engineering  0.826688   0.635897  0.368609   \n",
       "1              Linear Feature Selected  0.813234   0.552542  0.484542   \n",
       "2                     Feature Selected  0.783757   0.476706  0.523187   \n",
       "3             Tuned with linear kernel  0.788160   0.485812  0.508918   \n",
       "4                Tuned with rbf kernel  0.808586   0.536223  0.514863   \n",
       "5               Tuned with poly kernel  0.783757   0.476732  0.523781   \n",
       "\n",
       "   F1 Score  \n",
       "0  0.466692  \n",
       "1  0.516313  \n",
       "2  0.498866  \n",
       "3  0.497096  \n",
       "4  0.525326  \n",
       "5  0.499150  "
      ]
     },
     "execution_count": 29,
     "metadata": {},
     "output_type": "execute_result"
    }
   ],
   "source": [
    "test_metrics_svm"
   ]
  },
  {
   "cell_type": "code",
   "execution_count": 32,
   "id": "81346d93",
   "metadata": {},
   "outputs": [
    {
     "data": {
      "image/png": "[encoded data removed]",
      "text/plain": [
       "<Figure size 1080x720 with 4 Axes>"
      ]
     },
     "metadata": {
      "needs_background": "light"
     },
     "output_type": "display_data"
    }
   ],
   "source": [
    "plotMetricsGraphComparison(test_metrics_svm)"
   ]
  },
  {
   "cell_type": "markdown",
   "id": "00d9d1d0",
   "metadata": {},
   "source": [
    "SVM with the RBF kernel and hyperparameter tuning, yields the best model performance with an F1 score of 0.525. This may be attributed to its more flexible decision boundaries compared to linear and polynomial kernels, which allows it to adapt to the underlying structure of the data more effectively.  \n",
    "\n",
    "\n",
    "Interestingly, the baseline model before feature selection demonstrates the highest accuracy and precision among all models, while exhibiting comparatively lower recall and F1 scores. We observe a significant trade-off between precision and recall scores. We can further conclude that feature selection and hyperparameter tuning work well in addressing this problem. \n",
    "\n",
    "\n",
    "Additionally, we want to emphasize the notable performance improvement achieved by linear feature selection, which resulted in a 5% increase in the F1 score, surpassing even the non-linear feature selection methods. This outcome underscores the effectiveness of linear feature selection techniques in capturing relevant information for our classification task. This may be attributed to the ability of linear methods to identify the most discriminative features while maintaining simplicity. This also highlights the importance of considering linear feature selection approaches, even in the presence of non-linear relationships in the data."
   ]
  },
  {
   "cell_type": "markdown",
   "id": "26f659e0",
   "metadata": {},
   "source": [
    "## Export Best Model"
   ]
  },
  {
   "cell_type": "code",
   "execution_count": 33,
   "id": "cd5a2416",
   "metadata": {},
   "outputs": [
    {
     "data": {
      "text/plain": [
       "['FinalModels/BestSVM.pkl']"
      ]
     },
     "execution_count": 33,
     "metadata": {},
     "output_type": "execute_result"
    }
   ],
   "source": [
    "# Exporting the best model to be compared later on\n",
    "import joblib\n",
    "\n",
    "joblib.dump(svm_selected_rbf, \"FinalModels/BestSVM.pkl\") "
   ]
  },
  {
   "cell_type": "code",
   "execution_count": 34,
   "id": "177658dc",
   "metadata": {},
   "outputs": [
    {
     "name": "stdout",
     "output_type": "stream",
     "text": [
      "Features exported successfully to FinalModels/Feature_Selection/Best SVM\n"
     ]
    }
   ],
   "source": [
    "# Exporting the features used for this model\n",
    "from FeatureSelectionUtils import export_final_selected_features_to_csv\n",
    "\n",
    "export_final_selected_features_to_csv(features_ufs, \"Best SVM\")"
   ]
  },
  {
   "cell_type": "markdown",
   "id": "72be3d4b",
   "metadata": {},
   "source": [
    "## Next Steps\n",
    "\n",
    "Now, after doing feature selection and hyperparameter tuning, the model is exported out such that we can compare this classification model (SVM) with the best feature selection and hyperparameter tuning to other best classification models later.\n",
    "\n",
    "\n",
    "## To Navigate To The Next Notebook:\n",
    "0. [Introduction](/0%20-%20Introduction.ipynb) \n",
    "1. [Data Cleaning Notebook](/1%20-%20Data%20Cleaning.ipynb) \n",
    "2. [Exploratory Data Analyis Notebook](/2%20-%20Data%20Exploration.ipynb)\n",
    "3. [Data Pre-processing Notebook](/3%20-%20Data%20Pre-Processing.ipynb)\n",
    "4. [Initial Classification Models Notebook](/4%20-%20ClassificationModels.ipynb)\n",
    "5. [Feature Engineering Notebook](/5%20-%20Feature%20Engineering.ipynb) \n",
    "6. Applying Feature Selection + Hyperparameter Tuning On Individual Models\n",
    "   1. [Logistic Regression Notebook](/6.1%20-%20Logistic%20Regression.ipynb) \n",
    "   2. [K Nearest Neighbour Notebook](/6.2%20-%20K%20Nearest%20Neighbour.ipynb) \n",
    "   3. [Decision Tree Notebook](/6.3%20-%20Decision%20Tree.ipynb) \n",
    "   4. [Support Vector Machine Notebook](/6.4%20-%20SVM.ipynb) - <b>[You Are Here Now]</b>\n",
    "   5. [Random Forest Notebook](/6.5%20-%20Random%20Forest.ipynb)\n",
    "   6. [Adaboost Notebook](/6.6%20-%20Adaboost.ipynb)\n",
    "   7. [Gradient Boost Notebook](/6.7%20-%20Gradient%20Boosting.ipynb)\n",
    "   8. [LightGBM Notebook](/6.8%20-%20LightGBM.ipynb)\n",
    "7.  [Final Model Comparisons + Conclusion Notebook](/7%20-%20Model%20Comparison,%20Final%20Model%20and%20Conclusion.ipynb)"
   ]
  },
  {
   "cell_type": "markdown",
   "id": "6e7e55d5",
   "metadata": {},
   "source": []
  }
 ],
 "metadata": {
  "kernelspec": {
   "display_name": "Python 3 (ipykernel)",
   "language": "python",
   "name": "python3"
  },
  "language_info": {
   "codemirror_mode": {
    "name": "ipython",
    "version": 3
   },
   "file_extension": ".py",
   "mimetype": "text/x-python",
   "name": "python",
   "nbconvert_exporter": "python",
   "pygments_lexer": "ipython3",
   "version": "3.9.13"
  }
 },
 "nbformat": 4,
 "nbformat_minor": 5
}
