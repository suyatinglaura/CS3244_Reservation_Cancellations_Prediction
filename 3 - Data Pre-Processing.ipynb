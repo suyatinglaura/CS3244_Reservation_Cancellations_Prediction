{
 "cells": [
  {
   "cell_type": "markdown",
   "metadata": {},
   "source": [
    "# 3. Data Pre-Processing\n",
    "In this notebook, we will focus on several key data pre-processing steps to ensure the dataset is ready for model training and evaluation. These steps address the following issues:\n",
    "\n",
    "1. Data Splitting: We will begin by splitting the dataset into training and testing sets. This step is done before other pre-processing steps to helps prevent data leakage.\n",
    "2. Categorical Variable Encoding: Machine learning models typically require numerical input, so we will apply encoding techniques to transform categorical variables into a numerical format that the models can understand.\n",
    "3. Numerical Variable Scaling: Scaling numerical variables can enhance model performance and convergence. We will explore various scaling methods and select the most suitable one for our dataset.\n",
    "4. Addressing Class Imbalance: Our dataset exhibits a slight imbalance between classes. To address this issue and improve the representativeness of the minority class, we will employ resampling methods."
   ]
  },
  {
   "cell_type": "markdown",
   "metadata": {},
   "source": [
    "## Import Libraries"
   ]
  },
  {
   "cell_type": "code",
   "execution_count": 1,
   "metadata": {},
   "outputs": [],
   "source": [
    "import pandas as pd\n",
    "import numpy as np\n",
    "import matplotlib.pyplot as plt\n",
    "from sklearn.preprocessing import OneHotEncoder\n",
    "from sklearn.preprocessing import StandardScaler, MinMaxScaler\n",
    "from sklearn.linear_model import LogisticRegression\n",
    "from sklearn.metrics import accuracy_score, precision_score, recall_score, f1_score\n",
    "# For resampling\n",
    "from imblearn.under_sampling import RandomUnderSampler\n",
    "from imblearn.over_sampling import RandomOverSampler\n",
    "from imblearn.over_sampling import SMOTENC"
   ]
  },
  {
   "cell_type": "markdown",
   "metadata": {},
   "source": [
    "## Import Cleaned Dataset"
   ]
  },
  {
   "cell_type": "code",
   "execution_count": 2,
   "metadata": {},
   "outputs": [],
   "source": [
    "df = pd.read_csv('Data/cleaned.csv')"
   ]
  },
  {
   "cell_type": "code",
   "execution_count": 3,
   "metadata": {},
   "outputs": [
    {
     "data": {
      "text/html": [
       "<div>\n",
       "<style scoped>\n",
       "    .dataframe tbody tr th:only-of-type {\n",
       "        vertical-align: middle;\n",
       "    }\n",
       "\n",
       "    .dataframe tbody tr th {\n",
       "        vertical-align: top;\n",
       "    }\n",
       "\n",
       "    .dataframe thead th {\n",
       "        text-align: right;\n",
       "    }\n",
       "</style>\n",
       "<table border=\"1\" class=\"dataframe\">\n",
       "  <thead>\n",
       "    <tr style=\"text-align: right;\">\n",
       "      <th></th>\n",
       "      <th>Booking_ID</th>\n",
       "      <th>no_of_adults</th>\n",
       "      <th>no_of_children</th>\n",
       "      <th>no_of_weekend_nights</th>\n",
       "      <th>no_of_week_nights</th>\n",
       "      <th>type_of_meal_plan</th>\n",
       "      <th>required_car_parking_space</th>\n",
       "      <th>room_type_reserved</th>\n",
       "      <th>lead_time</th>\n",
       "      <th>arrival_year</th>\n",
       "      <th>arrival_month</th>\n",
       "      <th>arrival_date</th>\n",
       "      <th>market_segment_type</th>\n",
       "      <th>repeated_guest</th>\n",
       "      <th>no_of_previous_cancellations</th>\n",
       "      <th>no_of_previous_bookings_not_canceled</th>\n",
       "      <th>avg_price_per_room</th>\n",
       "      <th>no_of_special_requests</th>\n",
       "      <th>booking_status</th>\n",
       "    </tr>\n",
       "  </thead>\n",
       "  <tbody>\n",
       "    <tr>\n",
       "      <th>0</th>\n",
       "      <td>inn00001</td>\n",
       "      <td>2</td>\n",
       "      <td>0</td>\n",
       "      <td>1</td>\n",
       "      <td>2</td>\n",
       "      <td>meal plan 1</td>\n",
       "      <td>0</td>\n",
       "      <td>room_type 1</td>\n",
       "      <td>224</td>\n",
       "      <td>2017</td>\n",
       "      <td>10</td>\n",
       "      <td>2</td>\n",
       "      <td>offline</td>\n",
       "      <td>0</td>\n",
       "      <td>0</td>\n",
       "      <td>0</td>\n",
       "      <td>65.00</td>\n",
       "      <td>0</td>\n",
       "      <td>not_canceled</td>\n",
       "    </tr>\n",
       "    <tr>\n",
       "      <th>1</th>\n",
       "      <td>inn00002</td>\n",
       "      <td>2</td>\n",
       "      <td>0</td>\n",
       "      <td>2</td>\n",
       "      <td>3</td>\n",
       "      <td>not selected</td>\n",
       "      <td>0</td>\n",
       "      <td>room_type 1</td>\n",
       "      <td>5</td>\n",
       "      <td>2018</td>\n",
       "      <td>11</td>\n",
       "      <td>6</td>\n",
       "      <td>online</td>\n",
       "      <td>0</td>\n",
       "      <td>0</td>\n",
       "      <td>0</td>\n",
       "      <td>106.68</td>\n",
       "      <td>1</td>\n",
       "      <td>not_canceled</td>\n",
       "    </tr>\n",
       "    <tr>\n",
       "      <th>2</th>\n",
       "      <td>inn00003</td>\n",
       "      <td>1</td>\n",
       "      <td>0</td>\n",
       "      <td>2</td>\n",
       "      <td>1</td>\n",
       "      <td>meal plan 1</td>\n",
       "      <td>0</td>\n",
       "      <td>room_type 1</td>\n",
       "      <td>1</td>\n",
       "      <td>2018</td>\n",
       "      <td>2</td>\n",
       "      <td>28</td>\n",
       "      <td>online</td>\n",
       "      <td>0</td>\n",
       "      <td>0</td>\n",
       "      <td>0</td>\n",
       "      <td>60.00</td>\n",
       "      <td>0</td>\n",
       "      <td>canceled</td>\n",
       "    </tr>\n",
       "    <tr>\n",
       "      <th>3</th>\n",
       "      <td>inn00004</td>\n",
       "      <td>2</td>\n",
       "      <td>0</td>\n",
       "      <td>0</td>\n",
       "      <td>2</td>\n",
       "      <td>meal plan 1</td>\n",
       "      <td>0</td>\n",
       "      <td>room_type 1</td>\n",
       "      <td>211</td>\n",
       "      <td>2018</td>\n",
       "      <td>5</td>\n",
       "      <td>20</td>\n",
       "      <td>online</td>\n",
       "      <td>0</td>\n",
       "      <td>0</td>\n",
       "      <td>0</td>\n",
       "      <td>100.00</td>\n",
       "      <td>0</td>\n",
       "      <td>canceled</td>\n",
       "    </tr>\n",
       "    <tr>\n",
       "      <th>4</th>\n",
       "      <td>inn00005</td>\n",
       "      <td>2</td>\n",
       "      <td>0</td>\n",
       "      <td>1</td>\n",
       "      <td>1</td>\n",
       "      <td>not selected</td>\n",
       "      <td>0</td>\n",
       "      <td>room_type 1</td>\n",
       "      <td>48</td>\n",
       "      <td>2018</td>\n",
       "      <td>4</td>\n",
       "      <td>11</td>\n",
       "      <td>online</td>\n",
       "      <td>0</td>\n",
       "      <td>0</td>\n",
       "      <td>0</td>\n",
       "      <td>94.50</td>\n",
       "      <td>0</td>\n",
       "      <td>canceled</td>\n",
       "    </tr>\n",
       "  </tbody>\n",
       "</table>\n",
       "</div>"
      ],
      "text/plain": [
       "  Booking_ID  no_of_adults  no_of_children  no_of_weekend_nights  \\\n",
       "0   inn00001             2               0                     1   \n",
       "1   inn00002             2               0                     2   \n",
       "2   inn00003             1               0                     2   \n",
       "3   inn00004             2               0                     0   \n",
       "4   inn00005             2               0                     1   \n",
       "\n",
       "   no_of_week_nights type_of_meal_plan  required_car_parking_space  \\\n",
       "0                  2       meal plan 1                           0   \n",
       "1                  3      not selected                           0   \n",
       "2                  1       meal plan 1                           0   \n",
       "3                  2       meal plan 1                           0   \n",
       "4                  1      not selected                           0   \n",
       "\n",
       "  room_type_reserved  lead_time  arrival_year  arrival_month  arrival_date  \\\n",
       "0        room_type 1        224          2017             10             2   \n",
       "1        room_type 1          5          2018             11             6   \n",
       "2        room_type 1          1          2018              2            28   \n",
       "3        room_type 1        211          2018              5            20   \n",
       "4        room_type 1         48          2018              4            11   \n",
       "\n",
       "  market_segment_type  repeated_guest  no_of_previous_cancellations  \\\n",
       "0             offline               0                             0   \n",
       "1              online               0                             0   \n",
       "2              online               0                             0   \n",
       "3              online               0                             0   \n",
       "4              online               0                             0   \n",
       "\n",
       "   no_of_previous_bookings_not_canceled  avg_price_per_room  \\\n",
       "0                                     0               65.00   \n",
       "1                                     0              106.68   \n",
       "2                                     0               60.00   \n",
       "3                                     0              100.00   \n",
       "4                                     0               94.50   \n",
       "\n",
       "   no_of_special_requests booking_status  \n",
       "0                       0   not_canceled  \n",
       "1                       1   not_canceled  \n",
       "2                       0       canceled  \n",
       "3                       0       canceled  \n",
       "4                       0       canceled  "
      ]
     },
     "execution_count": 3,
     "metadata": {},
     "output_type": "execute_result"
    }
   ],
   "source": [
    "df.head()"
   ]
  },
  {
   "cell_type": "code",
   "execution_count": 4,
   "metadata": {},
   "outputs": [
    {
     "data": {
      "text/plain": [
       "Index(['Booking_ID', 'no_of_adults', 'no_of_children', 'no_of_weekend_nights',\n",
       "       'no_of_week_nights', 'type_of_meal_plan', 'required_car_parking_space',\n",
       "       'room_type_reserved', 'lead_time', 'arrival_year', 'arrival_month',\n",
       "       'arrival_date', 'market_segment_type', 'repeated_guest',\n",
       "       'no_of_previous_cancellations', 'no_of_previous_bookings_not_canceled',\n",
       "       'avg_price_per_room', 'no_of_special_requests', 'booking_status'],\n",
       "      dtype='object')"
      ]
     },
     "execution_count": 4,
     "metadata": {},
     "output_type": "execute_result"
    }
   ],
   "source": [
    "df.columns"
   ]
  },
  {
   "cell_type": "markdown",
   "metadata": {},
   "source": [
    "## Train-Test Split"
   ]
  },
  {
   "cell_type": "markdown",
   "metadata": {},
   "source": [
    "There are two possible methods for train-test split:\n",
    "\n",
    "1. **Random Split (80/20 Rule)**: This method involves randomly dividing the dataset into training and test sets, typically with a split ratio of 80% for training and 20% for testing.\n",
    "2. **Date-Based Split**: This method splits the data based on the booking date, where entries from earlier dates are assigned to the training set and those from later dates are assigned to the test set. \n",
    "\n",
    "We will adopt method 2 because it closely mimics real-life scenarios, where predictions are made using historical data to forecast future outcomes. Additionally, the size of the training and test sets will be approximately 80:20, ensuring a balanced distribution."
   ]
  },
  {
   "cell_type": "code",
   "execution_count": 5,
   "metadata": {},
   "outputs": [],
   "source": [
    "# create booking_date\n",
    "temp = df.rename(columns={\n",
    "    'arrival_year': 'year',\n",
    "    'arrival_month': 'month',\n",
    "    'arrival_date': 'day'\n",
    "})\n",
    "\n",
    "df['booking_date'] = pd.to_datetime(temp[['year', 'month', 'day']], errors='coerce')\n",
    "df['booking_date'] = df['booking_date'] - pd.Series(\n",
    "    [pd.Timedelta(i, 'd') for i in df.lead_time],\n",
    "    index=df.index\n",
    ")"
   ]
  },
  {
   "cell_type": "code",
   "execution_count": 6,
   "metadata": {},
   "outputs": [
    {
     "data": {
      "text/plain": [
       "Timestamp('2018-12-30 00:00:00')"
      ]
     },
     "execution_count": 6,
     "metadata": {},
     "output_type": "execute_result"
    }
   ],
   "source": [
    "max(df['booking_date'])"
   ]
  },
  {
   "cell_type": "code",
   "execution_count": 7,
   "metadata": {},
   "outputs": [],
   "source": [
    "# split based on booking_date\n",
    "train = df[df['booking_date']<'2018-07-01'].reset_index(drop=True)\n",
    "test = df[df['booking_date']>='2018-07-01'].reset_index(drop=True)"
   ]
  },
  {
   "cell_type": "code",
   "execution_count": 8,
   "metadata": {},
   "outputs": [
    {
     "name": "stdout",
     "output_type": "stream",
     "text": [
      "Size of training set: 28062\n",
      "Size of test set: 8176\n"
     ]
    }
   ],
   "source": [
    "print(f'Size of training set: {len(train)}')\n",
    "print(f'Size of test set: {len(test)}')"
   ]
  },
  {
   "cell_type": "markdown",
   "metadata": {},
   "source": [
    "## Preprocessing on Categorical Variables"
   ]
  },
  {
   "cell_type": "code",
   "execution_count": 9,
   "metadata": {},
   "outputs": [
    {
     "name": "stdout",
     "output_type": "stream",
     "text": [
      "<class 'pandas.core.frame.DataFrame'>\n",
      "RangeIndex: 36238 entries, 0 to 36237\n",
      "Data columns (total 20 columns):\n",
      " #   Column                                Non-Null Count  Dtype         \n",
      "---  ------                                --------------  -----         \n",
      " 0   Booking_ID                            36238 non-null  object        \n",
      " 1   no_of_adults                          36238 non-null  int64         \n",
      " 2   no_of_children                        36238 non-null  int64         \n",
      " 3   no_of_weekend_nights                  36238 non-null  int64         \n",
      " 4   no_of_week_nights                     36238 non-null  int64         \n",
      " 5   type_of_meal_plan                     36238 non-null  object        \n",
      " 6   required_car_parking_space            36238 non-null  int64         \n",
      " 7   room_type_reserved                    36238 non-null  object        \n",
      " 8   lead_time                             36238 non-null  int64         \n",
      " 9   arrival_year                          36238 non-null  int64         \n",
      " 10  arrival_month                         36238 non-null  int64         \n",
      " 11  arrival_date                          36238 non-null  int64         \n",
      " 12  market_segment_type                   36238 non-null  object        \n",
      " 13  repeated_guest                        36238 non-null  int64         \n",
      " 14  no_of_previous_cancellations          36238 non-null  int64         \n",
      " 15  no_of_previous_bookings_not_canceled  36238 non-null  int64         \n",
      " 16  avg_price_per_room                    36238 non-null  float64       \n",
      " 17  no_of_special_requests                36238 non-null  int64         \n",
      " 18  booking_status                        36238 non-null  object        \n",
      " 19  booking_date                          36238 non-null  datetime64[ns]\n",
      "dtypes: datetime64[ns](1), float64(1), int64(13), object(5)\n",
      "memory usage: 5.5+ MB\n"
     ]
    }
   ],
   "source": [
    "df.info()"
   ]
  },
  {
   "cell_type": "markdown",
   "metadata": {},
   "source": [
    "From the above info, we can see that in the dataset, we have many categorical attributes. In order to perform classification, additional data preprocessing has to be done. Let's take a look at the attributes that are non-numerical (Categorical)"
   ]
  },
  {
   "cell_type": "code",
   "execution_count": 10,
   "metadata": {},
   "outputs": [
    {
     "data": {
      "text/html": [
       "<div>\n",
       "<style scoped>\n",
       "    .dataframe tbody tr th:only-of-type {\n",
       "        vertical-align: middle;\n",
       "    }\n",
       "\n",
       "    .dataframe tbody tr th {\n",
       "        vertical-align: top;\n",
       "    }\n",
       "\n",
       "    .dataframe thead th {\n",
       "        text-align: right;\n",
       "    }\n",
       "</style>\n",
       "<table border=\"1\" class=\"dataframe\">\n",
       "  <thead>\n",
       "    <tr style=\"text-align: right;\">\n",
       "      <th></th>\n",
       "      <th>Booking_ID</th>\n",
       "      <th>type_of_meal_plan</th>\n",
       "      <th>room_type_reserved</th>\n",
       "      <th>market_segment_type</th>\n",
       "      <th>booking_status</th>\n",
       "      <th>booking_date</th>\n",
       "    </tr>\n",
       "  </thead>\n",
       "  <tbody>\n",
       "    <tr>\n",
       "      <th>0</th>\n",
       "      <td>inn00001</td>\n",
       "      <td>meal plan 1</td>\n",
       "      <td>room_type 1</td>\n",
       "      <td>offline</td>\n",
       "      <td>not_canceled</td>\n",
       "      <td>2017-02-20</td>\n",
       "    </tr>\n",
       "    <tr>\n",
       "      <th>1</th>\n",
       "      <td>inn00002</td>\n",
       "      <td>not selected</td>\n",
       "      <td>room_type 1</td>\n",
       "      <td>online</td>\n",
       "      <td>not_canceled</td>\n",
       "      <td>2018-11-01</td>\n",
       "    </tr>\n",
       "    <tr>\n",
       "      <th>2</th>\n",
       "      <td>inn00003</td>\n",
       "      <td>meal plan 1</td>\n",
       "      <td>room_type 1</td>\n",
       "      <td>online</td>\n",
       "      <td>canceled</td>\n",
       "      <td>2018-02-27</td>\n",
       "    </tr>\n",
       "    <tr>\n",
       "      <th>3</th>\n",
       "      <td>inn00004</td>\n",
       "      <td>meal plan 1</td>\n",
       "      <td>room_type 1</td>\n",
       "      <td>online</td>\n",
       "      <td>canceled</td>\n",
       "      <td>2017-10-21</td>\n",
       "    </tr>\n",
       "    <tr>\n",
       "      <th>4</th>\n",
       "      <td>inn00005</td>\n",
       "      <td>not selected</td>\n",
       "      <td>room_type 1</td>\n",
       "      <td>online</td>\n",
       "      <td>canceled</td>\n",
       "      <td>2018-02-22</td>\n",
       "    </tr>\n",
       "  </tbody>\n",
       "</table>\n",
       "</div>"
      ],
      "text/plain": [
       "  Booking_ID type_of_meal_plan room_type_reserved market_segment_type  \\\n",
       "0   inn00001       meal plan 1        room_type 1             offline   \n",
       "1   inn00002      not selected        room_type 1              online   \n",
       "2   inn00003       meal plan 1        room_type 1              online   \n",
       "3   inn00004       meal plan 1        room_type 1              online   \n",
       "4   inn00005      not selected        room_type 1              online   \n",
       "\n",
       "  booking_status booking_date  \n",
       "0   not_canceled   2017-02-20  \n",
       "1   not_canceled   2018-11-01  \n",
       "2       canceled   2018-02-27  \n",
       "3       canceled   2017-10-21  \n",
       "4       canceled   2018-02-22  "
      ]
     },
     "execution_count": 10,
     "metadata": {},
     "output_type": "execute_result"
    }
   ],
   "source": [
    "df.select_dtypes(exclude=['int64', 'float64', 'int32', 'float32']).head()"
   ]
  },
  {
   "cell_type": "markdown",
   "metadata": {},
   "source": [
    "Let's also explore what are the possible values given the different categorical attributes. From this, we can identify nominal and ordinal categories, this is important since we would use different preprocessing method depending on the category type.\n",
    "\n",
    "For example, for <b>ordinal data</b> (e.g. Low, med high), there is a natural order to the data, and hence we could replace the values using ordinal encoding, where we map each category with numbers to represent that order.\n",
    "\n",
    "For <b>nominal data</b> (e.g. Red Blue Green), there is no natural order, we cannot simply apply the same strategy as above, since that would imply an artificial order for the data, which is not true. In this case, a strategy we could use is one-hot encoding."
   ]
  },
  {
   "cell_type": "code",
   "execution_count": 11,
   "metadata": {},
   "outputs": [
    {
     "name": "stdout",
     "output_type": "stream",
     "text": [
      "Booking_ID unique values:  ['inn00001' 'inn00002' 'inn00003' ... 'inn36273' 'inn36274' 'inn36275'] \n",
      "\n",
      "type_of_meal_plan unique values:  ['meal plan 1' 'not selected' 'meal plan 2' 'meal plan 3'] \n",
      "\n",
      "room_type_reserved unique values:  ['room_type 1' 'room_type 4' 'room_type 2' 'room_type 6' 'room_type 5'\n",
      " 'room_type 7' 'room_type 3'] \n",
      "\n",
      "market_segment_type unique values:  ['offline' 'online' 'corporate' 'aviation' 'complementary'] \n",
      "\n",
      "booking_status unique values:  ['not_canceled' 'canceled'] \n",
      "\n"
     ]
    }
   ],
   "source": [
    "print(\"Booking_ID unique values: \", df['Booking_ID'].unique(), \"\\n\")\n",
    "print(\"type_of_meal_plan unique values: \", df['type_of_meal_plan'].unique(), \"\\n\")\n",
    "print(\"room_type_reserved unique values: \", df['room_type_reserved'].unique(), \"\\n\")\n",
    "print(\"market_segment_type unique values: \", df['market_segment_type'].unique(), \"\\n\")\n",
    "print(\"booking_status unique values: \", df['booking_status'].unique(), \"\\n\")"
   ]
  },
  {
   "cell_type": "markdown",
   "metadata": {},
   "source": [
    "### Based on results, we can see a few observations:\n",
    "1. Each Booking_ID is unique for each row, this attribute is only used as an identifier to a row, this also means that these are arbitrary values that do not contain any information that helps the model learn patterns related to the target variable, hence we can actually exclude this attribute during our model training.\n",
    "2. All of the categories appears to be of nominal data type, where there is no real natural order, hence a good strategy we can use here would be one-hot encoding. One-hot encoding creates a binary column for each category and gives a 1 or 0 value to indicate true or false.\n",
    "3. For Booking_Status, this is actually our target attribute, it only has two possible values (canceled and not_canceled), in this case, we can just use a label encoding to transform the values into a binary value (1 and 0)."
   ]
  },
  {
   "cell_type": "code",
   "execution_count": 12,
   "metadata": {},
   "outputs": [],
   "source": [
    "# Drop the Booking_ID column as this will not be helpful in training the classification model.\n",
    "train = train.drop('Booking_ID', axis = 1)\n",
    "test = test.drop('Booking_ID', axis = 1)"
   ]
  },
  {
   "cell_type": "code",
   "execution_count": 13,
   "metadata": {},
   "outputs": [],
   "source": [
    "# Encode booking_status\n",
    "train['booking_status'] = train['booking_status'].apply(lambda x: 1 if x=='canceled' else 0)\n",
    "test['booking_status'] = test['booking_status'].apply(lambda x: 1 if x=='canceled' else 0)"
   ]
  },
  {
   "cell_type": "markdown",
   "metadata": {},
   "source": [
    "Hence we have the remaining categorical columns to preprocess:"
   ]
  },
  {
   "cell_type": "code",
   "execution_count": 14,
   "metadata": {},
   "outputs": [],
   "source": [
    "# Categoriy columns that needs to be preprocessed for classification\n",
    "cat_cols_to_be_encoded = ['type_of_meal_plan', 'room_type_reserved', 'market_segment_type', 'arrival_month']\n",
    "\n",
    "# Category columns that are already in the binary format (distinct 0 and 1 values)\n",
    "cat_cols_already_in_the_right_format = ['required_car_parking_space', 'repeated_guest']\n"
   ]
  },
  {
   "cell_type": "markdown",
   "metadata": {},
   "source": [
    "There are several ways for encoding categorical varaibles:\n",
    "1. <b>OrdinalEncoder</b>: Preserves the ordinal relationship between categories, useful when the categorical variables have an inherent order\n",
    "2. <b>OneHotEncoder</b>: Creates binary columns for each category, indicating the presence or absence of each category, suitable for nominal data with no ordinal relationship\n",
    "3. <b>TargetEncoder</b>: Replaces categories with the mean of the target variable for each category, useful for high-cardinality categorical variables\n",
    "4. <b>FrequencyEncoding</b>: Encodes categorical variables based on the frequency of each category in the dataset, useful when the frequency of occurrence is informative, but can lead to information loss\n",
    "\n",
    "For the above variables, they have small cardinalities and are nominal data, so OneHotEncoding is the most suitable method."
   ]
  },
  {
   "cell_type": "code",
   "execution_count": 15,
   "metadata": {},
   "outputs": [],
   "source": [
    "# fit on training data\n",
    "enc = OneHotEncoder(handle_unknown='error')\n",
    "enc.fit(train[cat_cols_to_be_encoded])\n",
    "train[enc.get_feature_names_out()] = enc.transform(train[cat_cols_to_be_encoded]).toarray()"
   ]
  },
  {
   "cell_type": "code",
   "execution_count": 16,
   "metadata": {},
   "outputs": [],
   "source": [
    "# transform test data\n",
    "test[enc.get_feature_names_out()] = enc.transform(test[cat_cols_to_be_encoded]).toarray()"
   ]
  },
  {
   "cell_type": "code",
   "execution_count": 17,
   "metadata": {},
   "outputs": [
    {
     "data": {
      "text/plain": [
       "array(['type_of_meal_plan_meal plan 1', 'type_of_meal_plan_meal plan 2',\n",
       "       'type_of_meal_plan_meal plan 3', 'type_of_meal_plan_not selected',\n",
       "       'room_type_reserved_room_type 1', 'room_type_reserved_room_type 2',\n",
       "       'room_type_reserved_room_type 3', 'room_type_reserved_room_type 4',\n",
       "       'room_type_reserved_room_type 5', 'room_type_reserved_room_type 6',\n",
       "       'room_type_reserved_room_type 7', 'market_segment_type_aviation',\n",
       "       'market_segment_type_complementary',\n",
       "       'market_segment_type_corporate', 'market_segment_type_offline',\n",
       "       'market_segment_type_online', 'arrival_month_1', 'arrival_month_2',\n",
       "       'arrival_month_3', 'arrival_month_4', 'arrival_month_5',\n",
       "       'arrival_month_6', 'arrival_month_7', 'arrival_month_8',\n",
       "       'arrival_month_9', 'arrival_month_10', 'arrival_month_11',\n",
       "       'arrival_month_12', 'required_car_parking_space', 'repeated_guest'],\n",
       "      dtype=object)"
      ]
     },
     "execution_count": 17,
     "metadata": {},
     "output_type": "execute_result"
    }
   ],
   "source": [
    "# store the categorical column names after encoding\n",
    "encoded_cat_cols = enc.get_feature_names_out()\n",
    "\n",
    "# append the encoded_cat_cols with the columns that are already in the right format\n",
    "encoded_cat_cols = np.append(encoded_cat_cols, cat_cols_already_in_the_right_format)\n",
    "encoded_cat_cols"
   ]
  },
  {
   "cell_type": "markdown",
   "metadata": {},
   "source": [
    "For now, all categories are kept to ensure interpretability. To avoid multicollinearity issues in linear models, extra steps can be done to remove some of the attributes."
   ]
  },
  {
   "cell_type": "code",
   "execution_count": 18,
   "metadata": {},
   "outputs": [
    {
     "data": {
      "text/html": [
       "<div>\n",
       "<style scoped>\n",
       "    .dataframe tbody tr th:only-of-type {\n",
       "        vertical-align: middle;\n",
       "    }\n",
       "\n",
       "    .dataframe tbody tr th {\n",
       "        vertical-align: top;\n",
       "    }\n",
       "\n",
       "    .dataframe thead th {\n",
       "        text-align: right;\n",
       "    }\n",
       "</style>\n",
       "<table border=\"1\" class=\"dataframe\">\n",
       "  <thead>\n",
       "    <tr style=\"text-align: right;\">\n",
       "      <th></th>\n",
       "      <th>no_of_adults</th>\n",
       "      <th>no_of_children</th>\n",
       "      <th>no_of_weekend_nights</th>\n",
       "      <th>no_of_week_nights</th>\n",
       "      <th>type_of_meal_plan</th>\n",
       "      <th>required_car_parking_space</th>\n",
       "      <th>room_type_reserved</th>\n",
       "      <th>lead_time</th>\n",
       "      <th>arrival_year</th>\n",
       "      <th>arrival_month</th>\n",
       "      <th>...</th>\n",
       "      <th>arrival_month_3</th>\n",
       "      <th>arrival_month_4</th>\n",
       "      <th>arrival_month_5</th>\n",
       "      <th>arrival_month_6</th>\n",
       "      <th>arrival_month_7</th>\n",
       "      <th>arrival_month_8</th>\n",
       "      <th>arrival_month_9</th>\n",
       "      <th>arrival_month_10</th>\n",
       "      <th>arrival_month_11</th>\n",
       "      <th>arrival_month_12</th>\n",
       "    </tr>\n",
       "  </thead>\n",
       "  <tbody>\n",
       "    <tr>\n",
       "      <th>0</th>\n",
       "      <td>2</td>\n",
       "      <td>0</td>\n",
       "      <td>1</td>\n",
       "      <td>2</td>\n",
       "      <td>meal plan 1</td>\n",
       "      <td>0</td>\n",
       "      <td>room_type 1</td>\n",
       "      <td>224</td>\n",
       "      <td>2017</td>\n",
       "      <td>10</td>\n",
       "      <td>...</td>\n",
       "      <td>0.0</td>\n",
       "      <td>0.0</td>\n",
       "      <td>0.0</td>\n",
       "      <td>0.0</td>\n",
       "      <td>0.0</td>\n",
       "      <td>0.0</td>\n",
       "      <td>0.0</td>\n",
       "      <td>1.0</td>\n",
       "      <td>0.0</td>\n",
       "      <td>0.0</td>\n",
       "    </tr>\n",
       "    <tr>\n",
       "      <th>1</th>\n",
       "      <td>1</td>\n",
       "      <td>0</td>\n",
       "      <td>2</td>\n",
       "      <td>1</td>\n",
       "      <td>meal plan 1</td>\n",
       "      <td>0</td>\n",
       "      <td>room_type 1</td>\n",
       "      <td>1</td>\n",
       "      <td>2018</td>\n",
       "      <td>2</td>\n",
       "      <td>...</td>\n",
       "      <td>0.0</td>\n",
       "      <td>0.0</td>\n",
       "      <td>0.0</td>\n",
       "      <td>0.0</td>\n",
       "      <td>0.0</td>\n",
       "      <td>0.0</td>\n",
       "      <td>0.0</td>\n",
       "      <td>0.0</td>\n",
       "      <td>0.0</td>\n",
       "      <td>0.0</td>\n",
       "    </tr>\n",
       "    <tr>\n",
       "      <th>2</th>\n",
       "      <td>2</td>\n",
       "      <td>0</td>\n",
       "      <td>0</td>\n",
       "      <td>2</td>\n",
       "      <td>meal plan 1</td>\n",
       "      <td>0</td>\n",
       "      <td>room_type 1</td>\n",
       "      <td>211</td>\n",
       "      <td>2018</td>\n",
       "      <td>5</td>\n",
       "      <td>...</td>\n",
       "      <td>0.0</td>\n",
       "      <td>0.0</td>\n",
       "      <td>1.0</td>\n",
       "      <td>0.0</td>\n",
       "      <td>0.0</td>\n",
       "      <td>0.0</td>\n",
       "      <td>0.0</td>\n",
       "      <td>0.0</td>\n",
       "      <td>0.0</td>\n",
       "      <td>0.0</td>\n",
       "    </tr>\n",
       "    <tr>\n",
       "      <th>3</th>\n",
       "      <td>2</td>\n",
       "      <td>0</td>\n",
       "      <td>1</td>\n",
       "      <td>1</td>\n",
       "      <td>not selected</td>\n",
       "      <td>0</td>\n",
       "      <td>room_type 1</td>\n",
       "      <td>48</td>\n",
       "      <td>2018</td>\n",
       "      <td>4</td>\n",
       "      <td>...</td>\n",
       "      <td>0.0</td>\n",
       "      <td>1.0</td>\n",
       "      <td>0.0</td>\n",
       "      <td>0.0</td>\n",
       "      <td>0.0</td>\n",
       "      <td>0.0</td>\n",
       "      <td>0.0</td>\n",
       "      <td>0.0</td>\n",
       "      <td>0.0</td>\n",
       "      <td>0.0</td>\n",
       "    </tr>\n",
       "    <tr>\n",
       "      <th>4</th>\n",
       "      <td>2</td>\n",
       "      <td>0</td>\n",
       "      <td>0</td>\n",
       "      <td>2</td>\n",
       "      <td>meal plan 2</td>\n",
       "      <td>0</td>\n",
       "      <td>room_type 1</td>\n",
       "      <td>346</td>\n",
       "      <td>2018</td>\n",
       "      <td>9</td>\n",
       "      <td>...</td>\n",
       "      <td>0.0</td>\n",
       "      <td>0.0</td>\n",
       "      <td>0.0</td>\n",
       "      <td>0.0</td>\n",
       "      <td>0.0</td>\n",
       "      <td>0.0</td>\n",
       "      <td>1.0</td>\n",
       "      <td>0.0</td>\n",
       "      <td>0.0</td>\n",
       "      <td>0.0</td>\n",
       "    </tr>\n",
       "  </tbody>\n",
       "</table>\n",
       "<p>5 rows × 47 columns</p>\n",
       "</div>"
      ],
      "text/plain": [
       "   no_of_adults  no_of_children  no_of_weekend_nights  no_of_week_nights  \\\n",
       "0             2               0                     1                  2   \n",
       "1             1               0                     2                  1   \n",
       "2             2               0                     0                  2   \n",
       "3             2               0                     1                  1   \n",
       "4             2               0                     0                  2   \n",
       "\n",
       "  type_of_meal_plan  required_car_parking_space room_type_reserved  lead_time  \\\n",
       "0       meal plan 1                           0        room_type 1        224   \n",
       "1       meal plan 1                           0        room_type 1          1   \n",
       "2       meal plan 1                           0        room_type 1        211   \n",
       "3      not selected                           0        room_type 1         48   \n",
       "4       meal plan 2                           0        room_type 1        346   \n",
       "\n",
       "   arrival_year  arrival_month  ...  arrival_month_3 arrival_month_4  \\\n",
       "0          2017             10  ...              0.0             0.0   \n",
       "1          2018              2  ...              0.0             0.0   \n",
       "2          2018              5  ...              0.0             0.0   \n",
       "3          2018              4  ...              0.0             1.0   \n",
       "4          2018              9  ...              0.0             0.0   \n",
       "\n",
       "   arrival_month_5  arrival_month_6  arrival_month_7  arrival_month_8  \\\n",
       "0              0.0              0.0              0.0              0.0   \n",
       "1              0.0              0.0              0.0              0.0   \n",
       "2              1.0              0.0              0.0              0.0   \n",
       "3              0.0              0.0              0.0              0.0   \n",
       "4              0.0              0.0              0.0              0.0   \n",
       "\n",
       "   arrival_month_9  arrival_month_10 arrival_month_11  arrival_month_12  \n",
       "0              0.0               1.0              0.0               0.0  \n",
       "1              0.0               0.0              0.0               0.0  \n",
       "2              0.0               0.0              0.0               0.0  \n",
       "3              0.0               0.0              0.0               0.0  \n",
       "4              1.0               0.0              0.0               0.0  \n",
       "\n",
       "[5 rows x 47 columns]"
      ]
     },
     "execution_count": 18,
     "metadata": {},
     "output_type": "execute_result"
    }
   ],
   "source": [
    "# Quick Peek at the dataset after categorical preprocessing to verify one hot encoding is successful.\n",
    "train.head()"
   ]
  },
  {
   "cell_type": "markdown",
   "metadata": {},
   "source": [
    "## Feature Engineering on Numerical Variables"
   ]
  },
  {
   "cell_type": "markdown",
   "metadata": {},
   "source": [
    "For machine learning algorithm that requires gradient descent or distance measurement, feature scaling is necessary. There are several ways of scaling:\n",
    "1. **Min-Max Scaling**: Scales the data to a fixed range, usually between 0 and 1, useful when the distribution of data is uniform or when the algorithm requires input features to be on a similar scale\n",
    "2. **Standardization**: Scales the data to have a mean of 0 and a standard deviation of 1, preserves the shape of the original distribution and is less affected by outliers\n",
    "\n",
    "We will experiment with both methods and compare the performance in the following sections."
   ]
  },
  {
   "cell_type": "code",
   "execution_count": 19,
   "metadata": {},
   "outputs": [],
   "source": [
    "num_cols = ['no_of_adults', 'no_of_children', 'no_of_weekend_nights', 'no_of_week_nights', 'no_of_previous_cancellations', \n",
    "            'no_of_previous_bookings_not_canceled', 'no_of_special_requests', 'lead_time', 'avg_price_per_room']"
   ]
  },
  {
   "cell_type": "markdown",
   "metadata": {},
   "source": [
    "### Minmax Scaling"
   ]
  },
  {
   "cell_type": "code",
   "execution_count": 20,
   "metadata": {},
   "outputs": [],
   "source": [
    "# fit on training data\n",
    "minmax = MinMaxScaler()\n",
    "minmax.fit(train[num_cols])\n",
    "train[[x+'_minmax' for x in num_cols]] = minmax.transform(train[num_cols])"
   ]
  },
  {
   "cell_type": "code",
   "execution_count": 21,
   "metadata": {},
   "outputs": [],
   "source": [
    "# transform test data\n",
    "test[[x+'_minmax' for x in num_cols]] = minmax.transform(test[num_cols])"
   ]
  },
  {
   "cell_type": "code",
   "execution_count": 22,
   "metadata": {},
   "outputs": [
    {
     "data": {
      "text/plain": [
       "['no_of_adults_minmax',\n",
       " 'no_of_children_minmax',\n",
       " 'no_of_weekend_nights_minmax',\n",
       " 'no_of_week_nights_minmax',\n",
       " 'no_of_previous_cancellations_minmax',\n",
       " 'no_of_previous_bookings_not_canceled_minmax',\n",
       " 'no_of_special_requests_minmax',\n",
       " 'lead_time_minmax',\n",
       " 'avg_price_per_room_minmax']"
      ]
     },
     "execution_count": 22,
     "metadata": {},
     "output_type": "execute_result"
    }
   ],
   "source": [
    "# store the numerical column names after scaling\n",
    "minmax_num_cols = [x+'_minmax' for x in num_cols]\n",
    "minmax_num_cols"
   ]
  },
  {
   "cell_type": "markdown",
   "metadata": {},
   "source": [
    "### Standardization"
   ]
  },
  {
   "cell_type": "code",
   "execution_count": 23,
   "metadata": {},
   "outputs": [],
   "source": [
    "# fit on training data\n",
    "scaler = StandardScaler()\n",
    "scaler.fit(train[num_cols])\n",
    "train[[x+'_scaled' for x in num_cols]] = scaler.transform(train[num_cols])"
   ]
  },
  {
   "cell_type": "code",
   "execution_count": 24,
   "metadata": {},
   "outputs": [],
   "source": [
    "# transform test data\n",
    "test[[x+'_scaled' for x in num_cols]] = scaler.transform(test[num_cols])"
   ]
  },
  {
   "cell_type": "code",
   "execution_count": 25,
   "metadata": {},
   "outputs": [
    {
     "data": {
      "text/plain": [
       "['no_of_adults_scaled',\n",
       " 'no_of_children_scaled',\n",
       " 'no_of_weekend_nights_scaled',\n",
       " 'no_of_week_nights_scaled',\n",
       " 'no_of_previous_cancellations_scaled',\n",
       " 'no_of_previous_bookings_not_canceled_scaled',\n",
       " 'no_of_special_requests_scaled',\n",
       " 'lead_time_scaled',\n",
       " 'avg_price_per_room_scaled']"
      ]
     },
     "execution_count": 25,
     "metadata": {},
     "output_type": "execute_result"
    }
   ],
   "source": [
    "# store the numerical column names after scaling\n",
    "scaled_num_cols = [x+'_scaled' for x in num_cols]\n",
    "scaled_num_cols"
   ]
  },
  {
   "cell_type": "markdown",
   "metadata": {},
   "source": [
    "## Examination with Logistic Regression"
   ]
  },
  {
   "cell_type": "markdown",
   "metadata": {},
   "source": [
    "Train and test set will first be prepared for model building. Then a logistic regression will be fitted to the 2 sets of processed data and compared the performance:\n",
    "1. encoded categorical variables + minmax scaled numerical variables\n",
    "2. encoded categorical variables + standardized numerical variables "
   ]
  },
  {
   "cell_type": "code",
   "execution_count": 26,
   "metadata": {},
   "outputs": [],
   "source": [
    "X_train = train.drop(['booking_status'], axis = 1)\n",
    "Y_train = train['booking_status']\n",
    "X_test = test.drop(['booking_status'], axis = 1)\n",
    "Y_test = test['booking_status']"
   ]
  },
  {
   "cell_type": "code",
   "execution_count": 27,
   "metadata": {},
   "outputs": [
    {
     "data": {
      "text/html": [
       "<div>\n",
       "<style scoped>\n",
       "    .dataframe tbody tr th:only-of-type {\n",
       "        vertical-align: middle;\n",
       "    }\n",
       "\n",
       "    .dataframe tbody tr th {\n",
       "        vertical-align: top;\n",
       "    }\n",
       "\n",
       "    .dataframe thead th {\n",
       "        text-align: right;\n",
       "    }\n",
       "</style>\n",
       "<table border=\"1\" class=\"dataframe\">\n",
       "  <thead>\n",
       "    <tr style=\"text-align: right;\">\n",
       "      <th></th>\n",
       "      <th>no_of_adults</th>\n",
       "      <th>no_of_children</th>\n",
       "      <th>no_of_weekend_nights</th>\n",
       "      <th>no_of_week_nights</th>\n",
       "      <th>type_of_meal_plan</th>\n",
       "      <th>required_car_parking_space</th>\n",
       "      <th>room_type_reserved</th>\n",
       "      <th>lead_time</th>\n",
       "      <th>arrival_year</th>\n",
       "      <th>arrival_month</th>\n",
       "      <th>...</th>\n",
       "      <th>avg_price_per_room_minmax</th>\n",
       "      <th>no_of_adults_scaled</th>\n",
       "      <th>no_of_children_scaled</th>\n",
       "      <th>no_of_weekend_nights_scaled</th>\n",
       "      <th>no_of_week_nights_scaled</th>\n",
       "      <th>no_of_previous_cancellations_scaled</th>\n",
       "      <th>no_of_previous_bookings_not_canceled_scaled</th>\n",
       "      <th>no_of_special_requests_scaled</th>\n",
       "      <th>lead_time_scaled</th>\n",
       "      <th>avg_price_per_room_scaled</th>\n",
       "    </tr>\n",
       "  </thead>\n",
       "  <tbody>\n",
       "    <tr>\n",
       "      <th>0</th>\n",
       "      <td>2</td>\n",
       "      <td>0</td>\n",
       "      <td>1</td>\n",
       "      <td>2</td>\n",
       "      <td>meal plan 1</td>\n",
       "      <td>0</td>\n",
       "      <td>room_type 1</td>\n",
       "      <td>224</td>\n",
       "      <td>2017</td>\n",
       "      <td>10</td>\n",
       "      <td>...</td>\n",
       "      <td>0.120370</td>\n",
       "      <td>0.294807</td>\n",
       "      <td>-0.249422</td>\n",
       "      <td>0.216298</td>\n",
       "      <td>-0.179429</td>\n",
       "      <td>-0.060459</td>\n",
       "      <td>-0.090352</td>\n",
       "      <td>-0.736764</td>\n",
       "      <td>1.363410</td>\n",
       "      <td>-1.078369</td>\n",
       "    </tr>\n",
       "    <tr>\n",
       "      <th>1</th>\n",
       "      <td>1</td>\n",
       "      <td>0</td>\n",
       "      <td>2</td>\n",
       "      <td>1</td>\n",
       "      <td>meal plan 1</td>\n",
       "      <td>0</td>\n",
       "      <td>room_type 1</td>\n",
       "      <td>1</td>\n",
       "      <td>2018</td>\n",
       "      <td>2</td>\n",
       "      <td>...</td>\n",
       "      <td>0.111111</td>\n",
       "      <td>-1.645814</td>\n",
       "      <td>-0.249422</td>\n",
       "      <td>1.360457</td>\n",
       "      <td>-0.890405</td>\n",
       "      <td>-0.060459</td>\n",
       "      <td>-0.090352</td>\n",
       "      <td>-0.736764</td>\n",
       "      <td>-1.076089</td>\n",
       "      <td>-1.229683</td>\n",
       "    </tr>\n",
       "    <tr>\n",
       "      <th>2</th>\n",
       "      <td>2</td>\n",
       "      <td>0</td>\n",
       "      <td>0</td>\n",
       "      <td>2</td>\n",
       "      <td>meal plan 1</td>\n",
       "      <td>0</td>\n",
       "      <td>room_type 1</td>\n",
       "      <td>211</td>\n",
       "      <td>2018</td>\n",
       "      <td>5</td>\n",
       "      <td>...</td>\n",
       "      <td>0.185185</td>\n",
       "      <td>0.294807</td>\n",
       "      <td>-0.249422</td>\n",
       "      <td>-0.927860</td>\n",
       "      <td>-0.179429</td>\n",
       "      <td>-0.060459</td>\n",
       "      <td>-0.090352</td>\n",
       "      <td>-0.736764</td>\n",
       "      <td>1.221197</td>\n",
       "      <td>-0.019170</td>\n",
       "    </tr>\n",
       "    <tr>\n",
       "      <th>3</th>\n",
       "      <td>2</td>\n",
       "      <td>0</td>\n",
       "      <td>1</td>\n",
       "      <td>1</td>\n",
       "      <td>not selected</td>\n",
       "      <td>0</td>\n",
       "      <td>room_type 1</td>\n",
       "      <td>48</td>\n",
       "      <td>2018</td>\n",
       "      <td>4</td>\n",
       "      <td>...</td>\n",
       "      <td>0.175000</td>\n",
       "      <td>0.294807</td>\n",
       "      <td>-0.249422</td>\n",
       "      <td>0.216298</td>\n",
       "      <td>-0.890405</td>\n",
       "      <td>-0.060459</td>\n",
       "      <td>-0.090352</td>\n",
       "      <td>-0.736764</td>\n",
       "      <td>-0.561935</td>\n",
       "      <td>-0.185616</td>\n",
       "    </tr>\n",
       "    <tr>\n",
       "      <th>4</th>\n",
       "      <td>2</td>\n",
       "      <td>0</td>\n",
       "      <td>0</td>\n",
       "      <td>2</td>\n",
       "      <td>meal plan 2</td>\n",
       "      <td>0</td>\n",
       "      <td>room_type 1</td>\n",
       "      <td>346</td>\n",
       "      <td>2018</td>\n",
       "      <td>9</td>\n",
       "      <td>...</td>\n",
       "      <td>0.212963</td>\n",
       "      <td>0.294807</td>\n",
       "      <td>-0.249422</td>\n",
       "      <td>-0.927860</td>\n",
       "      <td>-0.179429</td>\n",
       "      <td>-0.060459</td>\n",
       "      <td>-0.090352</td>\n",
       "      <td>0.606122</td>\n",
       "      <td>2.698023</td>\n",
       "      <td>0.434772</td>\n",
       "    </tr>\n",
       "  </tbody>\n",
       "</table>\n",
       "<p>5 rows × 64 columns</p>\n",
       "</div>"
      ],
      "text/plain": [
       "   no_of_adults  no_of_children  no_of_weekend_nights  no_of_week_nights  \\\n",
       "0             2               0                     1                  2   \n",
       "1             1               0                     2                  1   \n",
       "2             2               0                     0                  2   \n",
       "3             2               0                     1                  1   \n",
       "4             2               0                     0                  2   \n",
       "\n",
       "  type_of_meal_plan  required_car_parking_space room_type_reserved  lead_time  \\\n",
       "0       meal plan 1                           0        room_type 1        224   \n",
       "1       meal plan 1                           0        room_type 1          1   \n",
       "2       meal plan 1                           0        room_type 1        211   \n",
       "3      not selected                           0        room_type 1         48   \n",
       "4       meal plan 2                           0        room_type 1        346   \n",
       "\n",
       "   arrival_year  arrival_month  ...  avg_price_per_room_minmax  \\\n",
       "0          2017             10  ...                   0.120370   \n",
       "1          2018              2  ...                   0.111111   \n",
       "2          2018              5  ...                   0.185185   \n",
       "3          2018              4  ...                   0.175000   \n",
       "4          2018              9  ...                   0.212963   \n",
       "\n",
       "  no_of_adults_scaled  no_of_children_scaled  no_of_weekend_nights_scaled  \\\n",
       "0            0.294807              -0.249422                     0.216298   \n",
       "1           -1.645814              -0.249422                     1.360457   \n",
       "2            0.294807              -0.249422                    -0.927860   \n",
       "3            0.294807              -0.249422                     0.216298   \n",
       "4            0.294807              -0.249422                    -0.927860   \n",
       "\n",
       "   no_of_week_nights_scaled  no_of_previous_cancellations_scaled  \\\n",
       "0                 -0.179429                            -0.060459   \n",
       "1                 -0.890405                            -0.060459   \n",
       "2                 -0.179429                            -0.060459   \n",
       "3                 -0.890405                            -0.060459   \n",
       "4                 -0.179429                            -0.060459   \n",
       "\n",
       "   no_of_previous_bookings_not_canceled_scaled no_of_special_requests_scaled  \\\n",
       "0                                    -0.090352                     -0.736764   \n",
       "1                                    -0.090352                     -0.736764   \n",
       "2                                    -0.090352                     -0.736764   \n",
       "3                                    -0.090352                     -0.736764   \n",
       "4                                    -0.090352                      0.606122   \n",
       "\n",
       "   lead_time_scaled  avg_price_per_room_scaled  \n",
       "0          1.363410                  -1.078369  \n",
       "1         -1.076089                  -1.229683  \n",
       "2          1.221197                  -0.019170  \n",
       "3         -0.561935                  -0.185616  \n",
       "4          2.698023                   0.434772  \n",
       "\n",
       "[5 rows x 64 columns]"
      ]
     },
     "execution_count": 27,
     "metadata": {},
     "output_type": "execute_result"
    }
   ],
   "source": [
    "X_train.head()"
   ]
  },
  {
   "cell_type": "markdown",
   "metadata": {},
   "source": [
    "### encoded categorical variables + scaled numerical variables"
   ]
  },
  {
   "cell_type": "code",
   "execution_count": 28,
   "metadata": {},
   "outputs": [],
   "source": [
    "logRegModel = LogisticRegression(max_iter=10000).fit(X_train[list(encoded_cat_cols)+list(scaled_num_cols)], Y_train)\n",
    "\n",
    "# Predict on the training and test data\n",
    "Y_train_pred = logRegModel.predict(X_train[list(encoded_cat_cols)+list(scaled_num_cols)])\n",
    "Y_test_pred = logRegModel.predict(X_test[list(encoded_cat_cols)+list(scaled_num_cols)])"
   ]
  },
  {
   "cell_type": "code",
   "execution_count": 29,
   "metadata": {},
   "outputs": [
    {
     "name": "stdout",
     "output_type": "stream",
     "text": [
      "**Training Set Metrics**\n",
      "Accuracy \t: 0.8022949183949826\n",
      "Precision \t: 0.7495168563452866\n",
      "Recall \t\t: 0.6846802667712829\n",
      "F1 Score \t: 0.7156330087134802\n",
      "\n",
      "**Test Set Metrics**\n",
      "Accuracy \t: 0.815068493150685\n",
      "Precision \t: 0.6009501187648456\n",
      "Recall \t\t: 0.30083234244946494\n",
      "F1 Score \t: 0.4009508716323296\n"
     ]
    }
   ],
   "source": [
    "# Calculate general metrics for the train set\n",
    "print(\"**Training Set Metrics**\")\n",
    "print(\"Accuracy \\t:\", accuracy_score(Y_train, Y_train_pred))\n",
    "print(\"Precision \\t:\", precision_score(Y_train, Y_train_pred))\n",
    "print(\"Recall \\t\\t:\", recall_score(Y_train, Y_train_pred))\n",
    "print(\"F1 Score \\t:\", f1_score(Y_train, Y_train_pred))\n",
    "\n",
    "print() # New Line\n",
    "\n",
    "# Calculate general metrics for the test set\n",
    "print(\"**Test Set Metrics**\")\n",
    "print(\"Accuracy \\t:\", accuracy_score(Y_test, Y_test_pred))\n",
    "print(\"Precision \\t:\", precision_score(Y_test, Y_test_pred))\n",
    "print(\"Recall \\t\\t:\", recall_score(Y_test, Y_test_pred))\n",
    "print(\"F1 Score \\t:\", f1_score(Y_test, Y_test_pred))"
   ]
  },
  {
   "cell_type": "markdown",
   "metadata": {},
   "source": [
    "### encoded categorical variables + minmax scaled numerical variables"
   ]
  },
  {
   "cell_type": "code",
   "execution_count": 30,
   "metadata": {},
   "outputs": [],
   "source": [
    "logRegModel = LogisticRegression(max_iter=10000).fit(X_train[list(encoded_cat_cols)+list(minmax_num_cols)], Y_train)\n",
    "\n",
    "# Predict on the training and test data\n",
    "Y_train_pred = logRegModel.predict(X_train[list(encoded_cat_cols)+list(minmax_num_cols)])\n",
    "Y_test_pred = logRegModel.predict(X_test[list(encoded_cat_cols)+list(minmax_num_cols)])"
   ]
  },
  {
   "cell_type": "code",
   "execution_count": 31,
   "metadata": {},
   "outputs": [
    {
     "name": "stdout",
     "output_type": "stream",
     "text": [
      "**Training Set Metrics**\n",
      "Accuracy \t: 0.8027581783194355\n",
      "Precision \t: 0.7524645217202903\n",
      "Recall \t\t: 0.681247548058062\n",
      "F1 Score \t: 0.7150872497040202\n",
      "\n",
      "**Test Set Metrics**\n",
      "Accuracy \t: 0.8180039138943248\n",
      "Precision \t: 0.6246786632390745\n",
      "Recall \t\t: 0.28894173602853745\n",
      "F1 Score \t: 0.39512195121951216\n"
     ]
    }
   ],
   "source": [
    "# Calculate general metrics for the train set\n",
    "print(\"**Training Set Metrics**\")\n",
    "print(\"Accuracy \\t:\", accuracy_score(Y_train, Y_train_pred))\n",
    "print(\"Precision \\t:\", precision_score(Y_train, Y_train_pred))\n",
    "print(\"Recall \\t\\t:\", recall_score(Y_train, Y_train_pred))\n",
    "print(\"F1 Score \\t:\", f1_score(Y_train, Y_train_pred))\n",
    "\n",
    "print() # New Line\n",
    "\n",
    "# Calculate general metrics for the test set\n",
    "print(\"**Test Set Metrics**\")\n",
    "print(\"Accuracy \\t:\", accuracy_score(Y_test, Y_test_pred))\n",
    "print(\"Precision \\t:\", precision_score(Y_test, Y_test_pred))\n",
    "print(\"Recall \\t\\t:\", recall_score(Y_test, Y_test_pred))\n",
    "print(\"F1 Score \\t:\", f1_score(Y_test, Y_test_pred))"
   ]
  },
  {
   "cell_type": "markdown",
   "metadata": {},
   "source": [
    "The results indicate that standardizing the numerical variables leads to slightly better performance. This improvement could be attributed to the robustness of standardization against extreme values present in our dataset, as well as its independence from the requirement for data to follow a specific distribution.\n",
    "\n",
    "Having completed the preprocessing steps, the next task is to address the issue of data imbalance."
   ]
  },
  {
   "cell_type": "markdown",
   "metadata": {},
   "source": [
    "## Save Processed Datasets"
   ]
  },
  {
   "cell_type": "code",
   "execution_count": 32,
   "metadata": {},
   "outputs": [],
   "source": [
    "original_cols = ['no_of_adults', 'no_of_children', 'no_of_weekend_nights',\n",
    "       'no_of_week_nights', 'type_of_meal_plan', \n",
    "       'room_type_reserved', 'lead_time', 'arrival_year', 'arrival_month',\n",
    "       'arrival_date', 'market_segment_type', \n",
    "       'no_of_previous_cancellations', 'no_of_previous_bookings_not_canceled',\n",
    "       'avg_price_per_room', 'no_of_special_requests']"
   ]
  },
  {
   "cell_type": "code",
   "execution_count": 33,
   "metadata": {},
   "outputs": [],
   "source": [
    "X_train[list(encoded_cat_cols)+list(scaled_num_cols)+original_cols].to_csv('Data/X_train.csv', index = False)\n",
    "Y_train.to_csv('Data/y_train.csv', index = False)\n",
    "X_test[list(encoded_cat_cols)+list(scaled_num_cols)+original_cols].to_csv('Data/X_test.csv', index = False)\n",
    "Y_test.to_csv('Data/y_test.csv', index = False)"
   ]
  },
  {
   "cell_type": "code",
   "execution_count": 34,
   "metadata": {},
   "outputs": [],
   "source": [
    "# store the column names used for model building\n",
    "columns = pd.DataFrame({'Columns':list(encoded_cat_cols)+list(scaled_num_cols)})"
   ]
  },
  {
   "cell_type": "code",
   "execution_count": 92,
   "metadata": {},
   "outputs": [],
   "source": [
    "columns.to_csv('Data/basic_model_columns.csv', index=False)"
   ]
  },
  {
   "cell_type": "markdown",
   "metadata": {},
   "source": [
    "## Resampling"
   ]
  },
  {
   "cell_type": "markdown",
   "metadata": {},
   "source": [
    "### Current Distribution"
   ]
  },
  {
   "cell_type": "code",
   "execution_count": 38,
   "metadata": {},
   "outputs": [
    {
     "data": {
      "image/png": "[encoded data removed]",
      "text/plain": [
       "<Figure size 640x480 with 1 Axes>"
      ]
     },
     "metadata": {},
     "output_type": "display_data"
    }
   ],
   "source": [
    "num_positive = sum(Y_train == 1)\n",
    "num_negative = sum(Y_train == 0)\n",
    "\n",
    "# Plotting\n",
    "plt.bar(['Positive', 'Negative'], [num_positive, num_negative], color=['orange', 'green'])\n",
    "plt.title('Number of Positive and Negative Samples in Training Set')\n",
    "plt.xlabel('Class')\n",
    "plt.ylabel('Count')\n",
    "plt.show()"
   ]
  },
  {
   "cell_type": "markdown",
   "metadata": {},
   "source": [
    "Our dataset possesses a moderate level of **imbalance**, with the negative class outnumbering the positive class by a factor of **0.75**. This may lead to poor performance in predicting the minority class. Resampling techniques should be employed to ensure that predictive models effectively capture patterns from the positive class, as we are particularly interested in detecting positives in hotel booking cancellations."
   ]
  },
  {
   "cell_type": "code",
   "execution_count": 39,
   "metadata": {},
   "outputs": [],
   "source": [
    "# helper function for calculating evaluation scores\n",
    "def evaluate(Y_train, Y_train_pred, Y_test, Y_test_pred):\n",
    "    train_metric = {\n",
    "        \"Accuracy\": accuracy_score(Y_train, Y_train_pred),\n",
    "        \"Precision\": precision_score(Y_train, Y_train_pred),\n",
    "        \"Recall\": recall_score(Y_train, Y_train_pred),\n",
    "        \"F1 Score\": f1_score(Y_train, Y_train_pred)\n",
    "    }\n",
    "\n",
    "    test_metric = {\n",
    "        \"Accuracy\": accuracy_score(Y_test, Y_test_pred),\n",
    "        \"Precision\": precision_score(Y_test, Y_test_pred),\n",
    "        \"Recall\": recall_score(Y_test, Y_test_pred),\n",
    "        \"F1 Score\": f1_score(Y_test, Y_test_pred)\n",
    "    }\n",
    "\n",
    "    # Calculate general metrics for the train set\n",
    "    print(\"**Training Set Metrics**\")\n",
    "    print(\"Accuracy \\t:\", train_metric[\"Accuracy\"])\n",
    "    print(\"Precision \\t:\", train_metric[\"Precision\"])\n",
    "    print(\"Recall \\t\\t:\", train_metric[\"Recall\"])\n",
    "    print(\"F1 Score \\t:\", train_metric[\"F1 Score\"])\n",
    "\n",
    "    print() # New Line\n",
    "\n",
    "    # Calculate general metrics for the test set\n",
    "    print(\"**Test Set Metrics**\")\n",
    "    print(\"Accuracy \\t:\", test_metric[\"Accuracy\"])\n",
    "    print(\"Precision \\t:\", test_metric[\"Precision\"])\n",
    "    print(\"Recall \\t\\t:\", test_metric[\"Recall\"])\n",
    "    print(\"F1 Score \\t:\", test_metric[\"F1 Score\"])"
   ]
  },
  {
   "cell_type": "markdown",
   "metadata": {},
   "source": [
    "### Random Under-sampling"
   ]
  },
  {
   "cell_type": "markdown",
   "metadata": {},
   "source": [
    "**Undersampling** is a method used to balance imbalanced datasets by retaining all instances from the minority class while reducing the number of instances from the majority class."
   ]
  },
  {
   "cell_type": "code",
   "execution_count": 40,
   "metadata": {},
   "outputs": [],
   "source": [
    "undersampler = RandomUnderSampler(random_state=42)\n",
    "\n",
    "# Resample the training data\n",
    "X_train_under_resampled, y_train_under_resampled = undersampler.fit_resample(X_train, Y_train)"
   ]
  },
  {
   "cell_type": "code",
   "execution_count": 42,
   "metadata": {},
   "outputs": [
    {
     "data": {
      "image/png": "[encoded data removed]",
      "text/plain": [
       "<Figure size 640x480 with 1 Axes>"
      ]
     },
     "metadata": {},
     "output_type": "display_data"
    }
   ],
   "source": [
    "num_positive = sum(y_train_under_resampled == 1)\n",
    "num_negative = sum(y_train_under_resampled == 0)\n",
    "\n",
    "# Plotting\n",
    "plt.bar(['Positive', 'Negative'], [num_positive, num_negative], color=['orange', 'green'])\n",
    "plt.title('Number of Positive and Negative Samples in Training Set')\n",
    "plt.xlabel('Class')\n",
    "plt.ylabel('Count')\n",
    "plt.show()"
   ]
  },
  {
   "cell_type": "code",
   "execution_count": 44,
   "metadata": {},
   "outputs": [],
   "source": [
    "logRegModel = LogisticRegression(max_iter=10000).fit(X_train_under_resampled[columns['Columns']], y_train_under_resampled.values.ravel())\n",
    "\n",
    "# Predict the output based on our training and testing dataset\n",
    "y_train_pred = logRegModel.predict(X_train_under_resampled[columns['Columns']])\n",
    "y_test_pred = logRegModel.predict(X_test[columns['Columns']])"
   ]
  },
  {
   "cell_type": "code",
   "execution_count": 45,
   "metadata": {},
   "outputs": [
    {
     "name": "stdout",
     "output_type": "stream",
     "text": [
      "**Training Set Metrics**\n",
      "Accuracy \t: 0.7880051000392311\n",
      "Precision \t: 0.7854573733838826\n",
      "Recall \t\t: 0.7924676343664182\n",
      "F1 Score \t: 0.7889469316018162\n",
      "\n",
      "**Test Set Metrics**\n",
      "Accuracy \t: 0.8136007827788649\n",
      "Precision \t: 0.5600303951367781\n",
      "Recall \t\t: 0.43816884661117717\n",
      "F1 Score \t: 0.4916611074049366\n"
     ]
    }
   ],
   "source": [
    "evaluate(y_train_under_resampled, y_train_pred, Y_test, y_test_pred)"
   ]
  },
  {
   "cell_type": "markdown",
   "metadata": {},
   "source": [
    "### Random Over-sampling"
   ]
  },
  {
   "cell_type": "markdown",
   "metadata": {},
   "source": [
    "**Oversampling** is a technique employed to address class imbalance in datasets by increasing the number of instances in the minority class, typically through duplication or generation of synthetic data, to achieve a more balanced distribution of classes for improved model training."
   ]
  },
  {
   "cell_type": "code",
   "execution_count": 46,
   "metadata": {},
   "outputs": [],
   "source": [
    "# Instantiate RandomOverSampler\n",
    "oversampler = RandomOverSampler(random_state=42)\n",
    "\n",
    "# Resample the training data\n",
    "X_train_resampled, y_train_resampled = oversampler.fit_resample(X_train, Y_train)"
   ]
  },
  {
   "cell_type": "code",
   "execution_count": 48,
   "metadata": {},
   "outputs": [
    {
     "data": {
      "image/png": "[encoded data removed]",
      "text/plain": [
       "<Figure size 640x480 with 1 Axes>"
      ]
     },
     "metadata": {},
     "output_type": "display_data"
    }
   ],
   "source": [
    "num_positive = sum(y_train_resampled == 1)\n",
    "num_negative = sum(y_train_resampled == 0)\n",
    "\n",
    "# Plotting\n",
    "plt.bar(['Positive', 'Negative'], [num_positive, num_negative], color=['orange', 'green'])\n",
    "plt.title('Number of Positive and Negative Samples in Training Set')\n",
    "plt.xlabel('Class')\n",
    "plt.ylabel('Count')\n",
    "plt.show()"
   ]
  },
  {
   "cell_type": "code",
   "execution_count": 49,
   "metadata": {},
   "outputs": [],
   "source": [
    "logRegModel = LogisticRegression(max_iter=10000).fit(X_train_resampled[columns['Columns']], y_train_resampled.values.ravel())\n",
    "\n",
    "# Predict the output based on our training and testing dataset\n",
    "y_train_pred = logRegModel.predict(X_train_resampled[columns['Columns']])\n",
    "y_test_pred = logRegModel.predict(X_test[columns['Columns']])"
   ]
  },
  {
   "cell_type": "code",
   "execution_count": 50,
   "metadata": {},
   "outputs": [
    {
     "name": "stdout",
     "output_type": "stream",
     "text": [
      "**Training Set Metrics**\n",
      "Accuracy \t: 0.7875013993059442\n",
      "Precision \t: 0.7830807384954533\n",
      "Recall \t\t: 0.7953095264748684\n",
      "F1 Score \t: 0.7891477604065423\n",
      "\n",
      "**Test Set Metrics**\n",
      "Accuracy \t: 0.8118884540117417\n",
      "Precision \t: 0.5556414219474498\n",
      "Recall \t\t: 0.42746730083234247\n",
      "F1 Score \t: 0.4831989247311828\n"
     ]
    }
   ],
   "source": [
    "evaluate(y_train_resampled, y_train_pred, Y_test, y_test_pred)"
   ]
  },
  {
   "cell_type": "markdown",
   "metadata": {},
   "source": [
    "### Synthetic Over-sampling: SMOTE-NC"
   ]
  },
  {
   "cell_type": "markdown",
   "metadata": {},
   "source": [
    "**SMOTE-NC** (Synthetic Minority Over-sampling Technique for Nominal and Continuous) is an extension of the SMOTE algorithm designed specifically for datasets that contain both numerical and categorical features. SMOTE-NC is a method utilised to alleviate class imbalance in datasets by generating synthetic samples in the minority class, thereby augmenting its representation and enabling more robust model training without introducing bias toward the majority class. "
   ]
  },
  {
   "cell_type": "code",
   "execution_count": 57,
   "metadata": {},
   "outputs": [
    {
     "name": "stderr",
     "output_type": "stream",
     "text": [
      "c:\\Users\\suyat\\AppData\\Local\\Programs\\Python\\Python310\\lib\\site-packages\\sklearn\\preprocessing\\_encoders.py:868: FutureWarning: `sparse` was renamed to `sparse_output` in version 1.2 and will be removed in 1.4. `sparse_output` is ignored unless you leave `sparse` to its default value.\n",
      "  warnings.warn(\n"
     ]
    }
   ],
   "source": [
    "categorical_features = ['type_of_meal_plan_meal plan 1', 'type_of_meal_plan_meal plan 2',\n",
    "       'type_of_meal_plan_meal plan 3', 'type_of_meal_plan_not selected',\n",
    "       'room_type_reserved_room_type 1', 'room_type_reserved_room_type 2',\n",
    "       'room_type_reserved_room_type 3', 'room_type_reserved_room_type 4',\n",
    "       'room_type_reserved_room_type 5', 'room_type_reserved_room_type 6',\n",
    "       'room_type_reserved_room_type 7', 'market_segment_type_aviation',\n",
    "       'market_segment_type_complementary', 'market_segment_type_corporate',\n",
    "       'market_segment_type_offline', 'market_segment_type_online',\n",
    "       'arrival_month_1', 'arrival_month_2', 'arrival_month_3',\n",
    "       'arrival_month_4', 'arrival_month_5', 'arrival_month_6',\n",
    "       'arrival_month_7', 'arrival_month_8', 'arrival_month_9',\n",
    "       'arrival_month_10', 'arrival_month_11', 'arrival_month_12',\n",
    "       'required_car_parking_space', 'repeated_guest']\n",
    "categorical_features_indices = [X_train[columns['Columns']].columns.get_loc(col) for col in categorical_features]\n",
    "smote_nc = SMOTENC(categorical_features=categorical_features_indices, random_state=42)\n",
    "X_train_resampled, y_train_resampled = smote_nc.fit_resample(X_train[columns['Columns']], Y_train)"
   ]
  },
  {
   "cell_type": "code",
   "execution_count": 58,
   "metadata": {},
   "outputs": [
    {
     "data": {
      "image/png": "[encoded data removed]",
      "text/plain": [
       "<Figure size 640x480 with 1 Axes>"
      ]
     },
     "metadata": {},
     "output_type": "display_data"
    }
   ],
   "source": [
    "num_positive = sum(y_train_resampled == 1)\n",
    "num_negative = sum(y_train_resampled == 0)\n",
    "\n",
    "# Plotting\n",
    "plt.bar(['Positive', 'Negative'], [num_positive, num_negative], color=['orange', 'green'])\n",
    "plt.title('Number of Positive and Negative Samples in Training Set')\n",
    "plt.xlabel('Class')\n",
    "plt.ylabel('Count')\n",
    "plt.show()"
   ]
  },
  {
   "cell_type": "code",
   "execution_count": 60,
   "metadata": {},
   "outputs": [],
   "source": [
    "logRegModel = LogisticRegression(max_iter=10000).fit(X_train_resampled[columns['Columns']],  y_train_resampled.values.ravel())\n",
    "\n",
    "# Predict the output based on our training and testing dataset\n",
    "y_train_pred = logRegModel.predict(X_train_resampled[columns['Columns']])\n",
    "y_test_pred = logRegModel.predict(X_test[columns['Columns']])"
   ]
  },
  {
   "cell_type": "code",
   "execution_count": 61,
   "metadata": {},
   "outputs": [
    {
     "name": "stdout",
     "output_type": "stream",
     "text": [
      "**Training Set Metrics**\n",
      "Accuracy \t: 0.7976883465800962\n",
      "Precision \t: 0.7935316518571666\n",
      "Recall \t\t: 0.8047688346580096\n",
      "F1 Score \t: 0.7991107405863555\n",
      "\n",
      "**Test Set Metrics**\n",
      "Accuracy \t: 0.8129892367906066\n",
      "Precision \t: 0.5623471882640587\n",
      "Recall \t\t: 0.4102259215219976\n",
      "F1 Score \t: 0.4743898246820213\n"
     ]
    }
   ],
   "source": [
    "evaluate(y_train_resampled, y_train_pred, Y_test, y_test_pred)"
   ]
  },
  {
   "cell_type": "markdown",
   "metadata": {},
   "source": [
    "### Comparing the above three sampling techniques"
   ]
  },
  {
   "cell_type": "markdown",
   "metadata": {},
   "source": [
    "By analysing the data characteristics, we **decide against using SMOTENC** due to its **sparse one-hot encoded columns** ('type_of_meal_plan_meal plan 1' to 'room_type_reserved_room_type 7'). These sparse categorical features could make it challenging for SMOTENC to generate meaningful synthetic samples. Additionally, there may be highly non-linear relationships between features and the target variable, which may further complicate SMOTENC's effectiveness. <br>\n",
    "<br>\n",
    "Comparing the performance of **oversamping** and **undersampling**, undersampling excels in terms of a higher F1 score.  This shows that undersampling can effectively capture relevant information even with a smaller number of samples. Additionally, data resulting from undersampling demands fewer computational resources compared to data obtained through oversampling techniques. Therefore, we decide to apply undersampling on our dataset to solve the imbalance.\n"
   ]
  },
  {
   "cell_type": "code",
   "execution_count": 62,
   "metadata": {},
   "outputs": [],
   "source": [
    "# Save undersampled data for future model training\n",
    "X_train_under_resampled.to_csv('Data/X_train_undersampled_data.csv', index=False)\n",
    "y_train_under_resampled.to_csv('Data/y_train_undersampled_data.csv', index=False)"
   ]
  },
  {
   "cell_type": "markdown",
   "metadata": {},
   "source": [
    "## Next Steps\n",
    "\n",
    "Now, after the pre-processing stage. for the next step, we will train baseline classification models.\n",
    "\n",
    "## To Navigate To The Next Notebook:\n",
    "0. [Introduction](/0%20-%20Introduction.ipynb) \n",
    "1. [Data Cleaning Notebook](/1%20-%20Data%20Cleaning.ipynb) \n",
    "2. [Exploratory Data Analyis Notebook](/2%20-%20Data%20Exploration.ipynb) \n",
    "3. [Data Pre-processing Notebook](/3%20-%20Data%20Pre-Processing.ipynb) - <b>[You Are Here Now]</b>\n",
    "4. [Initial Classification Models Notebook](/4%20-%20ClassificationModels.ipynb)\n",
    "5. [Feature Engineering Notebook](/5%20-%20Feature%20Engineering.ipynb)\n",
    "6. Applying Feature Selection + Hyperparameter Tuning On Individual Models\n",
    "   1. [Logistic Regression Notebook](/6.1%20-%20Logistic%20Regression.ipynb)\n",
    "   2. [K Nearest Neighbour Notebook](/6.2%20-%20K%20Nearest%20Neighbour.ipynb)\n",
    "   3. [Decision Tree Notebook](/6.3%20-%20Decision%20Tree.ipynb)\n",
    "   4. [Support Vector Machine Notebook](/6.4%20-%20SVM.ipynb)\n",
    "   5. [Random Forest Notebook](/6.5%20-%20Random%20Forest.ipynb)\n",
    "   6. [Adaboost Notebook](/6.6%20-%20Adaboost.ipynb)\n",
    "   7. [Gradient Boost Notebook](/6.7%20-%20Gradient%20Boosting.ipynb)\n",
    "   8. [LightGBM Notebook](/6.8%20-%20LightGBM.ipynb)\n",
    "7.  [Final Model Comparisons + Conclusion Notebook](/7%20-%20Model%20Comparison,%20Final%20Model%20and%20Conclusion.ipynb)"
   ]
  }
 ],
 "metadata": {
  "kernelspec": {
   "display_name": "Python 3 (ipykernel)",
   "language": "python",
   "name": "python3"
  },
  "language_info": {
   "codemirror_mode": {
    "name": "ipython",
    "version": 3
   },
   "file_extension": ".py",
   "mimetype": "text/x-python",
   "name": "python",
   "nbconvert_exporter": "python",
   "pygments_lexer": "ipython3",
   "version": "3.10.0"
  }
 },
 "nbformat": 4,
 "nbformat_minor": 2
}
