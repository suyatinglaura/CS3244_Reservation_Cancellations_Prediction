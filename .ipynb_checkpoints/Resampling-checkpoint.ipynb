{
 "cells": [
  {
   "cell_type": "markdown",
   "id": "ebc5f87a",
   "metadata": {},
   "source": [
    "# Resampling\n",
    "## Import Libraries"
   ]
  },
  {
   "cell_type": "code",
   "execution_count": 8,
   "id": "7bb8ac30",
   "metadata": {
    "executionInfo": {
     "elapsed": 535,
     "status": "ok",
     "timestamp": 1711764499785,
     "user": {
      "displayName": "Hanyu Li ang",
      "userId": "09066099950385300078"
     },
     "user_tz": -480
    },
    "id": "7bb8ac30"
   },
   "outputs": [],
   "source": [
    "import pandas as pd\n",
    "import matplotlib.pyplot as plt\n",
    "import numpy as np\n",
    "from imblearn.under_sampling import RandomUnderSampler\n",
    "from imblearn.over_sampling import RandomOverSampler\n",
    "from sklearn.linear_model import LogisticRegression\n",
    "from sklearn.tree import DecisionTreeClassifier\n",
    "from sklearn.datasets import make_classification\n",
    "from imblearn.over_sampling import SMOTENC\n",
    "from sklearn.metrics import accuracy_score, precision_score, recall_score, f1_score"
   ]
  },
  {
   "cell_type": "markdown",
   "id": "159127a8",
   "metadata": {},
   "source": [
    "## Import Train and Test Datasets"
   ]
  },
  {
   "cell_type": "code",
   "execution_count": 9,
   "id": "3dfc5784",
   "metadata": {},
   "outputs": [],
   "source": [
    "# Read the CSV files\n",
    "y_train = pd.read_csv('Data/y_train.csv')\n",
    "y_test = pd.read_csv('Data/y_test.csv')\n",
    "X_test = pd.read_csv('Data/X_test.csv')\n",
    "X_train = pd.read_csv('Data/X_train.csv')"
   ]
  },
  {
   "cell_type": "code",
   "execution_count": 34,
   "id": "725d1e1b",
   "metadata": {},
   "outputs": [],
   "source": [
    "# Read columns used to build models\n",
    "columns = pd.read_csv('Data/basic_model_columns.csv')['Columns'].to_list()"
   ]
  },
  {
   "cell_type": "markdown",
   "id": "f9950828",
   "metadata": {},
   "source": [
    "## Current Distribution"
   ]
  },
  {
   "cell_type": "code",
   "execution_count": 20,
   "id": "tbrE2Gl0buAf",
   "metadata": {
    "colab": {
     "base_uri": "https://localhost:8080/",
     "height": 472
    },
    "executionInfo": {
     "elapsed": 1144,
     "status": "ok",
     "timestamp": 1711769894495,
     "user": {
      "displayName": "Hanyu Li ang",
      "userId": "09066099950385300078"
     },
     "user_tz": -480
    },
    "id": "tbrE2Gl0buAf",
    "outputId": "b83f08f4-bd71-4ca6-b8b7-88dcdb4f4d03"
   },
   "outputs": [
    {
     "data": {
      "image/png": "[encoded data removed]",
      "text/plain": [
       "<Figure size 432x288 with 1 Axes>"
      ]
     },
     "metadata": {
      "needs_background": "light"
     },
     "output_type": "display_data"
    }
   ],
   "source": [
    "num_positive = np.sum(y_train == 1)[0]\n",
    "num_negative = np.sum(y_train == 0)[0]\n",
    "\n",
    "# Plotting\n",
    "plt.bar(['Positive', 'Negative'], [num_positive, num_negative], color=['orange', 'green'])\n",
    "plt.title('Number of Positive and Negative Samples in Training Set')\n",
    "plt.xlabel('Class')\n",
    "plt.ylabel('Count')\n",
    "plt.show()"
   ]
  },
  {
   "cell_type": "markdown",
   "id": "SocPs2GvMz89",
   "metadata": {
    "id": "SocPs2GvMz89"
   },
   "source": [
    "<h2>Random under-sampling"
   ]
  },
  {
   "cell_type": "markdown",
   "id": "qkGV9alXPeBr",
   "metadata": {
    "id": "qkGV9alXPeBr"
   },
   "source": [
    "Undersampling is a method used to balance imbalanced datasets by retaining all instances from the minority class while reducing the number of instances from the majority class."
   ]
  },
  {
   "cell_type": "code",
   "execution_count": 28,
   "id": "rTmdv1GNNB_G",
   "metadata": {
    "executionInfo": {
     "elapsed": 298,
     "status": "ok",
     "timestamp": 1711773039301,
     "user": {
      "displayName": "Hanyu Li ang",
      "userId": "09066099950385300078"
     },
     "user_tz": -480
    },
    "id": "rTmdv1GNNB_G"
   },
   "outputs": [],
   "source": [
    "undersampler = RandomUnderSampler(random_state=42)\n",
    "\n",
    "# Resample the training data\n",
    "X_train_under_resampled, y_train_under_resampled = undersampler.fit_resample(X_train, y_train)"
   ]
  },
  {
   "cell_type": "code",
   "execution_count": 29,
   "id": "quYdUinBNTvR",
   "metadata": {
    "colab": {
     "base_uri": "https://localhost:8080/",
     "height": 472
    },
    "executionInfo": {
     "elapsed": 547,
     "status": "ok",
     "timestamp": 1711773041179,
     "user": {
      "displayName": "Hanyu Li ang",
      "userId": "09066099950385300078"
     },
     "user_tz": -480
    },
    "id": "quYdUinBNTvR",
    "outputId": "6ee1f0c8-5dbc-42f5-8647-506378c8f283"
   },
   "outputs": [
    {
     "data": {
      "image/png": "[encoded data removed]",
      "text/plain": [
       "<Figure size 432x288 with 1 Axes>"
      ]
     },
     "metadata": {
      "needs_background": "light"
     },
     "output_type": "display_data"
    }
   ],
   "source": [
    "num_positive = np.sum(y_train_under_resampled == 1)[0]\n",
    "num_negative = np.sum(y_train_under_resampled == 0)[0]\n",
    "\n",
    "# Plotting\n",
    "plt.bar(['Positive', 'Negative'], [num_positive, num_negative], color=['orange', 'green'])\n",
    "plt.title('Number of Positive and Negative Samples in Training Set')\n",
    "plt.xlabel('Class')\n",
    "plt.ylabel('Count')\n",
    "plt.show()"
   ]
  },
  {
   "cell_type": "code",
   "execution_count": 30,
   "id": "nqKZ5gftNcie",
   "metadata": {
    "executionInfo": {
     "elapsed": 905,
     "status": "ok",
     "timestamp": 1711773044857,
     "user": {
      "displayName": "Hanyu Li ang",
      "userId": "09066099950385300078"
     },
     "user_tz": -480
    },
    "id": "nqKZ5gftNcie"
   },
   "outputs": [],
   "source": [
    "logRegModel = LogisticRegression(max_iter=10000).fit(X_train_under_resampled[columns], y_train_under_resampled.values.ravel())\n",
    "\n",
    "# Predict the output based on our training and testing dataset\n",
    "y_train_pred = logRegModel.predict(X_train_under_resampled[columns])\n",
    "y_test_pred = logRegModel.predict(X_test[columns])"
   ]
  },
  {
   "cell_type": "code",
   "execution_count": 31,
   "id": "2an6gFgiNnMv",
   "metadata": {
    "executionInfo": {
     "elapsed": 420,
     "status": "ok",
     "timestamp": 1711773046627,
     "user": {
      "displayName": "Hanyu Li ang",
      "userId": "09066099950385300078"
     },
     "user_tz": -480
    },
    "id": "2an6gFgiNnMv"
   },
   "outputs": [],
   "source": [
    "# Set up a dataframe to store the results from different models\n",
    "train_metrics = pd.DataFrame(columns=['Classification Model', 'Accuracy', 'Precision', 'Recall', 'F1 Score'])\n",
    "test_metrics = pd.DataFrame(columns=['Classification Model', 'Accuracy', 'Precision', 'Recall', 'F1 Score'])"
   ]
  },
  {
   "cell_type": "code",
   "execution_count": 32,
   "id": "OVqE7qvuNfex",
   "metadata": {
    "colab": {
     "base_uri": "https://localhost:8080/"
    },
    "executionInfo": {
     "elapsed": 451,
     "status": "ok",
     "timestamp": 1711773049495,
     "user": {
      "displayName": "Hanyu Li ang",
      "userId": "09066099950385300078"
     },
     "user_tz": -480
    },
    "id": "OVqE7qvuNfex",
    "outputId": "66d71186-083b-4d20-9967-465c77ee3c16"
   },
   "outputs": [
    {
     "name": "stdout",
     "output_type": "stream",
     "text": [
      "**Training Set Metrics**\n",
      "Accuracy \t: 0.7883974107493135\n",
      "Precision \t: 0.7855131566171473\n",
      "Recall \t\t: 0.7934484111416241\n",
      "F1 Score \t: 0.7894608441083191\n",
      "\n",
      "**Test Set Metrics**\n",
      "Accuracy \t: 0.8136007827788649\n",
      "Precision \t: 0.5600303951367781\n",
      "Recall \t\t: 0.43816884661117717\n",
      "F1 Score \t: 0.4916611074049366\n"
     ]
    }
   ],
   "source": [
    "train_metric = {\n",
    "    \"Classification Model\": \"Logistic Regression\",\n",
    "    \"Accuracy\": accuracy_score(y_train_under_resampled, y_train_pred),\n",
    "    \"Precision\": precision_score(y_train_under_resampled, y_train_pred),\n",
    "    \"Recall\": recall_score(y_train_under_resampled, y_train_pred),\n",
    "    \"F1 Score\": f1_score(y_train_under_resampled, y_train_pred)\n",
    "}\n",
    "\n",
    "test_metric = {\n",
    "    \"Classification Model\": \"Logistic Regression\",\n",
    "    \"Accuracy\": accuracy_score(y_test, y_test_pred),\n",
    "    \"Precision\": precision_score(y_test, y_test_pred),\n",
    "    \"Recall\": recall_score(y_test, y_test_pred),\n",
    "    \"F1 Score\": f1_score(y_test, y_test_pred)\n",
    "}\n",
    "\n",
    "# Save to overall metrics dataframe for comparison later\n",
    "train_metrics = pd.concat([train_metrics, pd.DataFrame.from_records([train_metric])], ignore_index = True)\n",
    "test_metrics = pd.concat([test_metrics, pd.DataFrame.from_records([test_metric])], ignore_index = True)\n",
    "\n",
    "# Calculate general metrics for the train set\n",
    "print(\"**Training Set Metrics**\")\n",
    "print(\"Accuracy \\t:\", train_metric[\"Accuracy\"])\n",
    "print(\"Precision \\t:\", train_metric[\"Precision\"])\n",
    "print(\"Recall \\t\\t:\", train_metric[\"Recall\"])\n",
    "print(\"F1 Score \\t:\", train_metric[\"F1 Score\"])\n",
    "\n",
    "print() # New Line\n",
    "\n",
    "# Calculate general metrics for the test set\n",
    "print(\"**Test Set Metrics**\")\n",
    "print(\"Accuracy \\t:\", test_metric[\"Accuracy\"])\n",
    "print(\"Precision \\t:\", test_metric[\"Precision\"])\n",
    "print(\"Recall \\t\\t:\", test_metric[\"Recall\"])\n",
    "print(\"F1 Score \\t:\", test_metric[\"F1 Score\"])"
   ]
  },
  {
   "cell_type": "markdown",
   "id": "f82a02f0",
   "metadata": {
    "id": "f82a02f0"
   },
   "source": [
    "<h2>Random over-sampling"
   ]
  },
  {
   "cell_type": "markdown",
   "id": "yqgDg8mTZzRb",
   "metadata": {
    "id": "yqgDg8mTZzRb"
   },
   "source": [
    "Oversampling is a technique employed to address class imbalance in datasets by increasing the number of instances in the minority class, typically through duplication or generation of synthetic data, to achieve a more balanced distribution of classes for improved model training."
   ]
  },
  {
   "cell_type": "code",
   "execution_count": 38,
   "id": "XQH8ucJlNrtd",
   "metadata": {
    "executionInfo": {
     "elapsed": 310,
     "status": "ok",
     "timestamp": 1711766390623,
     "user": {
      "displayName": "Hanyu Li ang",
      "userId": "09066099950385300078"
     },
     "user_tz": -480
    },
    "id": "XQH8ucJlNrtd"
   },
   "outputs": [],
   "source": [
    "# Instantiate RandomOverSampler\n",
    "oversampler = RandomOverSampler(random_state=42)\n",
    "\n",
    "# Resample the training data\n",
    "X_train_resampled, y_train_resampled = oversampler.fit_resample(X_train, y_train)"
   ]
  },
  {
   "cell_type": "code",
   "execution_count": 39,
   "id": "YDR0oVveLO-j",
   "metadata": {
    "colab": {
     "base_uri": "https://localhost:8080/",
     "height": 472
    },
    "executionInfo": {
     "elapsed": 1144,
     "status": "ok",
     "timestamp": 1711766406420,
     "user": {
      "displayName": "Hanyu Li ang",
      "userId": "09066099950385300078"
     },
     "user_tz": -480
    },
    "id": "YDR0oVveLO-j",
    "outputId": "4f5c49d4-7846-4d25-d738-5144a81999b2"
   },
   "outputs": [
    {
     "data": {
      "image/png": "[encoded data removed]",
      "text/plain": [
       "<Figure size 432x288 with 1 Axes>"
      ]
     },
     "metadata": {
      "needs_background": "light"
     },
     "output_type": "display_data"
    }
   ],
   "source": [
    "num_positive = np.sum(y_train_resampled == 1)[0]\n",
    "num_negative = np.sum(y_train_resampled == 0)[0]\n",
    "\n",
    "# Plotting\n",
    "plt.bar(['Positive', 'Negative'], [num_positive, num_negative], color=['orange', 'green'])\n",
    "plt.title('Number of Positive and Negative Samples in Training Set')\n",
    "plt.xlabel('Class')\n",
    "plt.ylabel('Count')\n",
    "plt.show()"
   ]
  },
  {
   "cell_type": "code",
   "execution_count": 40,
   "id": "a14eb545",
   "metadata": {
    "executionInfo": {
     "elapsed": 6086,
     "status": "ok",
     "timestamp": 1711766422088,
     "user": {
      "displayName": "Hanyu Li ang",
      "userId": "09066099950385300078"
     },
     "user_tz": -480
    },
    "id": "a14eb545"
   },
   "outputs": [],
   "source": [
    "logRegModel = LogisticRegression(max_iter=10000).fit(X_train_resampled[columns], y_train_resampled.values.ravel())\n",
    "\n",
    "# Predict the output based on our training and testing dataset\n",
    "y_train_pred = logRegModel.predict(X_train_resampled[columns])\n",
    "y_test_pred = logRegModel.predict(X_test[columns])"
   ]
  },
  {
   "cell_type": "code",
   "execution_count": 41,
   "id": "d2f50add",
   "metadata": {
    "colab": {
     "base_uri": "https://localhost:8080/"
    },
    "executionInfo": {
     "elapsed": 7,
     "status": "ok",
     "timestamp": 1711766422088,
     "user": {
      "displayName": "Hanyu Li ang",
      "userId": "09066099950385300078"
     },
     "user_tz": -480
    },
    "id": "d2f50add",
    "outputId": "99fb5f72-5072-4905-d434-7ca5e02d7121"
   },
   "outputs": [
    {
     "name": "stdout",
     "output_type": "stream",
     "text": [
      "**Training Set Metrics**\n",
      "Accuracy \t: 0.7875013993059442\n",
      "Precision \t: 0.7830807384954533\n",
      "Recall \t\t: 0.7953095264748684\n",
      "F1 Score \t: 0.7891477604065423\n",
      "\n",
      "**Test Set Metrics**\n",
      "Accuracy \t: 0.8115215264187867\n",
      "Precision \t: 0.5544401544401545\n",
      "Recall \t\t: 0.4268727705112961\n",
      "F1 Score \t: 0.48236479677527716\n"
     ]
    }
   ],
   "source": [
    "train_metric = {\n",
    "    \"Classification Model\": \"Logistic Regression\",\n",
    "    \"Accuracy\": accuracy_score(y_train_resampled, y_train_pred),\n",
    "    \"Precision\": precision_score(y_train_resampled, y_train_pred),\n",
    "    \"Recall\": recall_score(y_train_resampled, y_train_pred),\n",
    "    \"F1 Score\": f1_score(y_train_resampled, y_train_pred)\n",
    "}\n",
    "\n",
    "test_metric = {\n",
    "    \"Classification Model\": \"Logistic Regression\",\n",
    "    \"Accuracy\": accuracy_score(y_test, y_test_pred),\n",
    "    \"Precision\": precision_score(y_test, y_test_pred),\n",
    "    \"Recall\": recall_score(y_test, y_test_pred),\n",
    "    \"F1 Score\": f1_score(y_test, y_test_pred)\n",
    "}\n",
    "\n",
    "# Save to overall metrics dataframe for comparison later\n",
    "train_metrics = pd.concat([train_metrics, pd.DataFrame.from_records([train_metric])], ignore_index = True)\n",
    "test_metrics = pd.concat([test_metrics, pd.DataFrame.from_records([test_metric])], ignore_index = True)\n",
    "\n",
    "# Calculate general metrics for the train set\n",
    "print(\"**Training Set Metrics**\")\n",
    "print(\"Accuracy \\t:\", train_metric[\"Accuracy\"])\n",
    "print(\"Precision \\t:\", train_metric[\"Precision\"])\n",
    "print(\"Recall \\t\\t:\", train_metric[\"Recall\"])\n",
    "print(\"F1 Score \\t:\", train_metric[\"F1 Score\"])\n",
    "\n",
    "print() # New Line\n",
    "\n",
    "# Calculate general metrics for the test set\n",
    "print(\"**Test Set Metrics**\")\n",
    "print(\"Accuracy \\t:\", test_metric[\"Accuracy\"])\n",
    "print(\"Precision \\t:\", test_metric[\"Precision\"])\n",
    "print(\"Recall \\t\\t:\", test_metric[\"Recall\"])\n",
    "print(\"F1 Score \\t:\", test_metric[\"F1 Score\"])"
   ]
  },
  {
   "cell_type": "markdown",
   "id": "e38a5d4c",
   "metadata": {
    "id": "e38a5d4c"
   },
   "source": [
    "<h3>Synthetic over-sampling: SMOTE-NC"
   ]
  },
  {
   "cell_type": "markdown",
   "id": "DaM_QlmJaAW5",
   "metadata": {
    "id": "DaM_QlmJaAW5"
   },
   "source": [
    "SMOTE-NC(Synthetic Minority Over-sampling Technique for Nominal and Continuous) is an extension of the SMOTE algorithm designed specifically for datasets that contain both numerical and categorical features. SMOTE-NC is a method utilized to alleviate class imbalance in datasets by generating synthetic samples in the minority class, thereby augmenting its representation and enabling more robust model training without introducing bias toward the majority class. "
   ]
  },
  {
   "cell_type": "code",
   "execution_count": 42,
   "id": "8184b755",
   "metadata": {
    "executionInfo": {
     "elapsed": 301,
     "status": "ok",
     "timestamp": 1711769963915,
     "user": {
      "displayName": "Hanyu Li ang",
      "userId": "09066099950385300078"
     },
     "user_tz": -480
    },
    "id": "8184b755"
   },
   "outputs": [],
   "source": [
    "categorical_features = ['type_of_meal_plan_meal plan 1', 'type_of_meal_plan_meal plan 2',\n",
    "       'type_of_meal_plan_meal plan 3', 'type_of_meal_plan_not selected',\n",
    "       'room_type_reserved_room_type 1', 'room_type_reserved_room_type 2',\n",
    "       'room_type_reserved_room_type 3', 'room_type_reserved_room_type 4',\n",
    "       'room_type_reserved_room_type 5', 'room_type_reserved_room_type 6',\n",
    "       'room_type_reserved_room_type 7', 'market_segment_type_aviation',\n",
    "       'market_segment_type_complementary', 'market_segment_type_corporate',\n",
    "       'market_segment_type_offline', 'market_segment_type_online',\n",
    "       'arrival_month_1', 'arrival_month_2', 'arrival_month_3',\n",
    "       'arrival_month_4', 'arrival_month_5', 'arrival_month_6',\n",
    "       'arrival_month_7', 'arrival_month_8', 'arrival_month_9',\n",
    "       'arrival_month_10', 'arrival_month_11', 'arrival_month_12',\n",
    "       'required_car_parking_space', 'repeated_guest', 'type_of_meal_plan',\n",
    "       'room_type_reserved',  'arrival_year', 'arrival_month',\n",
    "       'arrival_date', 'market_segment_type']\n",
    "categorical_features_indices = [X_train.columns.get_loc(col) for col in categorical_features]\n",
    "smote_nc = SMOTENC(categorical_features=categorical_features_indices, random_state=42)\n",
    "X_train_resampled, y_train_resampled = smote_nc.fit_resample(X_train, y_train)"
   ]
  },
  {
   "cell_type": "code",
   "execution_count": 43,
   "id": "lw51wO4qLEYw",
   "metadata": {
    "colab": {
     "base_uri": "https://localhost:8080/",
     "height": 472
    },
    "executionInfo": {
     "elapsed": 7,
     "status": "ok",
     "timestamp": 1711769965606,
     "user": {
      "displayName": "Hanyu Li ang",
      "userId": "09066099950385300078"
     },
     "user_tz": -480
    },
    "id": "lw51wO4qLEYw",
    "outputId": "83d9185e-c472-4b92-d3fe-2f557a6f549e"
   },
   "outputs": [
    {
     "data": {
      "image/png": "[encoded data removed]",
      "text/plain": [
       "<Figure size 432x288 with 1 Axes>"
      ]
     },
     "metadata": {
      "needs_background": "light"
     },
     "output_type": "display_data"
    }
   ],
   "source": [
    "num_positive = np.sum(y_train_resampled == 1)[0]\n",
    "num_negative = np.sum(y_train_resampled == 0)[0]\n",
    "\n",
    "# Plotting\n",
    "plt.bar(['Positive', 'Negative'], [num_positive, num_negative], color=['orange', 'green'])\n",
    "plt.title('Number of Positive and Negative Samples in Training Set')\n",
    "plt.xlabel('Class')\n",
    "plt.ylabel('Count')\n",
    "plt.show()"
   ]
  },
  {
   "cell_type": "code",
   "execution_count": 44,
   "id": "462bc4e6",
   "metadata": {
    "colab": {
     "base_uri": "https://localhost:8080/"
    },
    "executionInfo": {
     "elapsed": 5,
     "status": "ok",
     "timestamp": 1711769967051,
     "user": {
      "displayName": "Hanyu Li ang",
      "userId": "09066099950385300078"
     },
     "user_tz": -480
    },
    "id": "462bc4e6",
    "outputId": "4f76072e-6dd6-4032-8cc6-bf3a0af711d8"
   },
   "outputs": [],
   "source": [
    "logRegModel = LogisticRegression(max_iter=10000).fit(X_train_resampled[columns],  y_train_resampled.values.ravel())\n",
    "\n",
    "# Predict the output based on our training and testing dataset\n",
    "y_train_pred = logRegModel.predict(X_train_resampled[columns])\n",
    "y_test_pred = logRegModel.predict(X_test[columns])"
   ]
  },
  {
   "cell_type": "code",
   "execution_count": 45,
   "id": "c661ce8c",
   "metadata": {
    "colab": {
     "base_uri": "https://localhost:8080/"
    },
    "executionInfo": {
     "elapsed": 300,
     "status": "ok",
     "timestamp": 1711769968616,
     "user": {
      "displayName": "Hanyu Li ang",
      "userId": "09066099950385300078"
     },
     "user_tz": -480
    },
    "id": "c661ce8c",
    "outputId": "24acfec1-8725-4162-8d2d-7f438403ec3a"
   },
   "outputs": [
    {
     "name": "stdout",
     "output_type": "stream",
     "text": [
      "**Training Set Metrics**\n",
      "Accuracy \t: 0.8031176536437927\n",
      "Precision \t: 0.8018168645154099\n",
      "Recall \t\t: 0.8052725847979402\n",
      "F1 Score \t: 0.8035410092434863\n",
      "\n",
      "**Test Set Metrics**\n",
      "Accuracy \t: 0.8145792563600783\n",
      "Precision \t: 0.5728070175438597\n",
      "Recall \t\t: 0.3882282996432818\n",
      "F1 Score \t: 0.46279234585400425\n"
     ]
    }
   ],
   "source": [
    "train_metric = {\n",
    "    \"Classification Model\": \"Logistic Regression\",\n",
    "    \"Accuracy\": accuracy_score(y_train_resampled, y_train_pred),\n",
    "    \"Precision\": precision_score(y_train_resampled, y_train_pred),\n",
    "    \"Recall\": recall_score(y_train_resampled, y_train_pred),\n",
    "    \"F1 Score\": f1_score(y_train_resampled, y_train_pred)\n",
    "}\n",
    "\n",
    "test_metric = {\n",
    "    \"Classification Model\": \"Logistic Regression\",\n",
    "    \"Accuracy\": accuracy_score(y_test, y_test_pred),\n",
    "    \"Precision\": precision_score(y_test, y_test_pred),\n",
    "    \"Recall\": recall_score(y_test, y_test_pred),\n",
    "    \"F1 Score\": f1_score(y_test, y_test_pred)\n",
    "}\n",
    "\n",
    "# Save to overall metrics dataframe for comparison later\n",
    "train_metrics = pd.concat([train_metrics, pd.DataFrame.from_records([train_metric])], ignore_index = True)\n",
    "test_metrics = pd.concat([test_metrics, pd.DataFrame.from_records([test_metric])], ignore_index = True)\n",
    "\n",
    "# Calculate general metrics for the train set\n",
    "print(\"**Training Set Metrics**\")\n",
    "print(\"Accuracy \\t:\", train_metric[\"Accuracy\"])\n",
    "print(\"Precision \\t:\", train_metric[\"Precision\"])\n",
    "print(\"Recall \\t\\t:\", train_metric[\"Recall\"])\n",
    "print(\"F1 Score \\t:\", train_metric[\"F1 Score\"])\n",
    "\n",
    "print() # New Line\n",
    "\n",
    "# Calculate general metrics for the test set\n",
    "print(\"**Test Set Metrics**\")\n",
    "print(\"Accuracy \\t:\", test_metric[\"Accuracy\"])\n",
    "print(\"Precision \\t:\", test_metric[\"Precision\"])\n",
    "print(\"Recall \\t\\t:\", test_metric[\"Recall\"])\n",
    "print(\"F1 Score \\t:\", test_metric[\"F1 Score\"])"
   ]
  },
  {
   "cell_type": "markdown",
   "id": "f8377922",
   "metadata": {},
   "source": [
    "## Comparing the above three sampling techniques"
   ]
  },
  {
   "cell_type": "markdown",
   "id": "f1df0b57",
   "metadata": {},
   "source": [
    "By analysing the data characteristics, we decide against using SMOTENC due to its sparse one-hot encoded columns ('type_of_meal_plan_meal plan 1' to 'room_type_reserved_room_type 7'). These sparse categorical features could make it challenging for SMOTENC to generate meaningful synthetic samples. Additionally, there may be highly non-linear relationships between features and the target variable, which may further complicate SMOTENC's effectiveness."
   ]
  },
  {
   "cell_type": "markdown",
   "id": "7UU-mIxodFW4",
   "metadata": {
    "id": "7UU-mIxodFW4"
   },
   "source": [
    "Comparing the performance of oversamping and undersampling, undersampling excels in terms of a higher F1 score.  This shows that undersampling can effectively capture relevant information even with a smaller number of samples. Additionally, data resulting from undersampling demands fewer computational resources compared to data obtained through oversampling techniques. Therefore, we decide to apply undersampling on our dataset to solve the imbalance."
   ]
  },
  {
   "cell_type": "code",
   "execution_count": 47,
   "id": "yCtRlw7ebJWw",
   "metadata": {
    "executionInfo": {
     "elapsed": 1028,
     "status": "ok",
     "timestamp": 1711773197973,
     "user": {
      "displayName": "Hanyu Li ang",
      "userId": "09066099950385300078"
     },
     "user_tz": -480
    },
    "id": "yCtRlw7ebJWw"
   },
   "outputs": [],
   "source": [
    "# Save undersampled data for future model training\n",
    "X_train_under_resampled.to_csv('Data/X_train_undersampled_data.csv', index=False)\n",
    "y_train_under_resampled.to_csv('Data/y_train_undersampled_data.csv', index=False)"
   ]
  }
 ],
 "metadata": {
  "colab": {
   "provenance": []
  },
  "kernelspec": {
   "display_name": "Python 3 (ipykernel)",
   "language": "python",
   "name": "python3"
  },
  "language_info": {
   "codemirror_mode": {
    "name": "ipython",
    "version": 3
   },
   "file_extension": ".py",
   "mimetype": "text/x-python",
   "name": "python",
   "nbconvert_exporter": "python",
   "pygments_lexer": "ipython3",
   "version": "3.8.5"
  }
 },
 "nbformat": 4,
 "nbformat_minor": 5
}
